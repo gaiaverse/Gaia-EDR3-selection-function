{
 "cells": [
  {
   "cell_type": "code",
   "execution_count": 1,
   "metadata": {},
   "outputs": [],
   "source": [
    "%load_ext autoreload\n",
    "%autoreload 2"
   ]
  },
  {
   "cell_type": "code",
   "execution_count": 2,
   "metadata": {},
   "outputs": [],
   "source": [
    "import sys\n",
    "import numpy as np, healpy as hp, scipy.stats\n",
    "import h5py, tqdm\n",
    "import scipy"
   ]
  },
  {
   "cell_type": "code",
   "execution_count": 3,
   "metadata": {},
   "outputs": [],
   "source": [
    "sys.path.append('/home/andy/Documents/Projects/EDR3_selection/Gaia-EDR3-selection-function/Python/')\n",
    "from GenerateSphHarm_decomposed import sphharm_sum_quick, sphharm_sum_truth"
   ]
  },
  {
   "cell_type": "markdown",
   "metadata": {},
   "source": [
    "# Runtime tests"
   ]
  },
  {
   "cell_type": "code",
   "execution_count": 4,
   "metadata": {},
   "outputs": [],
   "source": [
    "nside=128; lmax=85\n",
    "data = {}\n",
    "with h5py.File('/data/asfe2/Projects/gaia_edr3/sphericalharmonics_decomposed_nside{0}_lmax{1}.h5'.format(nside,lmax), 'r') as hf:\n",
    "    for key in hf.keys():\n",
    "        data[key] = hf[key][...]"
   ]
  },
  {
   "cell_type": "code",
   "execution_count": 5,
   "metadata": {},
   "outputs": [],
   "source": [
    "alm = np.random.rand(len(data['m']))"
   ]
  },
  {
   "cell_type": "code",
   "execution_count": 6,
   "metadata": {},
   "outputs": [],
   "source": [
    "Nring = data['lambda'].shape[1]\n",
    "F = np.zeros((2*lmax+1,Nring))"
   ]
  },
  {
   "cell_type": "code",
   "execution_count": 7,
   "metadata": {},
   "outputs": [
    {
     "name": "stdout",
     "output_type": "stream",
     "text": [
      "CPU times: user 944 ms, sys: 0 ns, total: 944 ms\n",
      "Wall time: 946 ms\n"
     ]
    },
    {
     "data": {
      "text/plain": [
       "10863.915126475224"
      ]
     },
     "execution_count": 7,
     "metadata": {},
     "output_type": "execute_result"
    }
   ],
   "source": [
    "%time sphharm_sum_quick(alm, data['lambda'], data['azimuth'], data['m'],\\\n",
    "                        lmax, data['jpix'], Nring, F)"
   ]
  },
  {
   "cell_type": "code",
   "execution_count": 8,
   "metadata": {},
   "outputs": [
    {
     "name": "stdout",
     "output_type": "stream",
     "text": [
      "459 ms ± 12.2 ms per loop (mean ± std. dev. of 7 runs, 1 loop each)\n"
     ]
    }
   ],
   "source": [
    "%timeit sphharm_sum_quick(alm, data['lambda'], data['azimuth'], data['m'],\\\n",
    "                        lmax, data['jpix'], Nring, F)"
   ]
  },
  {
   "cell_type": "code",
   "execution_count": null,
   "metadata": {},
   "outputs": [],
   "source": []
  },
  {
   "cell_type": "code",
   "execution_count": null,
   "metadata": {},
   "outputs": [],
   "source": []
  },
  {
   "cell_type": "code",
   "execution_count": 6,
   "metadata": {},
   "outputs": [
    {
     "name": "stderr",
     "output_type": "stream",
     "text": [
      "100%|██████████| 961/961 [01:37<00:00,  9.89it/s]"
     ]
    },
    {
     "name": "stdout",
     "output_type": "stream",
     "text": [
      "CPU times: user 1min 36s, sys: 208 ms, total: 1min 37s\n",
      "Wall time: 1min 37s\n"
     ]
    },
    {
     "name": "stderr",
     "output_type": "stream",
     "text": [
      "\n"
     ]
    },
    {
     "data": {
      "text/plain": [
       "26341.65389367123"
      ]
     },
     "execution_count": 6,
     "metadata": {},
     "output_type": "execute_result"
    }
   ],
   "source": [
    "%time sphharm_sum_truth(alm, nside, lmax)"
   ]
  },
  {
   "cell_type": "code",
   "execution_count": null,
   "metadata": {},
   "outputs": [],
   "source": []
  },
  {
   "cell_type": "code",
   "execution_count": null,
   "metadata": {},
   "outputs": [],
   "source": []
  },
  {
   "cell_type": "markdown",
   "metadata": {},
   "source": [
    "# Spherical harmonic recurrence"
   ]
  },
  {
   "cell_type": "code",
   "execution_count": 95,
   "metadata": {},
   "outputs": [
    {
     "name": "stderr",
     "output_type": "stream",
     "text": [
      "100%|██████████| 36/36 [00:00<00:00, 19668.48it/s]\n"
     ]
    }
   ],
   "source": [
    "nside = 1\n",
    "lmax = 5\n",
    "Npix = hp.nside2npix(nside)\n",
    "\n",
    "# Form the l's and m's\n",
    "l = np.concatenate([np.repeat(_l,2*_l+1) for _l in range(lmax+1)]).astype(np.int)\n",
    "m = np.concatenate([np.arange(-_l,_l+1e-9) for _l in range(lmax+1)]).astype(np.int)\n",
    "l_hp,m_hp = hp.sphtfunc.Alm.getlm(lmax=lmax)\n",
    "Nmodes = int((lmax+1)**2)\n",
    "Nmodes_healpy = int((lmax+1)*(lmax+2)/2)\n",
    "\n",
    "# Ring idxs of pixels with phi=0\n",
    "theta, phi = hp.pix2ang(nside, np.arange(hp.nside2npix(nside)))\n",
    "theta_ring, jpix = np.unique(theta, return_inverse=True)\n",
    "\n",
    "# Generate Lambda\n",
    "alm_hp = np.zeros(Nmodes_healpy)\n",
    "_lambda_true = np.zeros((Nmodes, 4*nside-1))\n",
    "for i,(_l,_m) in enumerate(zip(tqdm.tqdm(l),m)):\n",
    "    _lambda_true[i] = (-1)**np.abs(_m) * np.real( scipy.special.sph_harm(np.abs(_m), _l, theta_ring*0., theta_ring) )"
   ]
  },
  {
   "cell_type": "code",
   "execution_count": 96,
   "metadata": {},
   "outputs": [
    {
     "data": {
      "text/plain": [
       "array([[ 2.82094792e-01,  2.82094792e-01,  2.82094792e-01],\n",
       "       [ 2.57516135e-01,  3.45494149e-01,  2.57516135e-01],\n",
       "       [ 3.25735008e-01, -0.00000000e+00, -3.25735008e-01],\n",
       "       [ 2.57516135e-01,  3.45494149e-01,  2.57516135e-01],\n",
       "       [ 2.14596779e-01,  3.86274202e-01,  2.14596779e-01],\n",
       "       [ 3.83882388e-01, -0.00000000e+00, -3.83882388e-01],\n",
       "       [ 1.05130522e-01, -3.15391565e-01,  1.05130522e-01],\n",
       "       [ 3.83882388e-01, -0.00000000e+00, -3.83882388e-01],\n",
       "       [ 2.14596779e-01,  3.86274202e-01,  2.14596779e-01],\n",
       "       [ 1.72766821e-01,  4.17223824e-01,  1.72766821e-01],\n",
       "       [ 3.78513139e-01, -0.00000000e+00, -3.78513139e-01],\n",
       "       [ 2.94414128e-01, -3.23180184e-01,  2.94414128e-01],\n",
       "       [-1.93498839e-01, -3.80841001e-17,  1.93498839e-01],\n",
       "       [ 2.94414128e-01, -3.23180184e-01,  2.94414128e-01],\n",
       "       [ 3.78513139e-01, -0.00000000e+00, -3.78513139e-01],\n",
       "       [ 1.72766821e-01,  4.17223824e-01,  1.72766821e-01],\n",
       "       [ 1.36584164e-01,  4.42532692e-01,  1.36584164e-01],\n",
       "       [ 3.45533641e-01, -0.00000000e+00, -3.45533641e-01],\n",
       "       [ 3.92342109e-01, -3.34523272e-01,  3.92342109e-01],\n",
       "       [ 2.61198881e-02, -4.05555434e-17, -2.61198881e-02],\n",
       "       [-3.61760451e-01,  3.17356641e-01, -3.61760451e-01],\n",
       "       [ 2.61198881e-02, -4.05555434e-17, -2.61198881e-02],\n",
       "       [ 3.92342109e-01, -3.34523272e-01,  3.92342109e-01],\n",
       "       [ 3.45533641e-01, -0.00000000e+00, -3.45533641e-01],\n",
       "       [ 1.36584164e-01,  4.42532692e-01,  1.36584164e-01],\n",
       "       [ 1.06772753e-01,  4.64132203e-01,  1.06772753e-01],\n",
       "       [ 3.01998950e-01, -0.00000000e+00, -3.01998950e-01],\n",
       "       [ 4.29752040e-01, -3.45943719e-01,  4.29752040e-01],\n",
       "       [ 2.09231010e-01, -4.44749165e-17, -2.09231010e-01],\n",
       "       [-2.56407094e-01,  3.20281649e-01, -2.56407094e-01],\n",
       "       [-2.85878566e-01,  7.68629231e-17,  2.85878566e-01],\n",
       "       [-2.56407094e-01,  3.20281649e-01, -2.56407094e-01],\n",
       "       [ 2.09231010e-01, -4.44749165e-17, -2.09231010e-01],\n",
       "       [ 4.29752040e-01, -3.45943719e-01,  4.29752040e-01],\n",
       "       [ 3.01998950e-01, -0.00000000e+00, -3.01998950e-01],\n",
       "       [ 1.06772753e-01,  4.64132203e-01,  1.06772753e-01]])"
      ]
     },
     "execution_count": 96,
     "metadata": {},
     "output_type": "execute_result"
    }
   ],
   "source": [
    "_lambda_true"
   ]
  },
  {
   "cell_type": "code",
   "execution_count": 59,
   "metadata": {},
   "outputs": [],
   "source": [
    "Nring = theta_ring.shape[0]"
   ]
  },
  {
   "cell_type": "code",
   "execution_count": 132,
   "metadata": {},
   "outputs": [],
   "source": [
    "# Generate Lambda\n",
    "_lambda = np.zeros((len(l), 4*nside-1))\n",
    "lval = -1\n",
    "x = np.cos(theta_ring)\n",
    "for i,(_l,_m) in enumerate(zip(l,m)):\n",
    "    if _l>lval:\n",
    "        lval = _l\n",
    "        if _l>1: _lambda_prev2 = _lambda_prev.copy()\n",
    "        if _l>0: \n",
    "            _lambda_prev = _lambda_now.copy()\n",
    "        _lambda_now = np.zeros((2*lval+1, Nring))\n",
    "\n",
    "    if _l<3:\n",
    "        _lambda_now[_m+_l] = (-1)**np.abs(_m) * np.real( scipy.special.sph_harm(np.abs(_m), _l, theta_ring*0., theta_ring) )\n",
    "    else:\n",
    "        if _m==-_l:\n",
    "            _lambda_now[_m+_l] = -_lambda_prev[(_m+1)+(_l-1)] * np.sqrt((2*_l+1)/(2*_l))/(2*_l-1) * np.sqrt(1-x**2)/(2*_l)\n",
    "        elif _m==-_l+1:\n",
    "            _lambda_now[_m+_l] = x*_lambda_prev[_m+(_l-1)]\n",
    "        if np.abs(_m)<_l-1:\n",
    "            _lambda_now[_m+_l] = 1/(_l-1) * ( np.sqrt((2*_l+1)/(2*_l-1) * (_l-np.abs(_m))/(_l+np.abs(_m))) \\\n",
    "                                                                     * _lambda_prev[_m+_l-1] \\\n",
    "                                            + np.sqrt((2*_l+1)/(2*_l-3) * (_l-np.abs(_m))/(_l+np.abs(_m)) \n",
    "                                                                     * (_l-np.abs(_m)-1)/(_l+np.abs(_m)-1)) \n",
    "                                                                     * _lambda_prev2[_m+_l-2] )\n",
    "        elif _m==_l-1:\n",
    "            _lambda_now[_m+_l] = _lambda_prev[_m+(_l-1)] * np.sqrt(2*_l+1)*x\n",
    "        elif _m==_l:\n",
    "            _lambda_now[_m+_l] = _lambda_prev[_m+_l-2] * np.sqrt((2*_l+1)/(2*_l))*np.sqrt(1-x**2)\n",
    "\n",
    "            \n",
    "    _lambda[i] = _lambda_now[_m+_l]"
   ]
  },
  {
   "cell_type": "code",
   "execution_count": 133,
   "metadata": {},
   "outputs": [
    {
     "data": {
      "text/plain": [
       "[(0.0, 0, 0),\n",
       " (0.0, 1, -1),\n",
       " (0.0, 1, 0),\n",
       " (0.0, 1, 1),\n",
       " (0.0, 2, -2),\n",
       " (0.0, 2, -1),\n",
       " (0.0, 2, 0),\n",
       " (0.0, 2, 1),\n",
       " (0.0, 2, 2),\n",
       " (0.17852571466502434, 3, -3),\n",
       " (0.23544862015188614, 3, -2),\n",
       " (0.05352984153038051, 3, -1),\n",
       " (0.5044791162792299, 3, 0),\n",
       " (0.05352984153038051, 3, 1),\n",
       " (5.551115123125783e-17, 3, 2),\n",
       " (5.551115123125783e-17, 3, 3),\n",
       " (0.1365028642370528, 4, -4),\n",
       " (0.3493729039681121, 4, -3),\n",
       " (0.33634336970069867, 4, -2),\n",
       " (0.13843540707421811, 4, -1),\n",
       " (0.5263157457633001, 4, 0),\n",
       " (0.13843540707421811, 4, 1),\n",
       " (0.2849642685521785, 4, 2),\n",
       " (1.6653345369377348e-16, 4, 3),\n",
       " (2.7755575615628914e-17, 4, 4),\n",
       " (0.10677345899209897, 5, -5),\n",
       " (0.3019447502034608, 5, -4),\n",
       " (0.4306236713451623, 5, -3),\n",
       " (0.18215266333390268, 5, -2),\n",
       " (0.34128668361799597, 5, -1),\n",
       " (0.4288178489958862, 5, 0),\n",
       " (0.34128668361799597, 5, 1),\n",
       " (0.1449671999791066, 5, 2),\n",
       " (0.37176962209768916, 5, 3),\n",
       " (5.551115123125783e-17, 5, 4),\n",
       " (2.7755575615628914e-17, 5, 5)]"
      ]
     },
     "execution_count": 133,
     "metadata": {},
     "output_type": "execute_result"
    }
   ],
   "source": [
    "list(zip(np.abs(_lambda-_lambda_true)[:,0], l, m))"
   ]
  },
  {
   "cell_type": "code",
   "execution_count": 102,
   "metadata": {},
   "outputs": [
    {
     "data": {
      "text/plain": [
       "(array([0, 1, 1, 1, 2, 2, 2, 2, 2, 3, 3, 3, 3, 3, 3, 3, 4, 4, 4, 4, 4, 4,\n",
       "        4, 4, 4, 5, 5, 5, 5, 5, 5, 5, 5, 5, 5, 5]),\n",
       " array([ 0, -1,  0,  1, -2, -1,  0,  1,  2, -3, -2, -1,  0,  1,  2,  3, -4,\n",
       "        -3, -2, -1,  0,  1,  2,  3,  4, -5, -4, -3, -2, -1,  0,  1,  2,  3,\n",
       "         4,  5]))"
      ]
     },
     "execution_count": 102,
     "metadata": {},
     "output_type": "execute_result"
    }
   ],
   "source": [
    "l, m"
   ]
  },
  {
   "cell_type": "code",
   "execution_count": null,
   "metadata": {},
   "outputs": [],
   "source": []
  },
  {
   "cell_type": "code",
   "execution_count": 22,
   "metadata": {},
   "outputs": [
    {
     "data": {
      "text/plain": [
       "(1, 31)"
      ]
     },
     "execution_count": 22,
     "metadata": {},
     "output_type": "execute_result"
    }
   ],
   "source": [
    "_lambda_now.shape"
   ]
  },
  {
   "cell_type": "code",
   "execution_count": 21,
   "metadata": {},
   "outputs": [
    {
     "data": {
      "text/plain": [
       "(121, 31)"
      ]
     },
     "execution_count": 21,
     "metadata": {},
     "output_type": "execute_result"
    }
   ],
   "source": [
    "_lambda.shape"
   ]
  },
  {
   "cell_type": "code",
   "execution_count": 18,
   "metadata": {},
   "outputs": [
    {
     "data": {
      "text/plain": [
       "(31,)"
      ]
     },
     "execution_count": 18,
     "metadata": {},
     "output_type": "execute_result"
    }
   ],
   "source": [
    "theta_ring.shape"
   ]
  }
 ],
 "metadata": {
  "kernelspec": {
   "display_name": "py3",
   "language": "python",
   "name": "py3"
  },
  "language_info": {
   "codemirror_mode": {
    "name": "ipython",
    "version": 3
   },
   "file_extension": ".py",
   "mimetype": "text/x-python",
   "name": "python",
   "nbconvert_exporter": "python",
   "pygments_lexer": "ipython3",
   "version": "3.5.2"
  }
 },
 "nbformat": 4,
 "nbformat_minor": 2
}
