{
 "cells": [
  {
   "cell_type": "code",
   "execution_count": 1,
   "metadata": {},
   "outputs": [],
   "source": [
    "%matplotlib widget\n",
    "import matplotlib.pyplot as plt\n",
    "import numpy as np\n",
    "from poisson_binomial import poisson_binomial_pmf,poisson_binomial_pmf_direct\n",
    "from scipy import stats,special"
   ]
  },
  {
   "cell_type": "code",
   "execution_count": null,
   "metadata": {},
   "outputs": [],
   "source": [
    "Nt = 8967691"
   ]
  },
  {
   "cell_type": "code",
   "execution_count": 2,
   "metadata": {},
   "outputs": [],
   "source": [
    "bins = np.array([0.0, 5.0, 16.0, 17.0])\n",
    "G = 0.5*(bins[1:]+bins[:-1])\n",
    "G2 = np.square(G[:,np.newaxis]-G[np.newaxis,:])"
   ]
  },
  {
   "cell_type": "code",
   "execution_count": 7,
   "metadata": {},
   "outputs": [],
   "source": [
    "lg = 3.4\n",
    "K = np.exp(-G2/2/lg**2)\n",
    "inv_K = np.linalg.inv(K)\n",
    "res1 = np.trace(np.dot(inv_K,G2*K/lg**3))\n",
    "res2 = np.diag(G2).sum()/lg**3"
   ]
  },
  {
   "cell_type": "code",
   "execution_count": 9,
   "metadata": {},
   "outputs": [
    {
     "data": {
      "text/plain": [
       "(-0.09893904429423411, 0.0)"
      ]
     },
     "execution_count": 9,
     "metadata": {},
     "output_type": "execute_result"
    }
   ],
   "source": [
    "res1,res2"
   ]
  },
  {
   "cell_type": "markdown",
   "metadata": {},
   "source": [
    "# Prior on mu - log prior and gradient"
   ]
  },
  {
   "cell_type": "code",
   "execution_count": null,
   "metadata": {},
   "outputs": [],
   "source": [
    "bins = np.array([0.0, 5.0, 16.0, 17.0])\n",
    "G = 0.5*(bins[1:]+bins[:-1])\n",
    "G2 = np.square(G[:,np.newaxis]-G[np.newaxis,:])\n",
    "M = bins.size-1\n",
    "\n",
    "mu = np.array([-1.2,3.4,0.3])\n",
    "m = 1.2\n",
    "tau2 = 0.3**2.0\n",
    "\n",
    "\n",
    "def log_prior(mu,m,tau2):\n",
    "    J = tau2*np.exp(-G2/2.0/m**2)\n",
    "    J_inv = np.linalg.pinv(J)\n",
    "    J_inv_mu = np.dot(J_inv,mu)\n",
    "    \n",
    "    lnP = +0.5*np.linalg.slogdet(J_inv)[1]-0.5*np.dot(mu.T,J_inv_mu) - (M/2)*np.log(2.0*np.pi)\n",
    "    \n",
    "    dJdm = J*G2/m**3\n",
    "    dJdtau2 = J/tau2\n",
    "\n",
    "    dlnPdm = -0.5*np.trace(np.dot(J_inv,dJdm))+0.5*np.dot(J_inv_mu.T,np.dot(dJdm,J_inv_mu))\n",
    "    dlnPdtau2 = -0.5*np.trace(np.dot(J_inv,dJdtau2))+0.5*np.dot(J_inv_mu.T,np.dot(dJdtau2,J_inv_mu))\n",
    "    dlnPdmu = -J_inv_mu\n",
    "    \n",
    "    return lnP, dlnPdmu, dlnPdm, dlnPdtau2\n",
    "\n",
    "def check(x,y,z):\n",
    "    print(x,y,(x-y)/z)\n",
    "\n",
    "lnP, dlnPdmu, dlnPdm, dlnPdtau2 = log_prior(mu,m,tau2)\n",
    "lnP_truth = stats.multivariate_normal(mean=np.zeros(M),cov=J,allow_singular=True).logpdf(mu)\n",
    "check(lnP,lnP_truth,lnP_truth)\n",
    "h = 1e-7\n",
    "\n",
    "lnP_dmu = log_prior(mu+h*np.array([1,0,0]),m,tau2)[0]\n",
    "check(lnP+h*dlnPdmu[0],lnP_dmu,lnP_truth)\n",
    "\n",
    "lnP_dm = log_prior(mu,m+h,tau2)[0]\n",
    "check(lnP+h*dlnPdm,lnP_dm,lnP_truth)\n",
    "\n",
    "lnP_dtau2 = log_prior(mu,m,tau2+h)[0]\n",
    "check(lnP+h*dlnPdtau2,lnP_dtau2,lnP_truth)"
   ]
  },
  {
   "cell_type": "markdown",
   "metadata": {},
   "source": [
    "# Prior on x"
   ]
  },
  {
   "cell_type": "code",
   "execution_count": 183,
   "metadata": {},
   "outputs": [
    {
     "data": {
      "text/plain": [
       "True"
      ]
     },
     "execution_count": 183,
     "metadata": {},
     "output_type": "execute_result"
    }
   ],
   "source": [
    "Ng = 10\n",
    "Nt = 15\n",
    "x = np.random.randn(Ng*Nt,1)\n",
    "mu = np.arange(Ng)/10.0\n",
    "Y = x.reshape((Ng,Nt)) - mu.reshape((Ng,1))\n",
    "\n",
    "t = np.arange(Nt)\n",
    "lt = 10.3\n",
    "tau = np.abs(t[:,np.newaxis]-t[np.newaxis,:])\n",
    "K = np.exp(-tau/lt)\n",
    "invK = np.linalg.pinv(K)\n",
    "dK_dlt = tau*K/lt/lt\n",
    "result = np.einsum('ij,jk,kl->il',Y,invK,dK_dlt)\n",
    "u = np.exp(-1/lt)\n",
    "u2 = u*u\n",
    "\n",
    "power_u = np.power(u,np.arange(Nt))\n",
    "\n",
    "approx = np.zeros((Ng,Nt))\n",
    "\n",
    "for i in range(Ng):\n",
    "    for l in range(Nt):\n",
    "        #approx[i,l] =  (Y[i,0]*np.power(u,l+2) + Y[i,-1]*np.power(u,Nt-l+1) - (1.0+u*u)*Y[i,l])/(1.0-u*u)\n",
    "        approx[i,l] =  (u2*Y[i,0]*power_u[l] + u2*Y[i,-1]*power_u[Nt-l-1] - (1.0+u2)*Y[i,l])/(1.0-u2)\n",
    "        for j in range(Nt):\n",
    "            approx[i,l] += Y[i,j]*power_u[np.abs(l-j)]\n",
    "approx = approx / (lt*lt)\n",
    "#print(result)\n",
    "#print(approx)\n",
    "np.allclose(result,approx)"
   ]
  },
  {
   "cell_type": "code",
   "execution_count": 342,
   "metadata": {},
   "outputs": [],
   "source": [
    "from numba import njit\n",
    "from math import ceil\n",
    "\n",
    "@njit\n",
    "def func_approx(Ng,Nt,lt,Y,result):\n",
    "    \n",
    "    u = np.exp(-1/lt)\n",
    "    u2 = u*u\n",
    "    power_u = np.power(u,np.arange(Nt))\n",
    "    \n",
    "    lt2 = lt*lt\n",
    "    \n",
    "    for i in range(Ng):\n",
    "        for l in range(Nt):\n",
    "            res =  (u2*Y[i,0]*power_u[l] + u2*Y[i,-1]*power_u[Nt-l-1] - (1.0+u2)*Y[i,l])/(1.0-u2)\n",
    "            for j in range(Nt):\n",
    "                res += Y[i,j]*power_u[abs(l-j)]\n",
    "            result[i,l] = res/lt2\n",
    "            \n",
    "@njit\n",
    "def func_truncate(Ng,Nt,lt,Y,result,log_eps=np.log(1e-16)):\n",
    "    \n",
    "    u = np.exp(-1/lt)\n",
    "    u2 = u*u\n",
    "    \n",
    "    M = 1+ceil(-lt*log_eps)\n",
    "    \n",
    "    power_u = np.power(u,np.arange(M))\n",
    "    \n",
    "    lt2 = lt*lt\n",
    "    \n",
    "    for i in range(Ng):\n",
    "        \n",
    "        for l in range(Nt):\n",
    "            \n",
    "            res =  - (1.0+u2)*Y[i,l]/(1.0-u2)\n",
    "            \n",
    "            if l < M:\n",
    "                res += u2*Y[i,0]*power_u[l]/(1.0-u2)\n",
    "                \n",
    "            if Nt-l-1 < M:\n",
    "                res += u2*Y[i,-1]*power_u[Nt-l-1]/(1.0-u2)\n",
    "            \n",
    "            #res = (u2*( Y[i,0]*power_u[min(M,l)] + Y[i,-1]*power_u[min(M,Nt-l-1)] ) - (1.0+u2)*Y[i,l])/(1.0-u2)\n",
    "            \n",
    "            for j in range(max(0,l-M),min(Nt,l+M)):\n",
    "                res += Y[i,j]*power_u[abs(l-j)]\n",
    "                \n",
    "            result[i,l] = res/lt2\n",
    "            \n",
    "def func_truth(Ng,Nt,lt,Y,result):\n",
    "    \n",
    "    t = np.arange(Nt)\n",
    "    tau = np.abs(t[:,np.newaxis]-t[np.newaxis,:])\n",
    "    K = np.exp(-tau/lt)\n",
    "    invK = np.linalg.pinv(K)\n",
    "    dK_dlt = tau*K/lt/lt\n",
    "    result[:] = np.einsum('ij,jk,kl->il',Y,invK,dK_dlt)"
   ]
  },
  {
   "cell_type": "code",
   "execution_count": 353,
   "metadata": {},
   "outputs": [],
   "source": [
    "Ng = 35\n",
    "Nt = 30000\n",
    "x = np.random.randn(Ng*Nt,1)\n",
    "mu = np.arange(Ng)/10.0\n",
    "Y = x.reshape((Ng,Nt)) - mu.reshape((Ng,1))\n",
    "lt = 10.2\n",
    "result_approx = np.zeros((Ng,Nt))\n",
    "result_truncate = np.zeros((Ng,Nt))\n",
    "result_truth = np.zeros((Ng,Nt))"
   ]
  },
  {
   "cell_type": "code",
   "execution_count": 354,
   "metadata": {},
   "outputs": [
    {
     "name": "stdout",
     "output_type": "stream",
     "text": [
      "CPU times: user 1min 2s, sys: 599 ms, total: 1min 2s\n",
      "Wall time: 1min 2s\n",
      "CPU times: user 1.16 s, sys: 11.2 ms, total: 1.17 s\n",
      "Wall time: 1.17 s\n",
      "True\n"
     ]
    }
   ],
   "source": [
    "if Nt < 250:\n",
    "    %time func_approx(Ng,Nt,lt,Y,result_approx)\n",
    "    %time func_truncate(Ng,Nt,lt,Y,result_truncate)\n",
    "    %time func_truth(Ng,Nt,lt,Y,result_truth)\n",
    "    #%timeit func_approx(Ng,Nt,lt,Y,result_approx)\n",
    "    print(np.allclose(result_approx,result_truth),np.allclose(result_truncate,result_truth),np.allclose(result_approx,result_truncate))\n",
    "elif Nt < 30000+1e-10:\n",
    "    %time func_approx(Ng,Nt,lt,Y,result_approx)\n",
    "    %time func_truncate(Ng,Nt,lt,Y,result_truncate)\n",
    "    print(np.allclose(result_approx,result_truncate))\n",
    "else:\n",
    "    %time func_truncate(Ng,Nt,lt,Y,result_truncate)"
   ]
  },
  {
   "cell_type": "code",
   "execution_count": 339,
   "metadata": {},
   "outputs": [
    {
     "data": {
      "text/plain": [
       "array([[ 0.08710309, -0.05681015,  0.00729948, ..., -0.10865136,\n",
       "         0.04155819, -0.05323901],\n",
       "       [ 0.04839903, -0.18979308, -0.05632268, ..., -0.03737061,\n",
       "        -0.16274004,  0.01148076],\n",
       "       [-0.05105099,  0.10290865,  0.09382653, ..., -0.06585921,\n",
       "         0.0741678 ,  0.03547565],\n",
       "       ...,\n",
       "       [-0.23365156, -0.08251317, -0.05427989, ..., -0.24204967,\n",
       "        -0.16892817, -0.14597519],\n",
       "       [-0.18173588, -0.05047941, -0.22704194, ..., -0.12162819,\n",
       "        -0.05768479, -0.21454671],\n",
       "       [-0.16950705, -0.17122475, -0.16266835, ..., -0.16915538,\n",
       "        -0.31607717, -0.13251984]])"
      ]
     },
     "execution_count": 339,
     "metadata": {},
     "output_type": "execute_result"
    }
   ],
   "source": [
    "result_truncate"
   ]
  },
  {
   "cell_type": "code",
   "execution_count": 283,
   "metadata": {},
   "outputs": [
    {
     "data": {
      "text/plain": [
       "array([[-2.18720904e-04, -4.27300373e-02, -1.21643508e-01, ...,\n",
       "         1.05849731e-01, -1.37187966e-01, -1.47060371e-01],\n",
       "       [-5.80000271e-03, -7.43333522e-02, -1.27239138e-01, ...,\n",
       "         1.00124092e-01,  5.07317459e-02, -1.41964840e-01],\n",
       "       [ 3.98712167e-02,  1.24647729e-01, -4.10619007e-02, ...,\n",
       "        -1.47172456e-02, -1.13837435e-01, -5.45681374e-02],\n",
       "       ...,\n",
       "       [-1.91659039e-01, -2.45775481e-01, -2.46969719e-01, ...,\n",
       "        -6.96517647e-02, -6.52374356e-02, -4.09968623e-03],\n",
       "       [-2.01496463e-01, -1.48768802e-01, -1.77069512e-01, ...,\n",
       "        -7.09227940e-04, -1.04280434e-01, -3.13293782e-02],\n",
       "       [-1.54498931e-01, -8.96307892e-02, -7.97093827e-02, ...,\n",
       "         8.36113795e-02,  4.10608546e-02, -3.88361987e-02]])"
      ]
     },
     "execution_count": 283,
     "metadata": {},
     "output_type": "execute_result"
    }
   ],
   "source": [
    "result_truncate"
   ]
  },
  {
   "cell_type": "code",
   "execution_count": 262,
   "metadata": {},
   "outputs": [
    {
     "data": {
      "text/plain": [
       "(True, False)"
      ]
     },
     "execution_count": 262,
     "metadata": {},
     "output_type": "execute_result"
    }
   ],
   "source": []
  },
  {
   "cell_type": "code",
   "execution_count": 200,
   "metadata": {},
   "outputs": [
    {
     "data": {
      "text/plain": [
       "array([[0., 0., 0., 0., 0., 0., 0., 0., 0., 0., 0., 0., 0., 0., 0.],\n",
       "       [0., 0., 0., 0., 0., 0., 0., 0., 0., 0., 0., 0., 0., 0., 0.],\n",
       "       [0., 0., 0., 0., 0., 0., 0., 0., 0., 0., 0., 0., 0., 0., 0.],\n",
       "       [0., 0., 0., 0., 0., 0., 0., 0., 0., 0., 0., 0., 0., 0., 0.],\n",
       "       [0., 0., 0., 0., 0., 0., 0., 0., 0., 0., 0., 0., 0., 0., 0.],\n",
       "       [0., 0., 0., 0., 0., 0., 0., 0., 0., 0., 0., 0., 0., 0., 0.],\n",
       "       [0., 0., 0., 0., 0., 0., 0., 0., 0., 0., 0., 0., 0., 0., 0.],\n",
       "       [0., 0., 0., 0., 0., 0., 0., 0., 0., 0., 0., 0., 0., 0., 0.],\n",
       "       [0., 0., 0., 0., 0., 0., 0., 0., 0., 0., 0., 0., 0., 0., 0.],\n",
       "       [0., 0., 0., 0., 0., 0., 0., 0., 0., 0., 0., 0., 0., 0., 0.]])"
      ]
     },
     "execution_count": 200,
     "metadata": {},
     "output_type": "execute_result"
    }
   ],
   "source": [
    "result_truth"
   ]
  },
  {
   "cell_type": "code",
   "execution_count": 199,
   "metadata": {},
   "outputs": [
    {
     "data": {
      "text/plain": [
       "array([[-0.01946621,  0.07082986,  0.10609276,  0.04901776, -0.0972679 ,\n",
       "         0.01213148, -0.03757926, -0.00733172,  0.04793834, -0.07750527,\n",
       "        -0.1337639 ,  0.05988404, -0.0600959 , -0.10255377,  0.05842416],\n",
       "       [-0.03863774,  0.00414771,  0.01570791,  0.03646353,  0.0212866 ,\n",
       "        -0.20488202,  0.13845745,  0.07788925, -0.11499758,  0.10544695,\n",
       "         0.20727208,  0.05911946,  0.03389747,  0.02637368, -0.03943151],\n",
       "       [-0.01718417, -0.08022838, -0.2135082 , -0.03328361, -0.02564966,\n",
       "        -0.25226414, -0.03566143, -0.0356083 , -0.08127559, -0.04841506,\n",
       "        -0.11015697, -0.13063095,  0.02194498, -0.04596701,  0.02840173],\n",
       "       [-0.02533952,  0.03935182,  0.13197137, -0.01040914, -0.11228363,\n",
       "        -0.12852019, -0.02209008, -0.14851542, -0.12068226,  0.04882719,\n",
       "         0.08576215, -0.02497621,  0.2358873 , -0.20301883,  0.01795215],\n",
       "       [ 0.02096934, -0.11402032, -0.06683039, -0.09117287, -0.11270815,\n",
       "        -0.149073  ,  0.08311172, -0.01414105,  0.12771911,  0.06779436,\n",
       "        -0.1529669 ,  0.02921737, -0.12454526,  0.02015719, -0.00911926],\n",
       "       [-0.04798357, -0.00979923,  0.05715335,  0.05183848,  0.1576702 ,\n",
       "         0.0303875 ,  0.08920828, -0.04208705, -0.08359491,  0.22606642,\n",
       "         0.08142329, -0.07429487,  0.20571734,  0.04832225, -0.06978799],\n",
       "       [-0.08672148,  0.24663656,  0.06560024,  0.08447913,  0.05239235,\n",
       "         0.04045411, -0.0459408 , -0.14334832,  0.05630904, -0.03762103,\n",
       "        -0.13010324,  0.06794419, -0.03046808, -0.0606705 , -0.01654883],\n",
       "       [-0.05245026, -0.02982663,  0.00820519, -0.05318297,  0.05466919,\n",
       "        -0.15629338, -0.20612806,  0.01266096,  0.00468645,  0.11748618,\n",
       "         0.00156884,  0.05788622, -0.11633978,  0.00222102, -0.02209712],\n",
       "       [ 0.04278794, -0.00358856, -0.22574081,  0.03713159, -0.21168314,\n",
       "        -0.03877151, -0.07368728, -0.08462023, -0.04203429, -0.03751081,\n",
       "         0.11155386,  0.02364544, -0.05530402,  0.02986141, -0.02695807],\n",
       "       [-0.01685467,  0.05653609,  0.032757  ,  0.04674109,  0.08390918,\n",
       "        -0.17630889,  0.02687858, -0.13629487, -0.25028629, -0.0208297 ,\n",
       "         0.1016178 ,  0.0853721 ,  0.00952617,  0.17806894, -0.0581571 ]])"
      ]
     },
     "execution_count": 199,
     "metadata": {},
     "output_type": "execute_result"
    }
   ],
   "source": [
    "result_approx"
   ]
  },
  {
   "cell_type": "code",
   "execution_count": 160,
   "metadata": {},
   "outputs": [
    {
     "name": "stdout",
     "output_type": "stream",
     "text": [
      "[0.82351398 0.90747671 1.         0.90747671 0.82351398]\n",
      "-3.0515827081819777\n"
     ]
    }
   ],
   "source": [
    "l=2\n",
    "i=3\n",
    "print(np.power(u,np.abs(l-np.arange(Nt))))\n",
    "print(np.sum(Y[i,:]*np.power(u,np.abs(l-np.arange(Nt)))))"
   ]
  },
  {
   "cell_type": "code",
   "execution_count": 166,
   "metadata": {},
   "outputs": [
    {
     "name": "stdout",
     "output_type": "stream",
     "text": [
      "[1.         0.90747671 0.82351398 0.74731975 0.67817527]\n"
     ]
    },
    {
     "data": {
      "text/plain": [
       "array([0.82351398, 0.74731975, 0.67817527, 1.        , 0.90747671])"
      ]
     },
     "execution_count": 166,
     "metadata": {},
     "output_type": "execute_result"
    }
   ],
   "source": [
    "print(power_u)\n",
    "np.roll(power_u,-l)"
   ]
  },
  {
   "cell_type": "code",
   "execution_count": 153,
   "metadata": {},
   "outputs": [
    {
     "data": {
      "text/plain": [
       "array([1.        , 0.90747671, 0.82351398, 0.74731975, 0.67817527])"
      ]
     },
     "execution_count": 153,
     "metadata": {},
     "output_type": "execute_result"
    }
   ],
   "source": [
    "power_u"
   ]
  },
  {
   "cell_type": "code",
   "execution_count": 91,
   "metadata": {},
   "outputs": [
    {
     "data": {
      "text/plain": [
       "0.005695335314333618"
      ]
     },
     "execution_count": 91,
     "metadata": {},
     "output_type": "execute_result"
    }
   ],
   "source": [
    "((1-u*u)*np.sum(Y[0,:]*np.power(u,np.arange(Nt)))-Y[0,0]+Y[0,-1]*np.power(u,Nt+1))/ (lt*lt*(1-u*u))"
   ]
  },
  {
   "cell_type": "code",
   "execution_count": 9,
   "metadata": {},
   "outputs": [
    {
     "name": "stdout",
     "output_type": "stream",
     "text": [
      "62.7 ns ± 1.27 ns per loop (mean ± std. dev. of 7 runs, 10000000 loops each)\n"
     ]
    }
   ],
   "source": [
    "%timeit lg*lg*lg"
   ]
  },
  {
   "cell_type": "code",
   "execution_count": 137,
   "metadata": {},
   "outputs": [
    {
     "name": "stdout",
     "output_type": "stream",
     "text": [
      "5 2 4 3 2\n",
      "5 3 3 2 1\n",
      "5 4 2 1 0\n",
      "5 5 1 0 1\n",
      "5 6 0 1 2\n",
      "5 7 1 2 3\n",
      "5 8 2 3 4\n",
      "5 9 3 4 5\n",
      "5 10 4 5 6\n"
     ]
    }
   ],
   "source": [
    "l = 5\n",
    "N = 12\n",
    "for j in range(2,N-1):\n",
    "    print(l,j,np.abs(j-1-l),np.abs(j-l),np.abs(j+1-l))"
   ]
  },
  {
   "cell_type": "code",
   "execution_count": 357,
   "metadata": {},
   "outputs": [],
   "source": [
    "@njit\n",
    "def func_invKgYinvKt(Ng,Nt,lt,invKgY,invKgYinvKt):\n",
    "\n",
    "    u = np.exp(-1.0/lt)\n",
    "    u2 = u*u\n",
    "    oneplusu2 = 1.0 + u2\n",
    "    oneoveroneminusu2 = 1.0 / ( 1.0 - u2 )\n",
    "    \n",
    "    for ig in range(Ng):\n",
    "        invKgYinvKt[ig,0] = (invKgY[ig,0] - u * invKgY[ig,1])*oneoveroneminusu2\n",
    "        invKgYinvKt[ig,-1] = (invKgY[ig,-1] - u * invKgY[ig,-2])*oneoveroneminusu2\n",
    "        for it in range(1,Nt-1):\n",
    "            invKgYinvKt[ig,it] = ( oneplusu2 * invKgY[ig,it] - u * ( invKgY[ig,it-1] + invKgY[ig,it+1] ) )*oneoveroneminusu2\n",
    "            \n",
    "            \n",
    "@njit\n",
    "def func_YJt(Ng,Nt,lt,Y,result,log_eps=np.log(1e-16)):\n",
    "    \n",
    "    u = np.exp(-1/lt)\n",
    "    u2 = u*u\n",
    "    \n",
    "    M = 1+ceil(-lt*log_eps)\n",
    "    \n",
    "    power_u = np.power(u,np.arange(M))\n",
    "    \n",
    "    lt2 = lt*lt\n",
    "    \n",
    "    for i in range(Ng):\n",
    "        \n",
    "        for l in range(Nt):\n",
    "            \n",
    "            res =  - (1.0+u2)*Y[i,l]/(1.0-u2)\n",
    "            \n",
    "            if l < M:\n",
    "                res += u2*Y[i,0]*power_u[l]/(1.0-u2)\n",
    "                \n",
    "            if Nt-l-1 < M:\n",
    "                res += u2*Y[i,-1]*power_u[Nt-l-1]/(1.0-u2)\n",
    "            \n",
    "            #res = (u2*( Y[i,0]*power_u[min(M,l)] + Y[i,-1]*power_u[min(M,Nt-l-1)] ) - (1.0+u2)*Y[i,l])/(1.0-u2)\n",
    "            \n",
    "            for j in range(max(0,l-M),min(Nt,l+M)):\n",
    "                res += Y[i,j]*power_u[abs(l-j)]\n",
    "                \n",
    "            result[i,l] = res/lt2\n",
    "    \n",
    "\n",
    "def log_prior_x(x,mu,sigma2,lt,lg,G2,Ng,Nt):\n",
    "    \n",
    "    # X is a (Ng,Nt) matrix\n",
    "    # mu is a (Ng,) vector\n",
    "    # sigma2, lt and lg are scalars\n",
    "    # G2 is a (Ng,Ng) matrix\n",
    "    \n",
    "    Y = x.reshape((Ng,Nt)) - mu.reshape((Ng,1))\n",
    "    \n",
    "    Kg = np.exp(-G2/2/lg/lg)\n",
    "    dKg_dlg = G2*Kg/lg/lg/lg\n",
    "    Jg = np.linalg.solve(Kg,dKg_dlg)\n",
    "    invKgY = np.linalg.solve(Kg,Y)\n",
    "    \n",
    "    invKgYinvKt = np.zeros((Ng,Nt))\n",
    "    func_invKgYinvKt(Ng,Nt,lt,invKgY,invKgYinvKt)\n",
    "    \n",
    "    logdetKg = np.linalg.slogdet(Kg)[1]\n",
    "    logdetinvKt = -(Nt-1.0)*np.log( 1.0 - u2 )\n",
    "    TrJg =  np.trace(Jg)\n",
    "    TrJt = -2.0*(Nt-1.0)*u2/(1.0-u2)\n",
    "    \n",
    "    Y_invKgYinvKt = (Y*invKgYinvKt).sum()\n",
    "    \n",
    "    JgTY = np.dot(Jg.T,Y)\n",
    "    JgTY_invKgYinvKt = (JgTY*invKgYinvKt).sum()\n",
    "    \n",
    "    YJt = np.zeros((Ng,Nt))\n",
    "    func_YJt(Ng,Nt,lt,Y,YJt,log_eps=np.log(1e-16))\n",
    "    TJt_invKgYinvKt = (YJt*invKgYinvKt).sum()\n",
    "    \n",
    "    lnP = -Ng*Nt*np.log(2.0*np.pi*sigma2)/2.0 + Ng*logdetinvKt/2.0 - Nt*logdetKg/2.0 - Y_invKgYinvKt/2.0/sigma2\n",
    "    \n",
    "    dlnP_dX = -invKgYinvKt/sigma2\n",
    "    dlnP_dx = dlnP_dX.ravel()\n",
    "    dlnP_dmu = -dlnP_dX.sum(axis=1)\n",
    "    dlnP_dsigma2 = -Ng*Nt/2.0/sigma2 + Y_invKgYinvKt/2.0/sigma2/sigma2\n",
    "    dlnP_dlt = -Ng*TrJt/2.0 + TJt_invKgYinvKt/2.0/sigma2\n",
    "    dlnP_dlg = -Nt*TrJg/2.0 + JgTY_invKgYinvKt/2.0/sigma2\n",
    "    \n",
    "    return lnP, dlnP_dx, dlnP_dmu, dlnP_dsigma2, dlnP_dlt, dlnP_dlg\n"
   ]
  },
  {
   "cell_type": "code",
   "execution_count": null,
   "metadata": {},
   "outputs": [],
   "source": [
    "\n",
    "G = \n",
    "Ng = 35\n",
    "Nt = 300\n",
    "x = np.random.randn(Ng*Nt,1)\n",
    "mu = np.arange(Ng)/10.0\n",
    "Y = x.reshape((Ng,Nt)) - mu.reshape((Ng,1))\n",
    "sigma2, lt, lg = 1.2,10.2,1.3\n",
    "\n"
   ]
  },
  {
   "cell_type": "markdown",
   "metadata": {},
   "source": [
    "# Investigating priors on hyperparameters"
   ]
  },
  {
   "cell_type": "markdown",
   "metadata": {},
   "source": [
    "### Lengthscale"
   ]
  },
  {
   "cell_type": "code",
   "execution_count": null,
   "metadata": {},
   "outputs": [],
   "source": [
    "plt.figure()\n",
    "x = np.linspace(0.1,10,10001)\n",
    "\n",
    "# InvGamma(5,5)\n",
    "plt.plot(x,stats.invgamma(a=1.0,scale=2.0).pdf(x))\n",
    "plt.yscale('log')"
   ]
  },
  {
   "cell_type": "markdown",
   "metadata": {},
   "source": [
    "### Variance"
   ]
  },
  {
   "cell_type": "code",
   "execution_count": null,
   "metadata": {},
   "outputs": [],
   "source": [
    "plt.figure()\n",
    "x = np.linspace(0.1,10,10001)\n",
    "\n",
    "# InvGamma(5,5)\n",
    "plt.plot(x,stats.gamma(a=1.0,scale=1.0).pdf(x))\n",
    "plt.yscale('log')"
   ]
  },
  {
   "cell_type": "markdown",
   "metadata": {},
   "source": [
    "# Global"
   ]
  },
  {
   "cell_type": "code",
   "execution_count": 61,
   "metadata": {},
   "outputs": [],
   "source": []
  },
  {
   "cell_type": "code",
   "execution_count": 37,
   "metadata": {},
   "outputs": [
    {
     "data": {
      "text/plain": [
       "0"
      ]
     },
     "execution_count": 37,
     "metadata": {},
     "output_type": "execute_result"
    }
   ],
   "source": [
    "stats.rv_discrete(values=(np.arange(stars[i]['n']+1),pmf)).rvs()"
   ]
  },
  {
   "cell_type": "code",
   "execution_count": 58,
   "metadata": {},
   "outputs": [
    {
     "data": {
      "text/plain": [
       "2"
      ]
     },
     "execution_count": 58,
     "metadata": {},
     "output_type": "execute_result"
    }
   ],
   "source": []
  },
  {
   "cell_type": "code",
   "execution_count": 5,
   "metadata": {},
   "outputs": [
    {
     "data": {
      "text/plain": [
       "array([0.0024, 0.0808, 0.5712, 0.3456])"
      ]
     },
     "execution_count": 5,
     "metadata": {},
     "output_type": "execute_result"
    }
   ],
   "source": [
    "poisson_binomial_pmf_direct(np.array([0.4,0.9,0.96]))"
   ]
  },
  {
   "cell_type": "code",
   "execution_count": 78,
   "metadata": {},
   "outputs": [],
   "source": [
    "a = np.random.randn(3, 3)\n",
    "b = np.random.randn(3, 1)\n",
    "c = a*b"
   ]
  },
  {
   "cell_type": "code",
   "execution_count": 79,
   "metadata": {},
   "outputs": [
    {
     "data": {
      "text/plain": [
       "(3, 3)"
      ]
     },
     "execution_count": 79,
     "metadata": {},
     "output_type": "execute_result"
    }
   ],
   "source": [
    "c.shape"
   ]
  },
  {
   "cell_type": "code",
   "execution_count": 63,
   "metadata": {},
   "outputs": [
    {
     "ename": "SyntaxError",
     "evalue": "invalid syntax (<ipython-input-63-2fe86dc56c0d>, line 94)",
     "output_type": "error",
     "traceback": [
      "\u001b[0;36m  File \u001b[0;32m\"<ipython-input-63-2fe86dc56c0d>\"\u001b[0;36m, line \u001b[0;32m94\u001b[0m\n\u001b[0;31m    L, dLdp =\u001b[0m\n\u001b[0m              ^\u001b[0m\n\u001b[0;31mSyntaxError\u001b[0m\u001b[0;31m:\u001b[0m invalid syntax\n"
     ]
    }
   ],
   "source": [
    "#bins = np.array([0.0, 5.0, 16.0, 17.0, 18.0, 18.2, 18.4, 18.6, 18.8, 19.0, 19.1, 19.2, 19.3, 19.4, 19.5, 19.6, 19.7, 19.8, 19.9, 20.0, 20.1, 20.2, 20.3, 20.4, 20.5, 20.6, 20.7, 20.8, 20.9, 21.0, 21.1, 21.2, 21.3, 21.4, 21.5, 25.0])\n",
    "bins = np.array([-2.0,-1.0,0.0, 1.0, 2.0])\n",
    "G = 0.5*(bins[1:]+bins[:-1])\n",
    "G_squared = np.square(G[:,np.newaxis]-G[np.newaxis,:])\n",
    "M = bins.size-1\n",
    "N = 10\n",
    "p_groundtruth = special.expit(-G[:,np.newaxis]*np.ones((M,N)))\n",
    "p_groundtruth[:,:3] = 0.0\n",
    "\n",
    "stars = {}\n",
    "times = np.arange(N).astype(np.int)\n",
    "N_star = 123\n",
    "for i in range(N_star):\n",
    "    stars[i] = {}\n",
    "    stars[i]['n'] = np.random.randint(N)\n",
    "    stars[i]['g'] = np.random.randint(M)\n",
    "    stars[i]['t'] = np.sort(np.random.choice(times,stars[i]['n'],replace=False))\n",
    "    probs = p_groundtruth[stars[i]['g'],stars[i]['t']]\n",
    "    pmf = poisson_binomial_pmf_direct(probs)\n",
    "    stars[i]['k'] = np.random.choice(np.arange(0, stars[i]['n']+1), p=pmf)\n",
    "    \n",
    "#tmp_args = np.concatenate([np.array([4.0,0.5,4.0,0.5]),np.ones(N_bins),np.random.normal(0,1,N_bins*N_times)])\n",
    "\n",
    "def log_prior_x(x,mu,l,sigma2):\n",
    "    \n",
    "    expml = np.exp(-l)\n",
    "    expm2l = expml*expml\n",
    "    \n",
    "    d = x-mu\n",
    "    \n",
    "    A = d[0]**2+d[-1]**2\n",
    "    B = np.sum(d[1:-1]**2)\n",
    "    C = d[:-1]*d[1:]\n",
    "    D = d[0] + d[-1]\n",
    "    E = np.sum(d[1:-1])\n",
    "    \n",
    "    lnP = -N/2*np.log(sigma2) - (N-1)/2*np.log(1-expm2l) - N/2*np.log(2*np.pi) - ( A + (1+expm2l)*B - 2*expml*C )/(2*sigma2*(1-expm2l))\n",
    "    \n",
    "    dlnPdl = ((N-1)*sigma2*expm2l*(1-expm2l) + C*expml*(1+expm2l) - expm2l*(A+2*B))/(l*l*(1-expm2l)*(1-expm2l))\n",
    "    \n",
    "    dlnPdsigma2 = -N/2/sigma2 + ( A + (1+expm2l)*B - 2*expml*C )/(2*sigma2*sigma2*(1-expm2l))\n",
    "    \n",
    "    dlnPdmu =  (D+(1-expml)*E)/(sigma2*(1+xpml))\n",
    "    \n",
    "    dlnPdx = np.zeros(N)\n",
    "    dlnPdx[0] = -(d[0]-expml*d[1])/(sigma2*(1-expm2l))\n",
    "    for i in range(1,N-1):\n",
    "        dlnPdx[i] = -((1+expm2l)*d[i]-expml*(d[i-1]+d[i+1]))/(sigma2*(1-expm2l))\n",
    "    dlnPdx[-1] = -(d[-1]-expml*d[-2])/(sigma2*(1-expm2l))\n",
    "    \n",
    "    return lnP, dlnPdx, dlnPdmu, dlnPdl, dlnPdsigma2\n",
    "\n",
    "def log_prior_mu(mu,m,tau2):\n",
    "    \n",
    "    J = tau2*np.exp(-G_squared/2.0/m**2)\n",
    "    J_inv = np.linalg.pinv(J)\n",
    "    J_inv_mu = np.dot(J_inv,mu)\n",
    "    \n",
    "    lnQ = +0.5*np.linalg.slogdet(J_inv)[1]-0.5*np.dot(mu.T,J_inv_mu) - (M/2)*np.log(2.0*np.pi)\n",
    "    \n",
    "    dJdm = J*G2/m**3\n",
    "    dJdtau2 = J/tau2\n",
    "\n",
    "    dlnQdm = -0.5*np.trace(np.dot(J_inv,dJdm))+0.5*np.dot(J_inv_mu.T,np.dot(dJdm,J_inv_mu))\n",
    "    dlnQdtau2 = -0.5*np.trace(np.dot(J_inv,dJdtau2))+0.5*np.dot(J_inv_mu.T,np.dot(dJdtau2,J_inv_mu))\n",
    "    dlnQdmu = -J_inv_mu\n",
    "    \n",
    "    return lnQ, dlnQdmu, dlnQdm, dlnQdtau2\n",
    "\n",
    "def log_prior_lengthscale(l):\n",
    "    \n",
    "    # InvGamma(1,2)\n",
    "    \n",
    "    lnA = np.log(2.0)-2.0*np.log(l)-2.0/l\n",
    "    \n",
    "    dlnAdl = 2.0*(1.0-l)/l/l\n",
    "    \n",
    "    return lnA, dlnAdl\n",
    "\n",
    "def log_prior_variance(sigma2):\n",
    "    \n",
    "    # Gamma(1,1)\n",
    "    \n",
    "    lnS = - sigma2\n",
    "    \n",
    "    dlnSdsigma2 = - 1.0\n",
    "    \n",
    "    return lnS, dlnSsigma2\n",
    "\n",
    "def log_likelihood(p):\n",
    "    lnL, dlnLdp = 0.0, np.zeros(M*N)\n",
    "    \n",
    "    for star in stars:\n",
    "        L, dLdp = 0,0\n",
    "\n",
    "def log_posterior(args):\n",
    "    \n",
    "    # Unpack parameters\n",
    "    lnl, lnsigma2, lnm, lntau2 = args[:4]\n",
    "    mu = args[4:4+M]\n",
    "    x = args[4+M:]\n",
    "    \n",
    "    # Transform parameters\n",
    "    l, sigma2, m, tau2 = np.exp(lnl), np.exp(lnsigma2), np.exp(lnm), np.exp(lntau2)\n",
    "    p = 1.0/(1.0+np.exp(-x))\n",
    "    \n",
    "    ##### Priors\n",
    "    \n",
    "    ### Initialise values\n",
    "    \n",
    "    lnF = 0.0\n",
    "    dlnFdl ,dlnFdm = 0.0, 0.0\n",
    "    dlnFdsigma2, dlnFdtau2 = 0.0, 0.0\n",
    "    dlnFdmu = np.zeros(M)\n",
    "    dlnFdx = np.zeros(M*N)\n",
    "    dlnFdp = np.zeros(M*N)\n",
    "    \n",
    "    \n",
    "    ### Prior on x\n",
    "    \n",
    "    for g in range(M):\n",
    "        \n",
    "        # Calculate quantities\n",
    "        lnP, dlnPdx, dlnPdmu, dlnPdl, dlnPdsigma2 = log_prior_x(x[g*N:(g+1)*N],mu[g],l,sigma2)\n",
    "        \n",
    "        # Increment log posterior\n",
    "        lnF += lnP\n",
    "        \n",
    "        # Increment gradients\n",
    "        dlnFdx[g*N:(g+1)*N] += dlnPdx\n",
    "        dlnFdmu[g] += dlnPdmu\n",
    "        dlnFdl += dlnPdl\n",
    "        dlnFdsigma2 += dlnPdsigma2\n",
    "    \n",
    "    ### Prior on mu\n",
    "    \n",
    "    # Calculate quantities\n",
    "    lnQ, dlnQdmu, dlnQdm, dlnQdtau2 = log_prior_mu(mu,m,tau2)\n",
    "    \n",
    "    # Increment log posterior\n",
    "    lnF += lnQ\n",
    "    \n",
    "    # Increment gradients\n",
    "    dlnFdmu += dlnQdmu\n",
    "    dlnFdm += dlnQdm\n",
    "    dlnFdtau2 += dlnQdtau2\n",
    "    \n",
    "    \n",
    "    ### Prior on l and m\n",
    "    \n",
    "    # Calculate quantities\n",
    "    lnA, dlnAdl = log_prior_lengthscale(l)\n",
    "    lnB, dlnBdm = log_prior_lengthscale(m)\n",
    "    \n",
    "    # Increment log posterior\n",
    "    lnF += lnA\n",
    "    lnF += lnB\n",
    "    \n",
    "    # Increment gradients\n",
    "    dlnFdl += dlnAdl\n",
    "    dlnFdm += dlnBdm\n",
    "    \n",
    "    ### Prior on sigma2 and tau2\n",
    "    \n",
    "    # Calculate quantities\n",
    "    lnS, dlnSdsigma2 = log_prior_variance(sigma2)\n",
    "    lnT, dlnTdtau2 = log_prior_variance(tau2)\n",
    "    \n",
    "    # Increment log posterior\n",
    "    lnF += lnS\n",
    "    lnF += lnT\n",
    "    \n",
    "    # Increment gradients\n",
    "    dlnFdsigma2 += dlnSdsigma2\n",
    "    dlnFdtau2 += dlnTdtau2\n",
    "    \n",
    "    ##### Likelihood\n",
    "    \n",
    "    # Calculate quantities\n",
    "    lnL, dlnLdp = log_likelihood(p)\n",
    "        \n",
    "    # Increment log posterior\n",
    "    lnF += lnL\n",
    "    \n",
    "    # Increment gradients\n",
    "    dlnFdp += dlnLdp\n",
    "    \n",
    "    ##### Construct gradient with respect to input parameters\n",
    "    \n",
    "    # Initialise\n",
    "    dlnFdargs = np.zeros(4+M+M*N)\n",
    "    \n",
    "    # Correct for log-parameterisation\n",
    "    dlnFdlnl = l*dlnFdl\n",
    "    dlnFdlnm = m*dlnFdm\n",
    "    dlnFdlnsigma2 = sigma2*dlnFdsigma2\n",
    "    dlnFdlntau2 = tau2*dlnFdtau2\n",
    "    \n",
    "    # Correct for logit-parameterisation\n",
    "    dlnFdx += (1.0/p+1.0/(1.0-p))*dlnFdp\n",
    "    \n",
    "    # Fill in values\n",
    "    dlnFdargs[0] = dlnFdlnl\n",
    "    dlnFdargs[1] = dlnFdlnsigma2\n",
    "    dlnFdargs[2] = dlnFdlnm\n",
    "    dlnFdargs[3] = dlnFdlntau2\n",
    "    dlnFdargs[4:4+M] = dlnFdmu\n",
    "    dlnFdargs[4+M:] = dlnFdx\n",
    "    \n",
    "    return lnF, dlnFdargs\n",
    "    "
   ]
  },
  {
   "cell_type": "markdown",
   "metadata": {},
   "source": [
    "# Poisson binomial likelihood"
   ]
  },
  {
   "cell_type": "code",
   "execution_count": 72,
   "metadata": {},
   "outputs": [
    {
     "name": "stdout",
     "output_type": "stream",
     "text": [
      "[0.01008 0.12388 0.3353  0.3484  0.153   0.02772 0.00162] 1.0\n",
      "[0.01008 0.12388 0.3353  0.3484  0.153   0.02772 0.00162]\n"
     ]
    }
   ],
   "source": [
    "p = np.array([0.3,0.6,0.2,0.1,0.9,0.5])\n",
    "n = p.size\n",
    "pmf = np.zeros(n+1)\n",
    "poisson_binomial_pmf(p,n,pmf)\n",
    "print(pmf,pmf.sum())\n",
    "print(poisson_binomial_pmf_direct(p))"
   ]
  },
  {
   "cell_type": "code",
   "execution_count": 66,
   "metadata": {},
   "outputs": [
    {
     "name": "stdout",
     "output_type": "stream",
     "text": [
      "0.027719999999999998\n",
      "0.02773152\n",
      "0.02773152\n"
     ]
    }
   ],
   "source": [
    "from numba import njit\n",
    "            \n",
    "@njit\n",
    "def poisson_binomial_likelihood(k,probs,probslen,pmf,subpmf,likelihood,gradient):\n",
    "    \n",
    "    # Compute the pmf\n",
    "    poisson_binomial_pmf(probs,probslen,pmf)\n",
    "    likelihood[0] = pmf[k]\n",
    "    \n",
    "    \n",
    "    if k == 0:\n",
    "        gradient_first_term,gradient_second_term=0.0,1.0\n",
    "    elif k == probslen:\n",
    "        gradient_first_term,gradient_second_term=1.0,0.0\n",
    "    else:\n",
    "        gradient_first_term,gradient_second_term=1.0,1.0\n",
    "    \n",
    "    for i in range(probslen):\n",
    "        \n",
    "        p = probs[i]\n",
    "        oneoveroneminusp = 1.0/(1.0-p)\n",
    "        \n",
    "        subpmf[0] = pmf[0]*oneoveroneminusp\n",
    "        for j in range(1,probslen):\n",
    "            subpmf[j] = (pmf[j]-subpmf[j-1]*p)*oneoveroneminusp\n",
    "        subpmf[probslen-1] = pmf[probslen]/p\n",
    "        \n",
    "        gradient[i] = gradient_first_term*subpmf[k-1]-gradient_second_term*subpmf[k]\n",
    "        \n",
    "    \n",
    "\n",
    "k = 5\n",
    "subpmf = np.zeros(n)\n",
    "gradient = np.zeros(n)\n",
    "likelihood = np.zeros(1)\n",
    "poisson_binomial_likelihood(k,p,n,pmf,subpmf,likelihood,gradient)\n",
    "\n",
    "dp = 1e-4\n",
    "print(likelihood[0])\n",
    "print(poisson_binomial_pmf_easy(p+dp*np.array([0,0,0,1,0,0]))[k])\n",
    "print(likelihood[0]+dp*gradient[3])"
   ]
  },
  {
   "cell_type": "code",
   "execution_count": null,
   "metadata": {},
   "outputs": [],
   "source": [
    "@njit\n",
    "def poisson_binomial_log_likelihood(k,probs,probslen,pmf,subpmf,gradient):\n",
    "    \n",
    "    # Compute the pmf\n",
    "    poisson_binomial_pmf(probs,probslen,pmf)\n",
    "    likelihood = pmf[k]\n",
    "    log_likelihood = np.log(likelihood)\n",
    "    \n",
    "    \n",
    "    if k == 0:\n",
    "        gradient_first_term,gradient_second_term=0.0,1.0\n",
    "    elif k == probslen:\n",
    "        gradient_first_term,gradient_second_term=1.0,0.0\n",
    "    else:\n",
    "        gradient_first_term,gradient_second_term=1.0,1.0\n",
    "    \n",
    "    for i in range(probslen):\n",
    "        \n",
    "        p = probs[i]\n",
    "        oneoveroneminusp = 1.0/(1.0-p)\n",
    "        \n",
    "        subpmf[0] = pmf[0]*oneoveroneminusp\n",
    "        for j in range(1,probslen):\n",
    "            subpmf[j] = (pmf[j]-subpmf[j-1]*p)*oneoveroneminusp\n",
    "        subpmf[probslen-1] = pmf[probslen]/p\n",
    "        \n",
    "        gradient[i] = gradient_first_term*subpmf[k-1]-gradient_second_term*subpmf[k]\n",
    "        \n",
    "    return log_likelihood"
   ]
  },
  {
   "cell_type": "code",
   "execution_count": null,
   "metadata": {},
   "outputs": [],
   "source": []
  },
  {
   "cell_type": "code",
   "execution_count": null,
   "metadata": {},
   "outputs": [],
   "source": []
  },
  {
   "cell_type": "code",
   "execution_count": null,
   "metadata": {},
   "outputs": [],
   "source": []
  },
  {
   "cell_type": "code",
   "execution_count": null,
   "metadata": {},
   "outputs": [],
   "source": []
  },
  {
   "cell_type": "code",
   "execution_count": null,
   "metadata": {},
   "outputs": [],
   "source": []
  },
  {
   "cell_type": "code",
   "execution_count": null,
   "metadata": {},
   "outputs": [],
   "source": [
    "dp = 1e-7*np.random.uniform(-1,1,6)\n",
    "print(likelihood[0])\n",
    "print(poisson_binomial_pmf_easy(p+dp)[k])\n",
    "print(likelihood[0]+np.dot(dp,gradient))"
   ]
  },
  {
   "cell_type": "code",
   "execution_count": null,
   "metadata": {},
   "outputs": [],
   "source": [
    "from numba import njit\n",
    "            \n",
    "@njit\n",
    "def poisson_binomial_log_likelihood(k,probs,probslen,pmf,subpmf,log_likelihood,gradient):\n",
    "    \n",
    "    # Compute the pmf\n",
    "    poisson_binomial_pmf(probs,probslen,pmf)\n",
    "    likelihood = pmf[k]\n",
    "    log_likelihood[0] = np.log(likelihood)\n",
    "    \n",
    "    \n",
    "    if k == 0:\n",
    "        gradient_first_term,gradient_second_term=0.0,1.0\n",
    "    elif k == probslen:\n",
    "        gradient_first_term,gradient_second_term=1.0,0.0\n",
    "    else:\n",
    "        gradient_first_term,gradient_second_term=1.0,1.0\n",
    "    \n",
    "    for i in range(probslen):\n",
    "        \n",
    "        p = probs[i]\n",
    "        oneoveroneminusp = 1.0/(1.0-p)\n",
    "        \n",
    "        subpmf[0] = pmf[0]*oneoveroneminusp\n",
    "        for j in range(1,probslen):\n",
    "            subpmf[j] = (pmf[j]-subpmf[j-1]*p)*oneoveroneminusp\n",
    "        subpmf[probslen-1] = pmf[probslen]/p\n",
    "        \n",
    "        gradient[i] = (gradient_first_term*subpmf[k-1]-gradient_second_term*subpmf[k])/likelihood\n",
    "        \n",
    "    \n",
    "\n",
    "k = 4\n",
    "subpmf = np.zeros(n)\n",
    "gradient = np.zeros(n)\n",
    "log_likelihood = np.zeros(1)\n",
    "poisson_binomial_log_likelihood(k,p,n,pmf,subpmf,log_likelihood,gradient)\n",
    "\n",
    "dp = 1e-7*np.random.uniform(-1,1,6)\n",
    "print(log_likelihood[0])\n",
    "print(np.log(poisson_binomial_pmf_easy(p+dp)[k]))\n",
    "print(log_likelihood[0]+np.dot(dp,gradient))"
   ]
  },
  {
   "cell_type": "code",
   "execution_count": 24,
   "metadata": {},
   "outputs": [
    {
     "name": "stdout",
     "output_type": "stream",
     "text": [
      "-1.2521411419973258\n",
      "-1.2521411419973254\n"
     ]
    }
   ],
   "source": [
    "dKt_dl = tau*K/l/l\n",
    "print(np.trace(np.dot(K_inv,dKt_dl)))\n",
    "print(-2*u*u*(N-1)/(1-u*u))\n",
    "    "
   ]
  },
  {
   "cell_type": "code",
   "execution_count": 23,
   "metadata": {},
   "outputs": [
    {
     "data": {
      "text/plain": [
       "(array([[0.        , 0.36787944, 0.27067057, 0.14936121, 0.07326256],\n",
       "        [0.36787944, 0.        , 0.36787944, 0.27067057, 0.14936121],\n",
       "        [0.27067057, 0.36787944, 0.        , 0.36787944, 0.27067057],\n",
       "        [0.14936121, 0.27067057, 0.36787944, 0.        , 0.36787944],\n",
       "        [0.07326256, 0.14936121, 0.27067057, 0.36787944, 0.        ]]),\n",
       " 0.36787944117144233)"
      ]
     },
     "execution_count": 23,
     "metadata": {},
     "output_type": "execute_result"
    }
   ],
   "source": [
    "dKt_dl,u"
   ]
  },
  {
   "cell_type": "code",
   "execution_count": 19,
   "metadata": {},
   "outputs": [
    {
     "name": "stdout",
     "output_type": "stream",
     "text": [
      "[[ 1.15651764 -0.42545906  0.          0.          0.        ]\n",
      " [-0.42545906  1.31303529 -0.42545906  0.          0.        ]\n",
      " [ 0.         -0.42545906  1.31303529 -0.42545906  0.        ]\n",
      " [ 0.          0.         -0.42545906  1.31303529 -0.42545906]\n",
      " [ 0.          0.          0.         -0.42545906  1.15651764]]\n",
      "1.7889946812194075\n",
      "[[ 1.15651764 -0.42545906  0.          0.          0.        ]\n",
      " [-0.42545906  1.31303529 -0.42545906  0.          0.        ]\n",
      " [ 0.         -0.42545906  1.31303529 -0.42545906  0.        ]\n",
      " [ 0.          0.         -0.42545906  1.31303529 -0.42545906]\n",
      " [ 0.          0.          0.         -0.42545906  1.15651764]]\n",
      "1.788994681219407\n"
     ]
    }
   ],
   "source": [
    "N = 5\n",
    "x = np.arange(N)\n",
    "l = 1.0\n",
    "tau = np.abs(x[:,np.newaxis]-x[np.newaxis,:])\n",
    "K = np.exp(-tau/l)\n",
    "K_inv = np.linalg.pinv(K)\n",
    "K_inv[np.abs(K_inv) < 1e-14] = 0.0\n",
    "print(K_inv)\n",
    "print(np.linalg.det(K_inv))\n",
    "u = np.exp(-1.0/l)\n",
    "a = 1\n",
    "b = 1+u*u\n",
    "c = -u\n",
    "#print(a,b,c)\n",
    "J_inv = np.zeros(K.shape)\n",
    "J_inv[0,0] = J_inv[-1,-1] = a\n",
    "for i in range(1,N-1):\n",
    "    J_inv[i,i] = b\n",
    "for i in range(0,N-1):\n",
    "    J_inv[i,i+1] = J_inv[i+1,i] = c\n",
    "J_inv /= 1-u*u\n",
    "print(J_inv)\n",
    "print(np.power(1/(1-u*u),N-1))"
   ]
  },
  {
   "cell_type": "code",
   "execution_count": 102,
   "metadata": {},
   "outputs": [
    {
     "ename": "LinAlgError",
     "evalue": "1-th leading minor of the array is not positive definite",
     "output_type": "error",
     "traceback": [
      "\u001b[0;31m---------------------------------------------------------------------------\u001b[0m",
      "\u001b[0;31mLinAlgError\u001b[0m                               Traceback (most recent call last)",
      "\u001b[0;32m<ipython-input-102-fb0200d5258d>\u001b[0m in \u001b[0;36m<module>\u001b[0;34m()\u001b[0m\n\u001b[0;32m----> 1\u001b[0;31m \u001b[0mslinalg\u001b[0m\u001b[0;34m.\u001b[0m\u001b[0mcholesky\u001b[0m\u001b[0;34m(\u001b[0m\u001b[0mG\u001b[0m\u001b[0;34m)\u001b[0m\u001b[0;34m\u001b[0m\u001b[0;34m\u001b[0m\u001b[0m\n\u001b[0m",
      "\u001b[0;32m/Users/douglasboubert/anaconda3/envs/gaiaedr3/lib/python3.7/site-packages/scipy/linalg/decomp_cholesky.py\u001b[0m in \u001b[0;36mcholesky\u001b[0;34m(a, lower, overwrite_a, check_finite)\u001b[0m\n\u001b[1;32m     87\u001b[0m     \"\"\"\n\u001b[1;32m     88\u001b[0m     c, lower = _cholesky(a, lower=lower, overwrite_a=overwrite_a, clean=True,\n\u001b[0;32m---> 89\u001b[0;31m                          check_finite=check_finite)\n\u001b[0m\u001b[1;32m     90\u001b[0m     \u001b[0;32mreturn\u001b[0m \u001b[0mc\u001b[0m\u001b[0;34m\u001b[0m\u001b[0;34m\u001b[0m\u001b[0m\n\u001b[1;32m     91\u001b[0m \u001b[0;34m\u001b[0m\u001b[0m\n",
      "\u001b[0;32m/Users/douglasboubert/anaconda3/envs/gaiaedr3/lib/python3.7/site-packages/scipy/linalg/decomp_cholesky.py\u001b[0m in \u001b[0;36m_cholesky\u001b[0;34m(a, lower, overwrite_a, clean, check_finite)\u001b[0m\n\u001b[1;32m     36\u001b[0m     \u001b[0;32mif\u001b[0m \u001b[0minfo\u001b[0m \u001b[0;34m>\u001b[0m \u001b[0;36m0\u001b[0m\u001b[0;34m:\u001b[0m\u001b[0;34m\u001b[0m\u001b[0;34m\u001b[0m\u001b[0m\n\u001b[1;32m     37\u001b[0m         raise LinAlgError(\"%d-th leading minor of the array is not positive \"\n\u001b[0;32m---> 38\u001b[0;31m                           \"definite\" % info)\n\u001b[0m\u001b[1;32m     39\u001b[0m     \u001b[0;32mif\u001b[0m \u001b[0minfo\u001b[0m \u001b[0;34m<\u001b[0m \u001b[0;36m0\u001b[0m\u001b[0;34m:\u001b[0m\u001b[0;34m\u001b[0m\u001b[0;34m\u001b[0m\u001b[0m\n\u001b[1;32m     40\u001b[0m         raise ValueError('LAPACK reported an illegal value in {}-th argument'\n",
      "\u001b[0;31mLinAlgError\u001b[0m: 1-th leading minor of the array is not positive definite"
     ]
    }
   ],
   "source": [
    "slinalg.cholesky(G)"
   ]
  },
  {
   "cell_type": "code",
   "execution_count": 99,
   "metadata": {},
   "outputs": [
    {
     "name": "stdout",
     "output_type": "stream",
     "text": [
      "[[ 3.92358517  4.59283433  0.79863201 -3.23369341 -5.77084919]\n",
      " [ 4.59283433  0.81199902  0.77154032 -1.81199902 -3.23369341]\n",
      " [ 0.79863201  0.77154032 -1.69054892  0.77154032  0.79863201]\n",
      " [-3.23369341 -1.81199902  0.77154032  0.81199902  4.59283433]\n",
      " [-5.77084919 -3.23369341  0.79863201  4.59283433  3.92358517]]\n"
     ]
    }
   ],
   "source": [
    "G = np.exp(-tau/l)*tau/l/l\n",
    "G_inv = np.linalg.pinv(G)\n",
    "print(G_inv)"
   ]
  },
  {
   "cell_type": "code",
   "execution_count": 29,
   "metadata": {},
   "outputs": [
    {
     "data": {
      "text/plain": [
       "array([[1.        , 0.36787944, 0.13533528, 0.04978707, 0.01969691],\n",
       "       [0.        , 1.        , 0.36787944, 0.13533528, 0.05354177],\n",
       "       [0.        , 0.        , 1.        , 0.36787944, 0.14554161],\n",
       "       [0.        , 0.        , 0.        , 1.        , 0.39562311],\n",
       "       [0.        , 0.        , 0.        , 0.        , 1.0754151 ]])"
      ]
     },
     "execution_count": 29,
     "metadata": {},
     "output_type": "execute_result"
    }
   ],
   "source": [
    "np.linalg.inv(np.linalg.cholesky(G)).T"
   ]
  },
  {
   "cell_type": "code",
   "execution_count": 48,
   "metadata": {},
   "outputs": [
    {
     "name": "stdout",
     "output_type": "stream",
     "text": [
      "[[ 1.0754151   0.          0.          0.          0.        ]\n",
      " [-0.39562311  1.0754151   0.          0.          0.        ]\n",
      " [ 0.         -0.39562311  1.0754151   0.          0.        ]\n",
      " [ 0.          0.         -0.39562311  1.0754151   0.        ]\n",
      " [ 0.          0.          0.         -0.39562311  1.        ]]\n",
      "[[ 1.          0.          0.          0.          0.        ]\n",
      " [-0.39562311  1.0754151   0.          0.          0.        ]\n",
      " [ 0.         -0.39562311  1.0754151   0.          0.        ]\n",
      " [ 0.          0.         -0.39562311  1.0754151   0.        ]\n",
      " [ 0.          0.          0.         -0.39562311  1.0754151 ]]\n"
     ]
    }
   ],
   "source": [
    "def print_matrix(X):\n",
    "    X[np.abs(X)<1e-14] = 0.0\n",
    "    print(X)\n",
    "print_matrix(np.linalg.cholesky(np.linalg.pinv(K)))\n",
    "print_matrix(np.linalg.pinv(np.linalg.cholesky(K)))"
   ]
  },
  {
   "cell_type": "code",
   "execution_count": 60,
   "metadata": {},
   "outputs": [],
   "source": [
    "from scipy import linalg as slinalg"
   ]
  },
  {
   "cell_type": "code",
   "execution_count": 89,
   "metadata": {},
   "outputs": [
    {
     "data": {
      "text/plain": [
       "array([[ 0.77459667, -0.25819889],\n",
       "       [ 0.        ,  0.57735027]])"
      ]
     },
     "execution_count": 89,
     "metadata": {},
     "output_type": "execute_result"
    }
   ],
   "source": [
    "slinalg.cholesky(inv_X)"
   ]
  },
  {
   "cell_type": "code",
   "execution_count": 96,
   "metadata": {},
   "outputs": [
    {
     "data": {
      "text/plain": [
       "array([[ 1.0754151 ,  0.        ,  0.        ,  0.        ,  0.        ],\n",
       "       [-0.39562311,  1.0754151 ,  0.        ,  0.        ,  0.        ],\n",
       "       [ 0.        , -0.39562311,  1.0754151 ,  0.        ,  0.        ],\n",
       "       [ 0.        ,  0.        , -0.39562311,  1.0754151 ,  0.        ],\n",
       "       [ 0.        ,  0.        ,  0.        , -0.39562311,  1.        ]])"
      ]
     },
     "execution_count": 96,
     "metadata": {},
     "output_type": "execute_result"
    }
   ],
   "source": [
    "np.linalg.cholesky(K_inv)"
   ]
  },
  {
   "cell_type": "code",
   "execution_count": 84,
   "metadata": {},
   "outputs": [
    {
     "name": "stdout",
     "output_type": "stream",
     "text": [
      "[[2 1]\n",
      " [1 3]]\n",
      "[[2. 1.]\n",
      " [1. 3.]]\n",
      "[[ 0.6 -0.2]\n",
      " [-0.2  0.4]]\n",
      "[[ 0.6 -0.2]\n",
      " [-0.2  0.4]]\n",
      "[[ 0.70710678  0.        ]\n",
      " [-0.31622777  0.63245553]]\n",
      "[[ 0.77459667  0.        ]\n",
      " [-0.25819889  0.57735027]]\n",
      "[[ 0.6 -0.2]\n",
      " [-0.2  0.4]]\n",
      "[[ 0.6 -0.2]\n",
      " [-0.2  0.4]]\n"
     ]
    }
   ],
   "source": [
    "X = np.array([[2,1],[1,3]])\n",
    "inv_X = np.linalg.inv(X)\n",
    "chol_X = np.linalg.cholesky(X)\n",
    "chol_inv_X = np.linalg.cholesky(inv_X)\n",
    "inv_chol_X = np.linalg.inv(chol_X)\n",
    "psuedo_chol_inv_X = inv_chol_X.T\n",
    "print(X)\n",
    "print(np.dot(chol_X,chol_X.T))\n",
    "print(inv_X)\n",
    "print(np.dot(chol_inv_X,chol_inv_X.T))\n",
    "print(inv_chol_X)\n",
    "print(chol_inv_X)\n",
    "print(np.dot(psuedo_chol_inv_X,psuedo_chol_inv_X.T))\n",
    "print(np.dot(chol_inv_X,chol_inv_X.T))"
   ]
  },
  {
   "cell_type": "code",
   "execution_count": 88,
   "metadata": {},
   "outputs": [
    {
     "data": {
      "text/plain": [
       "array([[ 0.70710678,  0.        ],\n",
       "       [-0.31622777,  0.63245553]])"
      ]
     },
     "execution_count": 88,
     "metadata": {},
     "output_type": "execute_result"
    }
   ],
   "source": [
    "inv_chol_X"
   ]
  },
  {
   "cell_type": "code",
   "execution_count": 69,
   "metadata": {},
   "outputs": [
    {
     "data": {
      "text/plain": [
       "array([[ 0.6, -0.2],\n",
       "       [-0.2,  0.4]])"
      ]
     },
     "execution_count": 69,
     "metadata": {},
     "output_type": "execute_result"
    }
   ],
   "source": [
    "np.dot(chol_inv_X,chol_inv_X.T)"
   ]
  },
  {
   "cell_type": "code",
   "execution_count": 70,
   "metadata": {},
   "outputs": [
    {
     "data": {
      "text/plain": [
       "array([[ 0.6, -0.2],\n",
       "       [-0.2,  0.4]])"
      ]
     },
     "execution_count": 70,
     "metadata": {},
     "output_type": "execute_result"
    }
   ],
   "source": [
    "np.dot(inv_chol_X.T,inv_chol_X)"
   ]
  },
  {
   "cell_type": "code",
   "execution_count": null,
   "metadata": {},
   "outputs": [],
   "source": []
  },
  {
   "cell_type": "code",
   "execution_count": 63,
   "metadata": {},
   "outputs": [
    {
     "data": {
      "text/plain": [
       "array([[ 0.70710678, -0.        ],\n",
       "       [-0.40824829,  0.81649658]])"
      ]
     },
     "execution_count": 63,
     "metadata": {},
     "output_type": "execute_result"
    }
   ],
   "source": [
    "slinalg.inv(slinalg.cholesky(X).T)"
   ]
  },
  {
   "cell_type": "code",
   "execution_count": 64,
   "metadata": {},
   "outputs": [
    {
     "data": {
      "text/plain": [
       "array([[ 0.81649658,  0.        ],\n",
       "       [-0.40824829,  0.70710678]])"
      ]
     },
     "execution_count": 64,
     "metadata": {},
     "output_type": "execute_result"
    }
   ],
   "source": [
    "slinalg.cholesky(slinalg.inv(X)).T"
   ]
  },
  {
   "cell_type": "code",
   "execution_count": null,
   "metadata": {},
   "outputs": [],
   "source": [
    "def true_det(i):\n",
    "    return np.linalg.det(K_inv[:i,:i])\n",
    "\n",
    "u = np.exp(1.0/l)\n",
    "i = 6\n",
    "print(np.power(u*u/(u*u-1),i))\n",
    "print(true_det(i))\n",
    "print(c*true_det(i-1)-a*a*true_det(i-2))"
   ]
  },
  {
   "cell_type": "code",
   "execution_count": null,
   "metadata": {},
   "outputs": [],
   "source": [
    "1-1.0/(u*u)"
   ]
  },
  {
   "cell_type": "code",
   "execution_count": null,
   "metadata": {},
   "outputs": [],
   "source": [
    "K_inv[:1+1,:1+1]"
   ]
  },
  {
   "cell_type": "code",
   "execution_count": null,
   "metadata": {},
   "outputs": [],
   "source": [
    "np.linalg.det(K_inv[:5,:5])"
   ]
  },
  {
   "cell_type": "code",
   "execution_count": null,
   "metadata": {},
   "outputs": [],
   "source": [
    "-np.exp(1.0/l)/(np.exp(2.0/l)-1)"
   ]
  },
  {
   "cell_type": "code",
   "execution_count": null,
   "metadata": {},
   "outputs": [],
   "source": [
    "np.exp(2.0/l)/(np.exp(2.0/l)-1)"
   ]
  },
  {
   "cell_type": "code",
   "execution_count": null,
   "metadata": {},
   "outputs": [],
   "source": []
  }
 ],
 "metadata": {
  "kernelspec": {
   "display_name": "Python [conda env:gaiaedr3]",
   "language": "python",
   "name": "conda-env-gaiaedr3-py"
  },
  "language_info": {
   "codemirror_mode": {
    "name": "ipython",
    "version": 3
   },
   "file_extension": ".py",
   "mimetype": "text/x-python",
   "name": "python",
   "nbconvert_exporter": "python",
   "pygments_lexer": "ipython3",
   "version": "3.7.9"
  }
 },
 "nbformat": 4,
 "nbformat_minor": 4
}
