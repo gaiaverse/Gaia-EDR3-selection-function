{
 "cells": [
  {
   "cell_type": "code",
   "execution_count": 123,
   "metadata": {},
   "outputs": [],
   "source": [
    "%matplotlib widget\n",
    "import matplotlib.pyplot as plt\n",
    "import numpy as np\n",
    "from poisson_binomial import poisson_binomial_pmf\n",
    "from scipy import stats"
   ]
  },
  {
   "cell_type": "markdown",
   "metadata": {},
   "source": [
    "# Prior on mu - log prior and gradient"
   ]
  },
  {
   "cell_type": "code",
   "execution_count": 216,
   "metadata": {},
   "outputs": [
    {
     "name": "stdout",
     "output_type": "stream",
     "text": [
      "-71.86707718447357 -71.86707718447353 5.932141088216752e-16\n",
      "-71.86707585114024 -71.86707585114029 -5.932141088216752e-16\n",
      "-71.86707718438562 -71.8670771843856 3.9547607254778346e-16\n",
      "-71.86699804871802 -71.8669980488068 -1.2354672506392755e-12\n"
     ]
    }
   ],
   "source": [
    "bins = np.array([0.0, 5.0, 16.0, 17.0])\n",
    "G = 0.5*(bins[1:]+bins[:-1])\n",
    "G2 = np.square(G[:,np.newaxis]-G[np.newaxis,:])\n",
    "M = bins.size-1\n",
    "\n",
    "mu = np.array([-1.2,3.4,0.3])\n",
    "m = 1.2\n",
    "tau2 = 0.3**2.0\n",
    "\n",
    "\n",
    "def log_prior(mu,m,tau2):\n",
    "    J = tau2*np.exp(-G2/2.0/m**2)\n",
    "    J_inv = np.linalg.pinv(J)\n",
    "    J_inv_mu = np.dot(J_inv,mu)\n",
    "    \n",
    "    lnP = +0.5*np.linalg.slogdet(J_inv)[1]-0.5*np.dot(mu.T,J_inv_mu) - (M/2)*np.log(2.0*np.pi)\n",
    "    \n",
    "    dJdm = J*G2/m**3\n",
    "    dJdtau2 = J/tau2\n",
    "\n",
    "    dlnPdm = -0.5*np.trace(np.dot(J_inv,dJdm))+0.5*np.dot(J_inv_mu.T,np.dot(dJdm,J_inv_mu))\n",
    "    dlnPdtau2 = -0.5*np.trace(np.dot(J_inv,dJdtau2))+0.5*np.dot(J_inv_mu.T,np.dot(dJdtau2,J_inv_mu))\n",
    "    dlnPdmu = -J_inv_mu\n",
    "    \n",
    "    return lnP, dlnPdmu, dlnPdm, dlnPdtau2\n",
    "\n",
    "def check(x,y,z):\n",
    "    print(x,y,(x-y)/z)\n",
    "\n",
    "lnP, dlnPdmu, dlnPdm, dlnPdtau2 = log_prior(mu,m,tau2)\n",
    "lnP_truth = stats.multivariate_normal(mean=np.zeros(M),cov=J,allow_singular=True).logpdf(mu)\n",
    "check(lnP,lnP_truth,lnP_truth)\n",
    "h = 1e-7\n",
    "\n",
    "lnP_dmu = log_prior(mu+h*np.array([1,0,0]),m,tau2)[0]\n",
    "check(lnP+h*dlnPdmu[0],lnP_dmu,lnP_truth)\n",
    "\n",
    "lnP_dm = log_prior(mu,m+h,tau2)[0]\n",
    "check(lnP+h*dlnPdm,lnP_dm,lnP_truth)\n",
    "\n",
    "lnP_dtau2 = log_prior(mu,m,tau2+h)[0]\n",
    "check(lnP+h*dlnPdtau2,lnP_dtau2,lnP_truth)"
   ]
  },
  {
   "cell_type": "markdown",
   "metadata": {},
   "source": [
    "# Global"
   ]
  },
  {
   "cell_type": "code",
   "execution_count": 218,
   "metadata": {},
   "outputs": [
    {
     "ename": "SyntaxError",
     "evalue": "invalid syntax (<ipython-input-218-a1c14bf2d7c3>, line 27)",
     "output_type": "error",
     "traceback": [
      "\u001b[0;36m  File \u001b[0;32m\"<ipython-input-218-a1c14bf2d7c3>\"\u001b[0;36m, line \u001b[0;32m27\u001b[0m\n\u001b[0;31m    log_likelihood np.dot(mu.T,)\u001b[0m\n\u001b[0m                    ^\u001b[0m\n\u001b[0;31mSyntaxError\u001b[0m\u001b[0;31m:\u001b[0m invalid syntax\n"
     ]
    }
   ],
   "source": [
    "#bins = np.array([0.0, 5.0, 16.0, 17.0, 18.0, 18.2, 18.4, 18.6, 18.8, 19.0, 19.1, 19.2, 19.3, 19.4, 19.5, 19.6, 19.7, 19.8, 19.9, 20.0, 20.1, 20.2, 20.3, 20.4, 20.5, 20.6, 20.7, 20.8, 20.9, 21.0, 21.1, 21.2, 21.3, 21.4, 21.5, 25.0])\n",
    "bins = np.array([0.0, 5.0, 16.0, 17.0])\n",
    "midbins = 0.5*(bins[1:]+bins[:-1])\n",
    "D2 = np.square(midbins[:,np.newaxis]-midbins[np.newaxis,:])\n",
    "N_bins = bins.size-1\n",
    "N_times = 1234\n",
    "\n",
    "tmp_args = np.concatenate([np.array([4.0,0.5,4.0,0.5]),np.ones(N_bins),np.random.normal(0,1,N_bins*N_times)])\n",
    "\n",
    "def global_log_likelihood(args):\n",
    "    \n",
    "    # Unpack parameters\n",
    "    log_l, log_sigma2, log_m, log_tau2 = args[:4]\n",
    "    mu = args[4:4+N_bins]\n",
    "    x = args[4+N_bins:]\n",
    "    \n",
    "    l2 = np.exp(-2.0*log_l)\n",
    "    sigma2 = np.exp(log_sigma2)\n",
    "    p = 1.0/(1.0+np.exp(-x))\n",
    "    \n",
    "    ##### Priors\n",
    "    log_likelihood = np.zeros(args.size)\n",
    "    \n",
    "    # mu prior\n",
    "    Sigma = sigm2*np.exp(-D2/l2/2.0)\n",
    "    Sigma_inverse = np.linalg.pinv(Sigma)\n",
    "    log_likelihood np.dot(mu.T,)\n",
    "    \n",
    "    # Pass mu, x and p out to the child processes\n",
    "    "
   ]
  },
  {
   "cell_type": "code",
   "execution_count": null,
   "metadata": {},
   "outputs": [],
   "source": []
  },
  {
   "cell_type": "code",
   "execution_count": null,
   "metadata": {},
   "outputs": [],
   "source": []
  },
  {
   "cell_type": "code",
   "execution_count": 3,
   "metadata": {},
   "outputs": [
    {
     "name": "stdout",
     "output_type": "stream",
     "text": [
      "[0.01008 0.12388 0.3353  0.3484  0.153   0.02772 0.00162] 1.0\n",
      "[0.01008 0.12388 0.3353  0.3484  0.153   0.02772 0.00162]\n"
     ]
    }
   ],
   "source": [
    "def poisson_binomial_pmf_easy(probs):\n",
    "    probslen = probs.size\n",
    "    result = np.zeros(probslen+1)\n",
    "    poisson_binomial_pmf(probs,probslen,result)\n",
    "    return result\n",
    "\n",
    "p = np.array([0.3,0.6,0.2,0.1,0.9,0.5])\n",
    "n = p.size\n",
    "pmf = np.zeros(n+1)\n",
    "poisson_binomial_pmf(p,n,pmf)\n",
    "print(pmf,pmf.sum())\n",
    "print(poisson_binomial_pmf_easy(p))"
   ]
  },
  {
   "cell_type": "code",
   "execution_count": 4,
   "metadata": {},
   "outputs": [],
   "source": [
    "from numba import njit\n",
    "\n",
    "@njit\n",
    "def poisson_binomial_likelihood(k,probs,probslen,pmf,subpmf,likelihood,gradient):\n",
    "    \n",
    "    # Compute the pmf\n",
    "    poisson_binomial_pmf(probs,probslen,pmf)\n",
    "    likelihood[0] = pmf[k]\n",
    "    \n",
    "    for i in range(probslen):\n",
    "        p = probs[i]\n",
    "        subpmf[0] = pmf[0]/(1.0-p)\n",
    "        for j in range(probslen-1):\n",
    "            subpmf[j] = (pmf[j]-subpmf[j-1]*p)/(1.0-p)\n",
    "        subpmf[probslen-1] = pmf[probslen-1]/p\n",
    "        gradient[i] = subpmf[k-1]-subpmf[k]\n",
    "    "
   ]
  },
  {
   "cell_type": "code",
   "execution_count": 7,
   "metadata": {},
   "outputs": [
    {
     "name": "stdout",
     "output_type": "stream",
     "text": [
      "0.027719999999999998\n",
      "0.02773152\n",
      "0.02773152\n"
     ]
    }
   ],
   "source": [
    "from numba import njit\n",
    "            \n",
    "@njit\n",
    "def poisson_binomial_likelihood(k,probs,probslen,pmf,subpmf,likelihood,gradient):\n",
    "    \n",
    "    # Compute the pmf\n",
    "    poisson_binomial_pmf(probs,probslen,pmf)\n",
    "    likelihood[0] = pmf[k]\n",
    "    \n",
    "    \n",
    "    if k == 0:\n",
    "        gradient_first_term,gradient_second_term=0.0,1.0\n",
    "    elif k == probslen:\n",
    "        gradient_first_term,gradient_second_term=1.0,0.0\n",
    "    else:\n",
    "        gradient_first_term,gradient_second_term=1.0,1.0\n",
    "    \n",
    "    for i in range(probslen):\n",
    "        \n",
    "        p = probs[i]\n",
    "        oneoveroneminusp = 1.0/(1.0-p)\n",
    "        \n",
    "        subpmf[0] = pmf[0]*oneoveroneminusp\n",
    "        for j in range(1,probslen):\n",
    "            subpmf[j] = (pmf[j]-subpmf[j-1]*p)*oneoveroneminusp\n",
    "        subpmf[probslen-1] = pmf[probslen]/p\n",
    "        \n",
    "        gradient[i] = gradient_first_term*subpmf[k-1]-gradient_second_term*subpmf[k]\n",
    "        \n",
    "    \n",
    "\n",
    "k = 5\n",
    "subpmf = np.zeros(n)\n",
    "gradient = np.zeros(n)\n",
    "likelihood = np.zeros(1)\n",
    "poisson_binomial_likelihood(k,p,n,pmf,subpmf,likelihood,gradient)\n",
    "\n",
    "dp = 1e-4\n",
    "print(likelihood[0])\n",
    "print(poisson_binomial_pmf_easy(p+dp*np.array([0,0,0,1,0,0]))[k])\n",
    "print(likelihood[0]+dp*gradient[3])"
   ]
  },
  {
   "cell_type": "code",
   "execution_count": 11,
   "metadata": {},
   "outputs": [
    {
     "name": "stdout",
     "output_type": "stream",
     "text": [
      "0.027719999999999998\n",
      "0.027720027559628026\n",
      "0.0277200275596198\n"
     ]
    }
   ],
   "source": [
    "dp = 1e-7*np.random.uniform(-1,1,6)\n",
    "print(likelihood[0])\n",
    "print(poisson_binomial_pmf_easy(p+dp)[k])\n",
    "print(likelihood[0]+np.dot(dp,gradient))"
   ]
  },
  {
   "cell_type": "code",
   "execution_count": 17,
   "metadata": {},
   "outputs": [
    {
     "name": "stdout",
     "output_type": "stream",
     "text": [
      "-1.8773173575897015\n",
      "-1.8773177694757819\n",
      "-1.877317769475694\n"
     ]
    }
   ],
   "source": [
    "from numba import njit\n",
    "            \n",
    "@njit\n",
    "def poisson_binomial_log_likelihood(k,probs,probslen,pmf,subpmf,log_likelihood,gradient):\n",
    "    \n",
    "    # Compute the pmf\n",
    "    poisson_binomial_pmf(probs,probslen,pmf)\n",
    "    likelihood = pmf[k]\n",
    "    log_likelihood[0] = np.log(likelihood)\n",
    "    \n",
    "    \n",
    "    if k == 0:\n",
    "        gradient_first_term,gradient_second_term=0.0,1.0\n",
    "    elif k == probslen:\n",
    "        gradient_first_term,gradient_second_term=1.0,0.0\n",
    "    else:\n",
    "        gradient_first_term,gradient_second_term=1.0,1.0\n",
    "    \n",
    "    for i in range(probslen):\n",
    "        \n",
    "        p = probs[i]\n",
    "        oneoveroneminusp = 1.0/(1.0-p)\n",
    "        \n",
    "        subpmf[0] = pmf[0]*oneoveroneminusp\n",
    "        for j in range(1,probslen):\n",
    "            subpmf[j] = (pmf[j]-subpmf[j-1]*p)*oneoveroneminusp\n",
    "        subpmf[probslen-1] = pmf[probslen]/p\n",
    "        \n",
    "        gradient[i] = (gradient_first_term*subpmf[k-1]-gradient_second_term*subpmf[k])/likelihood\n",
    "        \n",
    "    \n",
    "\n",
    "k = 4\n",
    "subpmf = np.zeros(n)\n",
    "gradient = np.zeros(n)\n",
    "log_likelihood = np.zeros(1)\n",
    "poisson_binomial_log_likelihood(k,p,n,pmf,subpmf,log_likelihood,gradient)\n",
    "\n",
    "dp = 1e-7*np.random.uniform(-1,1,6)\n",
    "print(log_likelihood[0])\n",
    "print(np.log(poisson_binomial_pmf_easy(p+dp)[k]))\n",
    "print(log_likelihood[0]+np.dot(dp,gradient))"
   ]
  },
  {
   "cell_type": "code",
   "execution_count": 21,
   "metadata": {},
   "outputs": [],
   "source": [
    "\n",
    "    \n",
    "    \n",
    "    "
   ]
  },
  {
   "cell_type": "code",
   "execution_count": 113,
   "metadata": {},
   "outputs": [
    {
     "name": "stdout",
     "output_type": "stream",
     "text": [
      "[[ 1.15651764 -0.42545906  0.          0.          0.        ]\n",
      " [-0.42545906  1.31303529 -0.42545906  0.          0.        ]\n",
      " [ 0.         -0.42545906  1.31303529 -0.42545906  0.        ]\n",
      " [ 0.          0.         -0.42545906  1.31303529 -0.42545906]\n",
      " [ 0.          0.          0.         -0.42545906  1.15651764]]\n",
      "1.7889946812194075\n",
      "[[ 1.15651764 -0.42545906  0.          0.          0.        ]\n",
      " [-0.42545906  1.31303529 -0.42545906  0.          0.        ]\n",
      " [ 0.         -0.42545906  1.31303529 -0.42545906  0.        ]\n",
      " [ 0.          0.         -0.42545906  1.31303529 -0.42545906]\n",
      " [ 0.          0.          0.         -0.42545906  1.15651764]]\n",
      "1.788994681219407\n"
     ]
    }
   ],
   "source": [
    "N = 5\n",
    "x = np.arange(N)\n",
    "l = 1.0\n",
    "tau = np.abs(x[:,np.newaxis]-x[np.newaxis,:])\n",
    "K = np.exp(-tau/l)\n",
    "K_inv = np.linalg.pinv(K)\n",
    "K_inv[np.abs(K_inv) < 1e-14] = 0.0\n",
    "print(K_inv)\n",
    "print(np.linalg.det(K_inv))\n",
    "u = np.exp(1.0/l)\n",
    "a = u*u\n",
    "b = u*u+1\n",
    "c = -u\n",
    "#print(a,b,c)\n",
    "J_inv = np.zeros(K.shape)\n",
    "J_inv[0,0] = J_inv[-1,-1] = a\n",
    "for i in range(1,N-1):\n",
    "    J_inv[i,i] = b\n",
    "for i in range(0,N-1):\n",
    "    J_inv[i,i+1] = J_inv[i+1,i] = c\n",
    "J_inv /= u*u-1\n",
    "print(J_inv)\n",
    "print(np.power(u*u/(u*u-1),N-1))"
   ]
  },
  {
   "cell_type": "code",
   "execution_count": 72,
   "metadata": {},
   "outputs": [
    {
     "name": "stdout",
     "output_type": "stream",
     "text": [
      "1 1.1565176427496664\n",
      "2 1.3375330579912446\n",
      "3 1.546880579327785\n",
      "4 1.7889946812194075\n",
      "5 2.0690039116155585\n",
      "6 2.0690039116155563\n"
     ]
    }
   ],
   "source": [
    "for i in range(N):\n",
    "    print(i+1,np.linalg.det(K_inv[:i+1,:i+1]))"
   ]
  },
  {
   "cell_type": "code",
   "execution_count": 77,
   "metadata": {},
   "outputs": [
    {
     "data": {
      "text/plain": [
       "1.1565176427496655"
      ]
     },
     "execution_count": 77,
     "metadata": {},
     "output_type": "execute_result"
    }
   ],
   "source": [
    "b"
   ]
  },
  {
   "cell_type": "code",
   "execution_count": 101,
   "metadata": {},
   "outputs": [
    {
     "name": "stdout",
     "output_type": "stream",
     "text": [
      "2.3928395267014633\n",
      "2.0690039116155563\n",
      "2.392839526701463\n"
     ]
    }
   ],
   "source": [
    "def true_det(i):\n",
    "    return np.linalg.det(K_inv[:i,:i])\n",
    "\n",
    "u = np.exp(1.0/l)\n",
    "i = 6\n",
    "print(np.power(u*u/(u*u-1),i))\n",
    "print(true_det(i))\n",
    "print(c*true_det(i-1)-a*a*true_det(i-2))"
   ]
  },
  {
   "cell_type": "code",
   "execution_count": 107,
   "metadata": {},
   "outputs": [
    {
     "data": {
      "text/plain": [
       "0.8646647167633873"
      ]
     },
     "execution_count": 107,
     "metadata": {},
     "output_type": "execute_result"
    }
   ],
   "source": [
    "1-1.0/(u*u)"
   ]
  },
  {
   "cell_type": "code",
   "execution_count": 95,
   "metadata": {},
   "outputs": [
    {
     "data": {
      "text/plain": [
       "array([[ 1.15651764, -0.42545906],\n",
       "       [-0.42545906,  1.31303529]])"
      ]
     },
     "execution_count": 95,
     "metadata": {},
     "output_type": "execute_result"
    }
   ],
   "source": [
    "K_inv[:1+1,:1+1]"
   ]
  },
  {
   "cell_type": "code",
   "execution_count": 68,
   "metadata": {},
   "outputs": [
    {
     "data": {
      "text/plain": [
       "1.7889946812194075"
      ]
     },
     "execution_count": 68,
     "metadata": {},
     "output_type": "execute_result"
    }
   ],
   "source": [
    "np.linalg.det(K_inv[:5,:5])"
   ]
  },
  {
   "cell_type": "code",
   "execution_count": 42,
   "metadata": {},
   "outputs": [
    {
     "data": {
      "text/plain": [
       "-0.959517375667472"
      ]
     },
     "execution_count": 42,
     "metadata": {},
     "output_type": "execute_result"
    }
   ],
   "source": [
    "-np.exp(1.0/l)/(np.exp(2.0/l)-1)"
   ]
  },
  {
   "cell_type": "code",
   "execution_count": 46,
   "metadata": {},
   "outputs": [
    {
     "data": {
      "text/plain": [
       "1.1565176427496657"
      ]
     },
     "execution_count": 46,
     "metadata": {},
     "output_type": "execute_result"
    }
   ],
   "source": [
    "np.exp(2.0/l)/(np.exp(2.0/l)-1)"
   ]
  },
  {
   "cell_type": "code",
   "execution_count": null,
   "metadata": {},
   "outputs": [],
   "source": []
  }
 ],
 "metadata": {
  "kernelspec": {
   "display_name": "Python [conda env:gaiaedr3]",
   "language": "python",
   "name": "conda-env-gaiaedr3-py"
  },
  "language_info": {
   "codemirror_mode": {
    "name": "ipython",
    "version": 3
   },
   "file_extension": ".py",
   "mimetype": "text/x-python",
   "name": "python",
   "nbconvert_exporter": "python",
   "pygments_lexer": "ipython3",
   "version": "3.7.8"
  }
 },
 "nbformat": 4,
 "nbformat_minor": 4
}
