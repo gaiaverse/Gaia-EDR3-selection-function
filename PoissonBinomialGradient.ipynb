{
 "cells": [
  {
   "cell_type": "code",
   "execution_count": 6,
   "metadata": {},
   "outputs": [],
   "source": [
    "%matplotlib widget\n",
    "import matplotlib.pyplot as plt\n",
    "import numpy as np\n",
    "from poisson_binomial import poisson_binomial_pmf"
   ]
  },
  {
   "cell_type": "code",
   "execution_count": 22,
   "metadata": {},
   "outputs": [
    {
     "name": "stdout",
     "output_type": "stream",
     "text": [
      "[0.01008 0.12388 0.3353  0.3484  0.153   0.02772 0.00162] 1.0\n"
     ]
    }
   ],
   "source": [
    "p = np.array([0.3,0.6,0.2,0.1,0.9,0.5])\n",
    "n = p.size\n",
    "pmf = np.zeros(n+1)\n",
    "poisson_binomial_pmf(p,n,pmf)\n",
    "print(pmf,pmf.sum())"
   ]
  },
  {
   "cell_type": "code",
   "execution_count": null,
   "metadata": {},
   "outputs": [],
   "source": [
    "def poisson_binomial_likelihood(memory_pmf,memory_subpmf,memory_gradient):"
   ]
  },
  {
   "cell_type": "code",
   "execution_count": null,
   "metadata": {},
   "outputs": [],
   "source": []
  },
  {
   "cell_type": "code",
   "execution_count": 23,
   "metadata": {},
   "outputs": [],
   "source": [
    "pmf_lower = np.zeros((n,n)) # k,i\n",
    "pmf_lower[0] = pmf[0]/(1.0-p)\n",
    "for k in range(n-1):\n",
    "    pmf_lower[k] = (pmf[k]-pmf_lower[k-1]*p)/(1.0-p)\n",
    "pmf_lower[n-1] = 1.0-pmf_lower.sum(axis=0)"
   ]
  },
  {
   "cell_type": "code",
   "execution_count": 24,
   "metadata": {},
   "outputs": [
    {
     "data": {
      "text/plain": [
       "array([[0.0144 , 0.0252 , 0.0126 , 0.0112 , 0.1008 , 0.02016],\n",
       "       [0.1708 , 0.2719 , 0.1517 , 0.1364 , 0.3316 , 0.2276 ],\n",
       "       [0.4058 , 0.4304 , 0.3812 , 0.3574 , 0.3686 , 0.443  ],\n",
       "       [0.3238 , 0.2254 , 0.3402 , 0.3474 , 0.1666 , 0.2538 ],\n",
       "       [0.0798 , 0.0444 , 0.1062 , 0.1314 , 0.0306 , 0.0522 ],\n",
       "       [0.0054 , 0.0027 , 0.0081 , 0.0162 , 0.0018 , 0.00324]])"
      ]
     },
     "execution_count": 24,
     "metadata": {},
     "output_type": "execute_result"
    }
   ],
   "source": [
    "pmf_lower"
   ]
  },
  {
   "cell_type": "code",
   "execution_count": 28,
   "metadata": {},
   "outputs": [
    {
     "data": {
      "text/plain": [
       "array([0.0126, 0.1517, 0.3812, 0.3402, 0.1062, 0.0081])"
      ]
     },
     "execution_count": 28,
     "metadata": {},
     "output_type": "execute_result"
    }
   ],
   "source": [
    "pmf_lower[:,2]"
   ]
  },
  {
   "cell_type": "code",
   "execution_count": 27,
   "metadata": {},
   "outputs": [
    {
     "name": "stdout",
     "output_type": "stream",
     "text": [
      "[0.0126 0.1517 0.3812 0.3402 0.1062 0.0081] 0.9999999999999999\n"
     ]
    }
   ],
   "source": [
    "p_short = np.array([0.3,0.6,0.1,0.9,0.5])\n",
    "n_short = p_short.size\n",
    "pmf_short = np.zeros(n_short+1)\n",
    "poisson_binomial_pmf(p_short,n_short,pmf_short)\n",
    "print(pmf_short,pmf_short.sum())"
   ]
  },
  {
   "cell_type": "code",
   "execution_count": null,
   "metadata": {},
   "outputs": [],
   "source": []
  }
 ],
 "metadata": {
  "kernelspec": {
   "display_name": "Python [conda env:gaiaedr3]",
   "language": "python",
   "name": "conda-env-gaiaedr3-py"
  },
  "language_info": {
   "codemirror_mode": {
    "name": "ipython",
    "version": 3
   },
   "file_extension": ".py",
   "mimetype": "text/x-python",
   "name": "python",
   "nbconvert_exporter": "python",
   "pygments_lexer": "ipython3",
   "version": "3.7.8"
  }
 },
 "nbformat": 4,
 "nbformat_minor": 4
}
