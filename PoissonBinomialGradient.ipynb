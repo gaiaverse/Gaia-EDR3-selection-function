{
 "cells": [
  {
   "cell_type": "code",
   "execution_count": 1,
   "metadata": {},
   "outputs": [],
   "source": [
    "%matplotlib widget\n",
    "import matplotlib.pyplot as plt\n",
    "import numpy as np\n",
    "from poisson_binomial import poisson_binomial_pmf"
   ]
  },
  {
   "cell_type": "code",
   "execution_count": 2,
   "metadata": {},
   "outputs": [
    {
     "name": "stdout",
     "output_type": "stream",
     "text": [
      "[0.01008 0.12388 0.3353  0.3484  0.153   0.02772 0.00162] 1.0\n",
      "[0.01008 0.12388 0.3353  0.3484  0.153   0.02772 0.00162]\n"
     ]
    }
   ],
   "source": [
    "def poisson_binomial_pmf_easy(probs):\n",
    "    probslen = probs.size\n",
    "    result = np.zeros(probslen+1)\n",
    "    poisson_binomial_pmf(probs,probslen,result)\n",
    "    return result\n",
    "\n",
    "p = np.array([0.3,0.6,0.2,0.1,0.9,0.5])\n",
    "n = p.size\n",
    "pmf = np.zeros(n+1)\n",
    "poisson_binomial_pmf(p,n,pmf)\n",
    "print(pmf,pmf.sum())\n",
    "print(poisson_binomial_pmf_easy(p))"
   ]
  },
  {
   "cell_type": "code",
   "execution_count": null,
   "metadata": {},
   "outputs": [],
   "source": [
    "from numba import njit\n",
    "\n",
    "@njit\n",
    "def poisson_binomial_likelihood(k,probs,probslen,pmf,subpmf,likelihood,gradient):\n",
    "    \n",
    "    # Compute the pmf\n",
    "    poisson_binomial_pmf(probs,probslen,pmf)\n",
    "    likelihood[0] = pmf[k]\n",
    "    \n",
    "    for i in range(probslen):\n",
    "        p = probs[i]\n",
    "        subpmf[0] = pmf[0]/(1.0-p)\n",
    "        for j in range(probslen-1):\n",
    "            subpmf[j] = (pmf[j]-subpmf[j-1]*p)/(1.0-p)\n",
    "        subpmf[probslen-1] = pmf[probslen-1]/p\n",
    "        gradient[i] = subpmf[k-1]-subpmf[k]\n",
    "    "
   ]
  },
  {
   "cell_type": "code",
   "execution_count": 20,
   "metadata": {},
   "outputs": [
    {
     "name": "stdout",
     "output_type": "stream",
     "text": [
      "0.027719999999999998\n",
      "0.02773152\n",
      "0.02773152\n"
     ]
    }
   ],
   "source": [
    "from numba import njit\n",
    "            \n",
    "@njit\n",
    "def poisson_binomial_likelihood(k,probs,probslen,pmf,subpmf,likelihood,gradient):\n",
    "    \n",
    "    # Compute the pmf\n",
    "    poisson_binomial_pmf(probs,probslen,pmf)\n",
    "    likelihood[0] = pmf[k]\n",
    "    \n",
    "    \n",
    "    if k == 0:\n",
    "        gradient_first_term,gradient_second_term=0.0,1.0\n",
    "    elif k == probslen:\n",
    "        gradient_first_term,gradient_second_term=1.0,0.0\n",
    "    else:\n",
    "        gradient_first_term,gradient_second_term=1.0,1.0\n",
    "    \n",
    "    for i in range(probslen):\n",
    "        \n",
    "        p = probs[i]\n",
    "        oneoveroneminusp = 1.0/(1.0-p)\n",
    "        \n",
    "        subpmf[0] = pmf[0]*oneoveroneminusp\n",
    "        for j in range(1,probslen):\n",
    "            subpmf[j] = (pmf[j]-subpmf[j-1]*p)*oneoveroneminusp\n",
    "        subpmf[probslen-1] = pmf[probslen]/p\n",
    "        \n",
    "        gradient[i] = gradient_first_term*subpmf[k-1]-gradient_second_term*subpmf[k]\n",
    "        \n",
    "    \n",
    "\n",
    "k = 5\n",
    "subpmf = np.zeros(n)\n",
    "gradient = np.zeros(n)\n",
    "likelihood = np.zeros(1)\n",
    "poisson_binomial_likelihood_new(k,p,n,pmf,subpmf,likelihood,gradient)\n",
    "\n",
    "dp = 1e-4\n",
    "print(likelihood[0])\n",
    "print(poisson_binomial_pmf_easy(p+dp*np.array([0,0,0,1,0,0]))[k])\n",
    "print(likelihood[0]+dp*gradient[3])"
   ]
  },
  {
   "cell_type": "code",
   "execution_count": 15,
   "metadata": {},
   "outputs": [
    {
     "name": "stdout",
     "output_type": "stream",
     "text": [
      "CPU times: user 216 ms, sys: 7.58 ms, total: 223 ms\n",
      "Wall time: 224 ms\n",
      "The slowest run took 4.97 times longer than the fastest. This could mean that an intermediate result is being cached.\n",
      "1000000 loops, best of 5: 1.12 µs per loop\n"
     ]
    }
   ],
   "source": [
    "%time poisson_binomial_likelihood_old(4,p,n,pmf,subpmf,likelihood,gradient)\n",
    "%timeit poisson_binomial_likelihood_old(4,p,n,pmf,subpmf,likelihood,gradient)"
   ]
  },
  {
   "cell_type": "code",
   "execution_count": 16,
   "metadata": {},
   "outputs": [
    {
     "name": "stdout",
     "output_type": "stream",
     "text": [
      "CPU times: user 9 µs, sys: 0 ns, total: 9 µs\n",
      "Wall time: 11 µs\n",
      "1000000 loops, best of 5: 1.08 µs per loop\n"
     ]
    }
   ],
   "source": [
    "%time poisson_binomial_likelihood_new(4,p,n,pmf,subpmf,likelihood,gradient)\n",
    "%timeit poisson_binomial_likelihood_new(4,p,n,pmf,subpmf,likelihood,gradient)"
   ]
  },
  {
   "cell_type": "code",
   "execution_count": null,
   "metadata": {},
   "outputs": [],
   "source": [
    "from numba import njit\n",
    "            \n",
    "@njit\n",
    "def poisson_binomial_log_likelihood(k,probs,probslen,pmf,subpmf,log_likelihood,gradient):\n",
    "    \n",
    "    # Compute the pmf\n",
    "    poisson_binomial_pmf(probs,probslen,pmf)\n",
    "    likelihood = pmf[k]\n",
    "    log_likelihood = np.log(likelihood)\n",
    "    \n",
    "    \n",
    "    if k == 0:\n",
    "        gradient_first_term,gradient_second_term=0.0,1.0\n",
    "    elif k == probslen:\n",
    "        gradient_first_term,gradient_second_term=1.0,0.0\n",
    "    else:\n",
    "        gradient_first_term,gradient_second_term=1.0,1.0\n",
    "    \n",
    "    for i in range(probslen):\n",
    "        \n",
    "        p = probs[i]\n",
    "        oneoveroneminusp = 1.0/(1.0-p)\n",
    "        \n",
    "        subpmf[0] = pmf[0]*oneoveroneminusp\n",
    "        for j in range(1,probslen):\n",
    "            subpmf[j] = (pmf[j]-subpmf[j-1]*p)*oneoveroneminusp\n",
    "        subpmf[probslen-1] = pmf[probslen]/p\n",
    "        \n",
    "        gradient[i] = (gradient_first_term*subpmf[k-1]-gradient_second_term*subpmf[k])/likelihood\n",
    "        \n",
    "    \n",
    "\n",
    "k = 5\n",
    "subpmf = np.zeros(n)\n",
    "gradient = np.zeros(n)\n",
    "log_likelihood = 0.0\n",
    "poisson_binomial_likelihood_new(k,p,n,pmf,subpmf,likelihood,gradient)\n",
    "\n",
    "dp = 1e-4\n",
    "print(likelihood[0])\n",
    "print(poisson_binomial_pmf_easy(p+dp*np.array([0,0,0,1,0,0]))[k])\n",
    "print(likelihood[0]+dp*gradient[3])"
   ]
  }
 ],
 "metadata": {
  "kernelspec": {
   "display_name": "Python [conda env:gaiaedr3]",
   "language": "python",
   "name": "conda-env-gaiaedr3-py"
  },
  "language_info": {
   "codemirror_mode": {
    "name": "ipython",
    "version": 3
   },
   "file_extension": ".py",
   "mimetype": "text/x-python",
   "name": "python",
   "nbconvert_exporter": "python",
   "pygments_lexer": "ipython3",
   "version": "3.7.8"
  }
 },
 "nbformat": 4,
 "nbformat_minor": 4
}
