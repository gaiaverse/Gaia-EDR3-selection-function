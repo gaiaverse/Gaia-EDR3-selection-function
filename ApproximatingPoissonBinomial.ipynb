{
 "cells": [
  {
   "cell_type": "code",
   "execution_count": 9,
   "metadata": {},
   "outputs": [],
   "source": [
    "%matplotlib widget\n",
    "import matplotlib.pyplot as plt\n",
    "import numpy as np"
   ]
  },
  {
   "cell_type": "code",
   "execution_count": 61,
   "metadata": {},
   "outputs": [],
   "source": [
    "from scipy import special\n",
    "P = np.linspace(1e-3,1-1e-3,101)\n",
    "p1,p2 = np.meshgrid(P,P)"
   ]
  },
  {
   "cell_type": "code",
   "execution_count": 62,
   "metadata": {},
   "outputs": [],
   "source": [
    "from scipy import stats\n",
    "\n",
    "likelihood_poisson_binomial = p1*(1.0-p2)+(1.0-p1)*p2\n",
    "\n",
    "pmean = 0.5*(p1+p2)\n",
    "likelihood_binomial_approximation = 2.0*pmean*(1.0-pmean)\n",
    "\n",
    "normal_mean = p1+p2\n",
    "normal_variance = p1*(1.0-p1)+p2*(1.0-p2)\n",
    "likelihood_normal_approximation = stats.norm(loc=normal_mean,scale=np.sqrt(normal_variance)).pdf(1.0)"
   ]
  },
  {
   "cell_type": "code",
   "execution_count": 69,
   "metadata": {},
   "outputs": [
    {
     "data": {
      "application/vnd.jupyter.widget-view+json": {
       "model_id": "4efe8e40fa214ff082dbc21c63ff988f",
       "version_major": 2,
       "version_minor": 0
      },
      "text/plain": [
       "Canvas(toolbar=Toolbar(toolitems=[('Home', 'Reset original view', 'home', 'home'), ('Back', 'Back to previous …"
      ]
     },
     "metadata": {},
     "output_type": "display_data"
    }
   ],
   "source": [
    "fig = plt.figure(figsize=plt.figaspect(0.4))\n",
    "\n",
    "ax = fig.add_subplot(1, 3, 1, projection='3d')\n",
    "ax.plot_surface(p1, p2, likelihood_poisson_binomial, cmap=plt.cm.RdBu,rstride=2,cstride=2,linewidth=0,vmin=0,vmax=1)\n",
    "ax.set_zlim(0, 1)\n",
    "ax.title.set_text('Poisson Binomial')\n",
    "\n",
    "ax = fig.add_subplot(1, 3, 2, projection='3d')\n",
    "ax.plot_surface(p1, p2, likelihood_binomial_approximation, cmap=plt.cm.RdBu,rstride=2,cstride=2,linewidth=0,vmin=0,vmax=1)\n",
    "ax.set_zlim(0, 1)\n",
    "ax.title.set_text('Binomial Approximation')\n",
    "\n",
    "ax = fig.add_subplot(1, 3, 3, projection='3d')\n",
    "ax.plot_surface(p1, p2, likelihood_normal_approximation, cmap=plt.cm.RdBu,rstride=2,cstride=2,linewidth=0,vmin=0,vmax=1)\n",
    "ax.set_zlim(0, 1)\n",
    "ax.title.set_text('Normal Approximation')\n",
    "\n",
    "plt.show()"
   ]
  },
  {
   "cell_type": "code",
   "execution_count": null,
   "metadata": {},
   "outputs": [],
   "source": []
  }
 ],
 "metadata": {
  "kernelspec": {
   "display_name": "gaiaedr3",
   "language": "python",
   "name": "gaiaedr3"
  },
  "language_info": {
   "codemirror_mode": {
    "name": "ipython",
    "version": 3
   },
   "file_extension": ".py",
   "mimetype": "text/x-python",
   "name": "python",
   "nbconvert_exporter": "python",
   "pygments_lexer": "ipython3",
   "version": "3.7.8"
  }
 },
 "nbformat": 4,
 "nbformat_minor": 4
}
