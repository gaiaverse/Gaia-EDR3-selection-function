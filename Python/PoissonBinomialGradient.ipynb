{
 "cells": [
  {
   "cell_type": "code",
   "execution_count": 2,
   "metadata": {},
   "outputs": [],
   "source": [
    "%matplotlib widget\n",
    "import matplotlib.pyplot as plt\n",
    "import numpy as np\n",
    "from poisson_binomial import poisson_binomial_pmf as direct_convolution_local, poisson_binomial_pmf_direct\n",
    "from scipy import stats,special\n",
    "%config Completer.use_jedi = False"
   ]
  },
  {
   "cell_type": "code",
   "execution_count": 9,
   "metadata": {},
   "outputs": [],
   "source": [
    "X = np.random.randn(35,9000000)"
   ]
  },
  {
   "cell_type": "code",
   "execution_count": 10,
   "metadata": {},
   "outputs": [
    {
     "name": "stdout",
     "output_type": "stream",
     "text": [
      "CPU times: user 4.63 s, sys: 1.8 s, total: 6.42 s\n",
      "Wall time: 9.1 s\n"
     ]
    },
    {
     "data": {
      "text/plain": [
       "array([[1.05643266, 2.69978103, 6.08422988, ..., 0.93736925, 0.95129011,\n",
       "        2.53220766],\n",
       "       [0.75824069, 1.00701729, 4.55163893, ..., 4.94503963, 0.26170908,\n",
       "        1.59518203],\n",
       "       [1.56680859, 0.09618056, 4.43471963, ..., 0.54629671, 1.06026497,\n",
       "        2.2896789 ],\n",
       "       ...,\n",
       "       [0.90479423, 0.31745199, 2.83416664, ..., 0.85786445, 0.09455074,\n",
       "        2.77031359],\n",
       "       [1.23969285, 1.36455626, 1.6176306 , ..., 2.30245093, 0.62105088,\n",
       "        2.06622363],\n",
       "       [5.74533324, 1.19778856, 0.1476776 , ..., 2.87227591, 1.74266333,\n",
       "        0.73807681]])"
      ]
     },
     "execution_count": 10,
     "metadata": {},
     "output_type": "execute_result"
    }
   ],
   "source": [
    "%time np.exp(X)"
   ]
  },
  {
   "cell_type": "markdown",
   "metadata": {},
   "source": [
    "# Log Prior"
   ]
  },
  {
   "cell_type": "code",
   "execution_count": null,
   "metadata": {},
   "outputs": [],
   "source": [
    "from numba import njit\n",
    "from math import ceil\n",
    "\n",
    "@njit\n",
    "def func_invKgYinvKt(Ng,Nt,lt,invKgY,invKgYinvKt):\n",
    "\n",
    "    u = np.exp(-1.0/lt)\n",
    "    u2 = u*u\n",
    "    oneplusu2 = 1.0 + u2\n",
    "    oneoveroneminusu2 = 1.0 / ( 1.0 - u2 )\n",
    "    \n",
    "    for ig in range(Ng):\n",
    "        invKgYinvKt[ig,0] = (invKgY[ig,0] - u * invKgY[ig,1])*oneoveroneminusu2\n",
    "        invKgYinvKt[ig,-1] = (invKgY[ig,-1] - u * invKgY[ig,-2])*oneoveroneminusu2\n",
    "        for it in range(1,Nt-1):\n",
    "            invKgYinvKt[ig,it] = ( oneplusu2 * invKgY[ig,it] - u * ( invKgY[ig,it-1] + invKgY[ig,it+1] ) )*oneoveroneminusu2\n",
    "            \n",
    "            \n",
    "@njit\n",
    "def func_YJt(Ng,Nt,lt,Y,result,log_eps=np.log(1e-16),safety_margin=10):\n",
    "    \n",
    "    u = np.exp(-1/lt)\n",
    "    u2 = u*u\n",
    "    \n",
    "    M = safety_margin+ceil(-lt*log_eps)\n",
    "    \n",
    "    power_u = np.power(u,np.arange(M))\n",
    "    \n",
    "    lt2 = lt*lt\n",
    "    \n",
    "    for i in range(Ng):\n",
    "        \n",
    "        for l in range(Nt):\n",
    "            \n",
    "            res =  - (1.0+u2)*Y[i,l]/(1.0-u2)\n",
    "            \n",
    "            if l < M:\n",
    "                res += u2*Y[i,0]*power_u[l]/(1.0-u2)\n",
    "                \n",
    "            if Nt-l-1 < M:\n",
    "                res += u2*Y[i,-1]*power_u[Nt-l-1]/(1.0-u2)\n",
    "            \n",
    "            #res = (u2*( Y[i,0]*power_u[min(M,l)] + Y[i,-1]*power_u[min(M,Nt-l-1)] ) - (1.0+u2)*Y[i,l])/(1.0-u2)\n",
    "            \n",
    "            for j in range(max(0,l-M),min(Nt,l+M)):\n",
    "                res += Y[i,j]*power_u[abs(l-j)]\n",
    "                \n",
    "            result[i,l] = res/lt2\n",
    "    \n",
    "\n",
    "def log_prior_x(x,mu,lt,lg,sigma2,G,Ng,Nt):\n",
    "    \n",
    "    # X is a (Ng,Nt) matrix\n",
    "    # mu is a (Ng,) vector\n",
    "    # sigma2, lt and lg are scalars\n",
    "    # G2 is a (Ng,Ng) matrix\n",
    "    \n",
    "    Y = x.reshape((Ng,Nt)) - mu.reshape((Ng,1))\n",
    "    \n",
    "    G2 = np.square(G[:,np.newaxis]-G[np.newaxis,:])\n",
    "    Kg = np.exp(-G2/lg/lg/2.0)\n",
    "    dKg_dlg = G2*Kg/lg/lg/lg\n",
    "    Jg = np.linalg.lstsq(np.dot(Kg.T,Kg),np.dot(Kg.T,dKg_dlg),rcond=None)[0]\n",
    "    invKgY = np.linalg.lstsq(np.dot(Kg.T,Kg),np.dot(Kg.T,Y),rcond=None)[0]\n",
    "    \n",
    "    \n",
    "    invKgYinvKt = np.zeros((Ng,Nt))\n",
    "    func_invKgYinvKt(Ng,Nt,lt,invKgY,invKgYinvKt)\n",
    "    \n",
    "    u = np.exp(-1.0/lt)\n",
    "    u2 = u*u\n",
    "    logdetKg = np.linalg.slogdet(Kg)[1]\n",
    "    logdetinvKt = -(Nt-1.0)*np.log( 1.0 - u2 )\n",
    "    TrJg =  np.trace(Jg)\n",
    "    TrJt = -2.0*(Nt-1.0)*u2/(1.0-u2)/lt/lt\n",
    "    \n",
    "    Y_invKgYinvKt = (Y*invKgYinvKt).sum()\n",
    "    \n",
    "    JgTY = np.dot(Jg.T,Y)\n",
    "    JgTY_invKgYinvKt = (JgTY*invKgYinvKt).sum()\n",
    "    \n",
    "    YJt = np.zeros((Ng,Nt))\n",
    "    func_YJt(Ng,Nt,lt,Y,YJt,log_eps=np.log(1e-16))\n",
    "    YJt_invKgYinvKt = (YJt*invKgYinvKt).sum()\n",
    "    \n",
    "    lnP = -Ng*Nt*np.log(2.0*np.pi*sigma2)/2.0 + Ng*logdetinvKt/2.0 - Nt*logdetKg/2.0 - Y_invKgYinvKt/2.0/sigma2\n",
    "    \n",
    "    dlnP_dX = -invKgYinvKt/sigma2\n",
    "    dlnP_dx = dlnP_dX.ravel()\n",
    "    dlnP_dmu = -dlnP_dX.sum(axis=1)\n",
    "    dlnP_dsigma2 = -Ng*Nt/2.0/sigma2 + Y_invKgYinvKt/2.0/sigma2/sigma2\n",
    "    dlnP_dlt = -Ng*TrJt/2.0 + YJt_invKgYinvKt/2.0/sigma2\n",
    "    dlnP_dlg = -Nt*TrJg/2.0 + JgTY_invKgYinvKt/2.0/sigma2\n",
    "    #print(invKgY)\n",
    "    #print(Kg,Y)\n",
    "    \n",
    "    return lnP, dlnP_dx, dlnP_dmu, dlnP_dlt, dlnP_dlg, dlnP_dsigma2\n",
    "\n",
    "def log_prior_mu(mu,m,tau2):\n",
    "    \n",
    "    J = tau2*np.exp(-G_squared/2.0/m**2)\n",
    "    J_inv = np.linalg.pinv(J)\n",
    "    J_inv_mu = np.dot(J_inv,mu)\n",
    "    \n",
    "    lnQ = +0.5*np.linalg.slogdet(J_inv)[1]-0.5*np.dot(mu.T,J_inv_mu) - (M/2)*np.log(2.0*np.pi)\n",
    "    \n",
    "    dJdm = J*G2/m**3\n",
    "    dJdtau2 = J/tau2\n",
    "\n",
    "    dlnQdm = -0.5*np.trace(np.dot(J_inv,dJdm))+0.5*np.dot(J_inv_mu.T,np.dot(dJdm,J_inv_mu))\n",
    "    dlnQdtau2 = -0.5*np.trace(np.dot(J_inv,dJdtau2))+0.5*np.dot(J_inv_mu.T,np.dot(dJdtau2,J_inv_mu))\n",
    "    dlnQdmu = -J_inv_mu\n",
    "    \n",
    "    return lnQ, dlnQdmu, dlnQdm, dlnQdtau2\n",
    "\n",
    "def log_prior_lengthscale(l):\n",
    "    \n",
    "    # InvGamma(1,2)\n",
    "    \n",
    "    lnA = np.log(2.0)-2.0*np.log(l)-2.0/l\n",
    "    \n",
    "    dlnAdl = 2.0*(1.0-l)/l/l\n",
    "    \n",
    "    return lnA, dlnAdl\n",
    "\n",
    "def log_prior_variance(sigma2):\n",
    "    \n",
    "    # Gamma(1,1)\n",
    "    \n",
    "    lnS = - sigma2\n",
    "    \n",
    "    dlnSdsigma2 = - 1.0\n",
    "    \n",
    "    return lnS, dlnSsigma2\n",
    "\n",
    "def log_likelihood(p):\n",
    "    \n",
    "    return 0.0, np.zeros(p.shape)\n",
    "\n",
    "def log_posterior(args,Nh,Ng,Nt,G):\n",
    "    \n",
    "    # Unpack parameters\n",
    "    ln_lt, ln_lg, ln_sigma2, ln_m, ln_tau2 = args[:Nh]\n",
    "    mu = args[Nh:Nh+Ng]\n",
    "    x = args[Nh+Ng:]\n",
    "    \n",
    "    # Transform parameters\n",
    "    lt, lg, sigma2, m, tau2 = np.exp(ln_lg), np.exp(ln_lt), np.exp(ln_sigma2), np.exp(ln_m), np.exp(ln_tau2)\n",
    "    p = 1.0/(1.0+np.exp(-x))\n",
    "    \n",
    "    ##### Priors\n",
    "    \n",
    "    ### Initialise values\n",
    "    \n",
    "    lnF = 0.0\n",
    "    dlnF_dlt, dlnF_dlg, dlnF_dm = 0.0, 0.0\n",
    "    dlnF_dsigma2, dlnF_dtau2 = 0.0, 0.0\n",
    "    dlnF_dmu = np.zeros(Ng)\n",
    "    dlnF_dx = np.zeros(Ng*Nt)\n",
    "    dlnF_dp = np.zeros(Ng*Nt)\n",
    "    \n",
    "    \n",
    "    ### Prior on x\n",
    "    \n",
    "    # Calculate quantities\n",
    "    lnP, dlnP_dx, dlnP_dmu, dlnP_dlt, dlnP_dlg,dlnP_dsigma2 = log_prior_x(x,mu,lt,lg,sigma2,G,Ng,Nt)\n",
    "\n",
    "    # Increment log posterior\n",
    "    lnF += lnP\n",
    "\n",
    "    # Increment gradients\n",
    "    dlnF_dx += dlnP_dx\n",
    "    dlnF_dmu += dlnP_dmu\n",
    "    dlnF_dlt += dlnP_dlt\n",
    "    dlnF_dlg += dlnP_dlg\n",
    "    dlnF_dsigma2 += dlnP_dsigma2\n",
    "    \n",
    "    ### Prior on mu\n",
    "    \n",
    "    # Calculate quantities\n",
    "    lnQ, dlnQ_dmu, dlnQ_dm, dlnQ_dtau2 = log_prior_mu(mu,m,tau2)\n",
    "    \n",
    "    # Increment log posterior\n",
    "    lnF += lnQ\n",
    "    \n",
    "    # Increment gradients\n",
    "    dlnF_dmu += dlnQ_dmu\n",
    "    dlnF_dm += dlnQ_dm\n",
    "    dlnF_dtau2 += dlnQ_dtau2\n",
    "    \n",
    "    ### Prior on lt, lg and m\n",
    "    \n",
    "    # Calculate quantities\n",
    "    lnA, dlnA_dlt = log_prior_lengthscale(lt)\n",
    "    lnB, dlnB_dlg = log_prior_lengthscale(lg)\n",
    "    lnC, dlnC_dm  = log_prior_lengthscale(m)\n",
    "    \n",
    "    # Increment log posterior\n",
    "    lnF += lnA\n",
    "    lnF += lnB\n",
    "    lnF += lnC\n",
    "    \n",
    "    # Increment gradients\n",
    "    dlnF_dlt += dlnA_dlt\n",
    "    dlnF_dlg += dlnB_dlg\n",
    "    dlnF_dm  += dlnC_dm\n",
    "    \n",
    "    ### Prior on sigma2 and tau2\n",
    "    \n",
    "    # Calculate quantities\n",
    "    lnS, dlnS_dsigma2 = log_prior_variance(sigma2)\n",
    "    lnT, dlnT_dtau2 = log_prior_variance(tau2)\n",
    "    \n",
    "    # Increment log posterior\n",
    "    lnF += lnS\n",
    "    lnF += lnT\n",
    "    \n",
    "    # Increment gradients\n",
    "    dlnF_dsigma2 += dlnS_dsigma2\n",
    "    dlnF_dtau2 += dlnT_dtau2\n",
    "    \n",
    "    ##### Likelihood\n",
    "    \n",
    "    # Calculate quantities\n",
    "    lnL, dlnL_dp = log_likelihood(p)\n",
    "        \n",
    "    # Increment log posterior\n",
    "    lnF += lnL\n",
    "    \n",
    "    # Increment gradients\n",
    "    dlnF_dp += dlnL_dp\n",
    "    \n",
    "    ##### Construct gradient with respect to input parameters\n",
    "    \n",
    "    # Initialise\n",
    "    dlnF_dargs = np.zeros(Nh+Ng+Ng*Nt)\n",
    "    \n",
    "    # Correct for log-parameterisation\n",
    "    dlnF_dln_lt = lt*dlnF_dlt\n",
    "    dlnF_dln_lg = lg*dlnF_dlg\n",
    "    dlnF_dln_m = m*dlnF_dm\n",
    "    dlnF_dln_sigma2 = sigma2*dlnF_dsigma2\n",
    "    dlnF_dln_tau2 = tau2*dlnF_dtau2\n",
    "    \n",
    "    # Correct for logit-parameterisation\n",
    "    dlnF_dx += (1.0/p+1.0/(1.0-p))*dlnF_dp\n",
    "    \n",
    "    # Fill in values\n",
    "    dlnF_dargs[0] = dlnF_dln_lt\n",
    "    dlnF_dargs[1] = dlnF_dln_lg\n",
    "    dlnF_dargs[2] = dlnF_dln_sigma2\n",
    "    dlnF_dargs[3] = dlnF_dln_m\n",
    "    dlnF_dargs[4] = dlnF_dln_tau2\n",
    "    dlnF_dargs[Nh:Nh+M] = dlnF_dmu\n",
    "    dlnF_dargs[Nh+M:] = dlnF_dx\n",
    "    \n",
    "    return lnF, dlnFdargs"
   ]
  },
  {
   "cell_type": "markdown",
   "metadata": {},
   "source": [
    "# Log likelihood"
   ]
  },
  {
   "cell_type": "code",
   "execution_count": 50,
   "metadata": {},
   "outputs": [
    {
     "data": {
      "text/plain": [
       "35"
      ]
     },
     "execution_count": 50,
     "metadata": {},
     "output_type": "execute_result"
    }
   ],
   "source": [
    "bins = np.array([0.0, 5.0, 16.0, 17.0, 18.0, 18.2, 18.4, 18.6, 18.8, 19.0, 19.1, 19.2, 19.3, 19.4, 19.5, 19.6, 19.7, 19.8, 19.9, 20.0, 20.1, 20.2, 20.3, 20.4, 20.5, 20.6, 20.7, 20.8, 20.9, 21.0, 21.1, 21.2, 21.3, 21.4, 21.5, 25.0])\n",
    "np.digitize(np.nan,bins)-1"
   ]
  },
  {
   "cell_type": "code",
   "execution_count": 48,
   "metadata": {},
   "outputs": [
    {
     "data": {
      "text/plain": [
       "79577.34081387422"
      ]
     },
     "execution_count": 48,
     "metadata": {},
     "output_type": "execute_result"
    }
   ],
   "source": [
    "-np.log(1e-16)*2160"
   ]
  },
  {
   "cell_type": "code",
   "execution_count": 13,
   "metadata": {},
   "outputs": [
    {
     "name": "stdout",
     "output_type": "stream",
     "text": [
      "[1.1289600e-03 1.9156480e-02 1.0565200e-01 2.5434792e-01 3.1159864e-01\n",
      " 2.0946544e-01 7.9777920e-02 1.6952400e-02 1.8424800e-03 7.7760000e-05] 1.0\n",
      "[1.1289600e-03 1.9156480e-02 1.0565200e-01 2.5434792e-01 3.1159864e-01\n",
      " 2.0946544e-01 7.9777920e-02 1.6952400e-02 1.8424800e-03 7.7760000e-05]\n"
     ]
    }
   ],
   "source": [
    "p = np.array([0.3,0.6,0.2,0.1,0.9,0.5,0.3,0.2,0.8])\n",
    "n = p.size\n",
    "pmf = np.zeros(n+1)\n",
    "direct_convolution_local(p,n,pmf)\n",
    "print(pmf,pmf.sum())\n",
    "print(poisson_binomial_pmf_direct(p))"
   ]
  },
  {
   "cell_type": "code",
   "execution_count": 17,
   "metadata": {},
   "outputs": [
    {
     "name": "stdout",
     "output_type": "stream",
     "text": [
      "0.0011289599999999994\n",
      "0.0011289599999999994\n",
      "0.0011288345599999997\n",
      "0.0011288345599999993\n"
     ]
    }
   ],
   "source": [
    "from numba import njit\n",
    "            \n",
    "@njit\n",
    "def poisson_binomial_likelihood(k,probs,probslen,pmf,subpmf,likelihood,gradient):\n",
    "    \n",
    "    # Compute the pmf\n",
    "    direct_convolution_local(probs,probslen,pmf)\n",
    "    \n",
    "    likelihood[:] = pmf[k]\n",
    "    \n",
    "    \n",
    "    if k == 0:\n",
    "        gradient_first_term,gradient_second_term=0.0,1.0\n",
    "    elif k == probslen:\n",
    "        gradient_first_term,gradient_second_term=1.0,0.0\n",
    "    else:\n",
    "        gradient_first_term,gradient_second_term=1.0,1.0\n",
    "    \n",
    "    for i in range(probslen):\n",
    "        \n",
    "        p = probs[i]\n",
    "        oneoveroneminusp = 1.0/(1.0-p)\n",
    "        \n",
    "        subpmf[0] = pmf[0]*oneoveroneminusp\n",
    "        for j in range(1,probslen):\n",
    "            subpmf[j] = (pmf[j]-subpmf[j-1]*p)*oneoveroneminusp\n",
    "        subpmf[probslen-1] = pmf[probslen]/p\n",
    "        \n",
    "        gradient[i] = gradient_first_term*subpmf[k-1]-gradient_second_term*subpmf[k]\n",
    "        \n",
    "    \n",
    "\n",
    "k = 0\n",
    "Ns = 500\n",
    "subpmf = np.zeros(Ns)\n",
    "gradient = np.zeros(Ns)\n",
    "likelihood = np.zeros(1)\n",
    "poisson_binomial_likelihood(k,p,n,pmf,subpmf,likelihood,gradient)\n",
    "\n",
    "dp = 1e-4\n",
    "print(likelihood[0])\n",
    "print(poisson_binomial_pmf_direct(p)[k])\n",
    "print(poisson_binomial_pmf_direct(p+dp*np.array([0,0,0,1,0,0,0,0,0]))[k])\n",
    "print(likelihood[0]+dp*gradient[3])"
   ]
  },
  {
   "cell_type": "code",
   "execution_count": 23,
   "metadata": {},
   "outputs": [
    {
     "name": "stdout",
     "output_type": "stream",
     "text": [
      "-6.786458424025957\n",
      "-6.786458424025957\n",
      "-6.7864585351370685\n",
      "-6.786458535137075\n"
     ]
    }
   ],
   "source": [
    "from numba import njit\n",
    "            \n",
    "@njit\n",
    "def poisson_binomial_log_likelihood(k,probs,probslen,pmf,subpmf,log_likelihood,gradient):\n",
    "    \n",
    "    # Compute the pmf\n",
    "    direct_convolution_local(probs,probslen,pmf)\n",
    "    \n",
    "    likelihood = pmf[k]\n",
    "    log_likelihood[:] = np.log(likelihood)\n",
    "    \n",
    "    \n",
    "    if k == 0:\n",
    "        gradient_first_term,gradient_second_term=0.0,1.0\n",
    "    elif k == probslen:\n",
    "        gradient_first_term,gradient_second_term=1.0,0.0\n",
    "    else:\n",
    "        gradient_first_term,gradient_second_term=1.0,1.0\n",
    "    \n",
    "    for i in range(probslen):\n",
    "        \n",
    "        p = probs[i]\n",
    "        oneoveroneminusp = 1.0/(1.0-p)\n",
    "        \n",
    "        subpmf[0] = pmf[0]*oneoveroneminusp\n",
    "        for j in range(1,probslen):\n",
    "            subpmf[j] = (pmf[j]-subpmf[j-1]*p)*oneoveroneminusp\n",
    "        subpmf[probslen-1] = pmf[probslen]/p\n",
    "        \n",
    "        gradient[i] = (gradient_first_term*subpmf[k-1]-gradient_second_term*subpmf[k])/likelihood\n",
    "        \n",
    "    \n",
    "\n",
    "k = 0\n",
    "Ns = 500\n",
    "subpmf = np.zeros(Ns)\n",
    "gradient = np.zeros(Ns)\n",
    "log_likelihood = np.zeros(1)\n",
    "poisson_binomial_log_likelihood(k,p,n,pmf,subpmf,log_likelihood,gradient)\n",
    "\n",
    "dp = 1e-7\n",
    "print(log_likelihood[0])\n",
    "print(np.log(poisson_binomial_pmf_direct(p)[k]))\n",
    "print(log_likelihood[0]+dp*gradient[3])\n",
    "print(np.log(poisson_binomial_pmf_direct(p+dp*np.array([0,0,0,1,0,0,0,0,0]))[k]))"
   ]
  },
  {
   "cell_type": "code",
   "execution_count": 41,
   "metadata": {},
   "outputs": [
    {
     "name": "stdout",
     "output_type": "stream",
     "text": [
      "Predicted log-likelihood at p    -1.3512295610051956\n",
      "Predicted log-likelihood at p+dp -1.3512295548589086\n",
      "True log-likelihood at p         -1.3512295610051956\n",
      "True log-likelihood at p+dp      -1.351229554858909\n"
     ]
    }
   ],
   "source": [
    "from numba import njit\n",
    "import numpy as np\n",
    "            \n",
    "@njit\n",
    "def poisson_binomial_log_likelihood_truncated(k,c,n,probs,log_likelihood,gradient,pmf,subpmf):\n",
    "    \n",
    "    # Assumes that c <= k <= n\n",
    "    # k is the number of measurements reported by Gaia\n",
    "    # c is the minimum number of measurements for a star to be reported by Gaia\n",
    "    # n is the predicted number of visits by Gaia of that star\n",
    "    # p is the list of measurement probabilities at each visit\n",
    "    # log_likelihood is where you want the log likelihood to be stored (we can have this be an output of the function instead, if you prefer)\n",
    "    # gradient is where you want the gradient to be stored (same as above)\n",
    "    # pmf and subpmf are used for intermediate storage to avoid excessive memory allocation. Set these to be 1000 long and use them for every star.\n",
    "    \n",
    "    # Compute the pmf and log_likelihood\n",
    "    direct_convolution_local(probs,n,pmf)\n",
    "    \n",
    "    likelihood = pmf[k]\n",
    "    correction = 1.0 - np.sum(pmf[0:c])\n",
    "    log_likelihood[:] = np.log(likelihood) - np.log(correction)\n",
    "    \n",
    "    # Branching to set terms in the loop\n",
    "    if k == 0:\n",
    "        gradient_first_term,gradient_second_term=0.0,1.0\n",
    "    elif k == n:\n",
    "        gradient_first_term,gradient_second_term=1.0,0.0\n",
    "    else:\n",
    "        gradient_first_term,gradient_second_term=1.0,1.0\n",
    "    \n",
    "    # Loop over the p's calculating the gradient\n",
    "    for i in range(n):\n",
    "        \n",
    "        p = probs[i]\n",
    "        oneoveroneminusp = 1.0/(1.0-p)\n",
    "        \n",
    "        subpmf[0] = pmf[0]*oneoveroneminusp\n",
    "        for j in range(1,n):\n",
    "            subpmf[j] = (pmf[j]-subpmf[j-1]*p)*oneoveroneminusp\n",
    "        subpmf[n-1] = pmf[n]/p\n",
    "        \n",
    "        gradient[i] = (gradient_first_term*subpmf[k-1]-gradient_second_term*subpmf[k])/likelihood - subpmf[c-1]/correction\n",
    "        \n",
    "p = np.array([0.3,0.6,0.2,0.1,0.9,0.5,0.3,0.2,0.8])\n",
    "n = p.size\n",
    "k = 6\n",
    "c = 5\n",
    "Ns = 500\n",
    "subpmf = np.zeros(Ns)\n",
    "gradient = np.zeros(Ns)\n",
    "log_likelihood = np.zeros(1)\n",
    "poisson_binomial_log_likelihood_truncated(k,c,n,p,log_likelihood,gradient,pmf,subpmf)\n",
    "\n",
    "dp = 1e-8\n",
    "print('Predicted log-likelihood at p   ',log_likelihood[0])\n",
    "print('Predicted log-likelihood at p+dp',log_likelihood[0]+dp*gradient[3])\n",
    "\n",
    "pmf = poisson_binomial_pmf_direct(p)\n",
    "likelihood = pmf[k]\n",
    "correction = 1.0 - np.sum(pmf[0:c])\n",
    "log_likelihood = np.log(likelihood) - np.log(correction)\n",
    "print('True log-likelihood at p        ',log_likelihood)\n",
    "\n",
    "pmf = poisson_binomial_pmf_direct(p+dp*np.array([0,0,0,1,0,0,0,0,0]))\n",
    "likelihood = pmf[k]\n",
    "correction = 1.0 - np.sum(pmf[0:c])\n",
    "log_likelihood = np.log(likelihood) - np.log(correction)\n",
    "print('True log-likelihood at p+dp     ',log_likelihood)\n"
   ]
  },
  {
   "cell_type": "markdown",
   "metadata": {},
   "source": [
    "# Prior on mu - log prior and gradient"
   ]
  },
  {
   "cell_type": "code",
   "execution_count": null,
   "metadata": {},
   "outputs": [],
   "source": [
    "bins = np.array([0.0, 5.0, 16.0, 17.0])\n",
    "G = 0.5*(bins[1:]+bins[:-1])\n",
    "G2 = np.square(G[:,np.newaxis]-G[np.newaxis,:])\n",
    "M = bins.size-1\n",
    "\n",
    "mu = np.array([-1.2,3.4,0.3])\n",
    "m = 1.2\n",
    "tau2 = 0.3**2.0\n",
    "\n",
    "\n",
    "def log_prior(mu,m,tau2):\n",
    "    J = tau2*np.exp(-G2/2.0/m**2)\n",
    "    J_inv = np.linalg.pinv(J)\n",
    "    J_inv_mu = np.dot(J_inv,mu)\n",
    "    \n",
    "    lnP = +0.5*np.linalg.slogdet(J_inv)[1]-0.5*np.dot(mu.T,J_inv_mu) - (M/2)*np.log(2.0*np.pi)\n",
    "    \n",
    "    dJdm = J*G2/m**3\n",
    "    dJdtau2 = J/tau2\n",
    "\n",
    "    dlnPdm = -0.5*np.trace(np.dot(J_inv,dJdm))+0.5*np.dot(J_inv_mu.T,np.dot(dJdm,J_inv_mu))\n",
    "    dlnPdtau2 = -0.5*np.trace(np.dot(J_inv,dJdtau2))+0.5*np.dot(J_inv_mu.T,np.dot(dJdtau2,J_inv_mu))\n",
    "    dlnPdmu = -J_inv_mu\n",
    "    \n",
    "    return lnP, dlnPdmu, dlnPdm, dlnPdtau2\n",
    "\n",
    "def check(x,y,z):\n",
    "    print(x,y,(x-y)/z)\n",
    "\n",
    "lnP, dlnPdmu, dlnPdm, dlnPdtau2 = log_prior(mu,m,tau2)\n",
    "lnP_truth = stats.multivariate_normal(mean=np.zeros(M),cov=J,allow_singular=True).logpdf(mu)\n",
    "check(lnP,lnP_truth,lnP_truth)\n",
    "h = 1e-7\n",
    "\n",
    "lnP_dmu = log_prior(mu+h*np.array([1,0,0]),m,tau2)[0]\n",
    "check(lnP+h*dlnPdmu[0],lnP_dmu,lnP_truth)\n",
    "\n",
    "lnP_dm = log_prior(mu,m+h,tau2)[0]\n",
    "check(lnP+h*dlnPdm,lnP_dm,lnP_truth)\n",
    "\n",
    "lnP_dtau2 = log_prior(mu,m,tau2+h)[0]\n",
    "check(lnP+h*dlnPdtau2,lnP_dtau2,lnP_truth)"
   ]
  },
  {
   "cell_type": "markdown",
   "metadata": {},
   "source": [
    "# Prior on x"
   ]
  },
  {
   "cell_type": "code",
   "execution_count": 183,
   "metadata": {},
   "outputs": [
    {
     "data": {
      "text/plain": [
       "True"
      ]
     },
     "execution_count": 183,
     "metadata": {},
     "output_type": "execute_result"
    }
   ],
   "source": [
    "Ng = 10\n",
    "Nt = 15\n",
    "x = np.random.randn(Ng*Nt,1)\n",
    "mu = np.arange(Ng)/10.0\n",
    "Y = x.reshape((Ng,Nt)) - mu.reshape((Ng,1))\n",
    "\n",
    "t = np.arange(Nt)\n",
    "lt = 10.3\n",
    "tau = np.abs(t[:,np.newaxis]-t[np.newaxis,:])\n",
    "K = np.exp(-tau/lt)\n",
    "invK = np.linalg.pinv(K)\n",
    "dK_dlt = tau*K/lt/lt\n",
    "result = np.einsum('ij,jk,kl->il',Y,invK,dK_dlt)\n",
    "u = np.exp(-1/lt)\n",
    "u2 = u*u\n",
    "\n",
    "power_u = np.power(u,np.arange(Nt))\n",
    "\n",
    "approx = np.zeros((Ng,Nt))\n",
    "\n",
    "for i in range(Ng):\n",
    "    for l in range(Nt):\n",
    "        #approx[i,l] =  (Y[i,0]*np.power(u,l+2) + Y[i,-1]*np.power(u,Nt-l+1) - (1.0+u*u)*Y[i,l])/(1.0-u*u)\n",
    "        approx[i,l] =  (u2*Y[i,0]*power_u[l] + u2*Y[i,-1]*power_u[Nt-l-1] - (1.0+u2)*Y[i,l])/(1.0-u2)\n",
    "        for j in range(Nt):\n",
    "            approx[i,l] += Y[i,j]*power_u[np.abs(l-j)]\n",
    "approx = approx / (lt*lt)\n",
    "#print(result)\n",
    "#print(approx)\n",
    "np.allclose(result,approx)"
   ]
  },
  {
   "cell_type": "code",
   "execution_count": 342,
   "metadata": {},
   "outputs": [],
   "source": [
    "from numba import njit\n",
    "from math import ceil\n",
    "\n",
    "@njit\n",
    "def func_approx(Ng,Nt,lt,Y,result):\n",
    "    \n",
    "    u = np.exp(-1/lt)\n",
    "    u2 = u*u\n",
    "    power_u = np.power(u,np.arange(Nt))\n",
    "    \n",
    "    lt2 = lt*lt\n",
    "    \n",
    "    for i in range(Ng):\n",
    "        for l in range(Nt):\n",
    "            res =  (u2*Y[i,0]*power_u[l] + u2*Y[i,-1]*power_u[Nt-l-1] - (1.0+u2)*Y[i,l])/(1.0-u2)\n",
    "            for j in range(Nt):\n",
    "                res += Y[i,j]*power_u[abs(l-j)]\n",
    "            result[i,l] = res/lt2\n",
    "            \n",
    "@njit\n",
    "def func_truncate(Ng,Nt,lt,Y,result,log_eps=np.log(1e-16),safety_margin=10):\n",
    "    \n",
    "    u = np.exp(-1/lt)\n",
    "    u2 = u*u\n",
    "    \n",
    "    M = safety_margin+ceil(-lt*log_eps)\n",
    "    \n",
    "    power_u = np.power(u,np.arange(M))\n",
    "    \n",
    "    lt2 = lt*lt\n",
    "    \n",
    "    for i in range(Ng):\n",
    "        \n",
    "        for l in range(Nt):\n",
    "            \n",
    "            res =  - (1.0+u2)*Y[i,l]/(1.0-u2)\n",
    "            \n",
    "            if l < M:\n",
    "                res += u2*Y[i,0]*power_u[l]/(1.0-u2)\n",
    "                \n",
    "            if Nt-l-1 < M:\n",
    "                res += u2*Y[i,-1]*power_u[Nt-l-1]/(1.0-u2)\n",
    "            \n",
    "            #res = (u2*( Y[i,0]*power_u[min(M,l)] + Y[i,-1]*power_u[min(M,Nt-l-1)] ) - (1.0+u2)*Y[i,l])/(1.0-u2)\n",
    "            \n",
    "            for j in range(max(0,l-M),min(Nt,l+M)):\n",
    "                res += Y[i,j]*power_u[abs(l-j)]\n",
    "                \n",
    "            result[i,l] = res/lt2\n",
    "            \n",
    "def func_truth(Ng,Nt,lt,Y,result):\n",
    "    \n",
    "    t = np.arange(Nt)\n",
    "    tau = np.abs(t[:,np.newaxis]-t[np.newaxis,:])\n",
    "    K = np.exp(-tau/lt)\n",
    "    invK = np.linalg.pinv(K)\n",
    "    dK_dlt = tau*K/lt/lt\n",
    "    result[:] = np.einsum('ij,jk,kl->il',Y,invK,dK_dlt)"
   ]
  },
  {
   "cell_type": "code",
   "execution_count": 353,
   "metadata": {},
   "outputs": [],
   "source": [
    "Ng = 35\n",
    "Nt = 30000\n",
    "x = np.random.randn(Ng*Nt,1)\n",
    "mu = np.arange(Ng)/10.0\n",
    "Y = x.reshape((Ng,Nt)) - mu.reshape((Ng,1))\n",
    "lt = 10.2\n",
    "result_approx = np.zeros((Ng,Nt))\n",
    "result_truncate = np.zeros((Ng,Nt))\n",
    "result_truth = np.zeros((Ng,Nt))"
   ]
  },
  {
   "cell_type": "code",
   "execution_count": 354,
   "metadata": {},
   "outputs": [
    {
     "name": "stdout",
     "output_type": "stream",
     "text": [
      "CPU times: user 1min 2s, sys: 599 ms, total: 1min 2s\n",
      "Wall time: 1min 2s\n",
      "CPU times: user 1.16 s, sys: 11.2 ms, total: 1.17 s\n",
      "Wall time: 1.17 s\n",
      "True\n"
     ]
    }
   ],
   "source": [
    "if Nt < 250:\n",
    "    %time func_approx(Ng,Nt,lt,Y,result_approx)\n",
    "    %time func_truncate(Ng,Nt,lt,Y,result_truncate)\n",
    "    %time func_truth(Ng,Nt,lt,Y,result_truth)\n",
    "    #%timeit func_approx(Ng,Nt,lt,Y,result_approx)\n",
    "    print(np.allclose(result_approx,result_truth),np.allclose(result_truncate,result_truth),np.allclose(result_approx,result_truncate))\n",
    "elif Nt < 30000+1e-10:\n",
    "    %time func_approx(Ng,Nt,lt,Y,result_approx)\n",
    "    %time func_truncate(Ng,Nt,lt,Y,result_truncate)\n",
    "    print(np.allclose(result_approx,result_truncate))\n",
    "else:\n",
    "    %time func_truncate(Ng,Nt,lt,Y,result_truncate)"
   ]
  },
  {
   "cell_type": "code",
   "execution_count": 709,
   "metadata": {},
   "outputs": [],
   "source": [
    "from numba import njit\n",
    "from math import ceil\n",
    "\n",
    "@njit\n",
    "def func_invKgYinvKt(Ng,Nt,lt,invKgY,invKgYinvKt):\n",
    "\n",
    "    u = np.exp(-1.0/lt)\n",
    "    u2 = u*u\n",
    "    oneplusu2 = 1.0 + u2\n",
    "    oneoveroneminusu2 = 1.0 / ( 1.0 - u2 )\n",
    "    \n",
    "    for ig in range(Ng):\n",
    "        invKgYinvKt[ig,0] = (invKgY[ig,0] - u * invKgY[ig,1])*oneoveroneminusu2\n",
    "        invKgYinvKt[ig,-1] = (invKgY[ig,-1] - u * invKgY[ig,-2])*oneoveroneminusu2\n",
    "        for it in range(1,Nt-1):\n",
    "            invKgYinvKt[ig,it] = ( oneplusu2 * invKgY[ig,it] - u * ( invKgY[ig,it-1] + invKgY[ig,it+1] ) )*oneoveroneminusu2\n",
    "            \n",
    "            \n",
    "@njit\n",
    "def func_YJt(Ng,Nt,lt,Y,result,log_eps=np.log(1e-16),safety_margin=10):\n",
    "    \n",
    "    u = np.exp(-1/lt)\n",
    "    u2 = u*u\n",
    "    \n",
    "    M = safety_margin+ceil(-lt*log_eps)\n",
    "    \n",
    "    power_u = np.power(u,np.arange(M))\n",
    "    \n",
    "    lt2 = lt*lt\n",
    "    \n",
    "    for i in range(Ng):\n",
    "        \n",
    "        for l in range(Nt):\n",
    "            \n",
    "            res =  - (1.0+u2)*Y[i,l]/(1.0-u2)\n",
    "            \n",
    "            if l < M:\n",
    "                res += u2*Y[i,0]*power_u[l]/(1.0-u2)\n",
    "                \n",
    "            if Nt-l-1 < M:\n",
    "                res += u2*Y[i,-1]*power_u[Nt-l-1]/(1.0-u2)\n",
    "            \n",
    "            #res = (u2*( Y[i,0]*power_u[min(M,l)] + Y[i,-1]*power_u[min(M,Nt-l-1)] ) - (1.0+u2)*Y[i,l])/(1.0-u2)\n",
    "            \n",
    "            for j in range(max(0,l-M),min(Nt,l+M)):\n",
    "                res += Y[i,j]*power_u[abs(l-j)]\n",
    "                \n",
    "            result[i,l] = res/lt2\n",
    "    \n",
    "\n",
    "def log_prior_x(x,mu,sigma2,lt,lg,G2,Ng,Nt,lambd=1e-14,flag=True):\n",
    "    \n",
    "    # X is a (Ng,Nt) matrix\n",
    "    # mu is a (Ng,) vector\n",
    "    # sigma2, lt and lg are scalars\n",
    "    # G2 is a (Ng,Ng) matrix\n",
    "    \n",
    "    Y = x.reshape((Ng,Nt)) - mu.reshape((Ng,1))\n",
    "    \n",
    "    if flag:\n",
    "        Kg = np.exp(-G2/lg/lg/2.0)\n",
    "        invKg = np.linalg.pinv(Kg)\n",
    "        dKg_dlg = G2*Kg/lg/lg/lg\n",
    "        Jg = np.dot(invKg,dKg_dlg)\n",
    "        invKgY = np.dot(invKg,Y)\n",
    "    elif False:\n",
    "        Kg = np.exp(-G2/lg/lg/2.0)+lambd*np.diag(np.ones(Ng))\n",
    "        invKg = np.linalg.pinv(Kg)\n",
    "        dKg_dlg = G2*Kg/lg/lg/lg\n",
    "        Jg = np.dot(invKg,dKg_dlg)\n",
    "        invKgY = np.dot(invKg,Y)\n",
    "    else:\n",
    "        Kg = np.exp(-G2/lg/lg/2.0)\n",
    "        dKg_dlg = G2*Kg/lg/lg/lg\n",
    "        #Jg = np.linalg.lstsq(Kg,dKg_dlg,rcond=None)[0]\n",
    "        #invKgY = np.linalg.lstsq(Kg,Y,rcond=None)[0]\n",
    "        Jg = np.linalg.lstsq(np.dot(Kg.T,Kg)+lambd*np.diag(np.ones(Ng)),np.dot(Kg.T,dKg_dlg),rcond=None)[0]\n",
    "        invKgY = np.linalg.lstsq(np.dot(Kg.T,Kg)+lambd*np.diag(np.ones(Ng)),np.dot(Kg.T,Y),rcond=None)[0]\n",
    "        #np.linalg.lstsq(Kg,Y,rcond=None)[0]\n",
    "    \n",
    "    \n",
    "    invKgYinvKt = np.zeros((Ng,Nt))\n",
    "    func_invKgYinvKt(Ng,Nt,lt,invKgY,invKgYinvKt)\n",
    "    \n",
    "    u = np.exp(-1.0/lt)\n",
    "    u2 = u*u\n",
    "    logdetKg = np.linalg.slogdet(Kg)[1]\n",
    "    logdetinvKt = -(Nt-1.0)*np.log( 1.0 - u2 )\n",
    "    TrJg =  np.trace(Jg)\n",
    "    TrJt = -2.0*(Nt-1.0)*u2/(1.0-u2)/lt/lt\n",
    "    \n",
    "    Y_invKgYinvKt = (Y*invKgYinvKt).sum()\n",
    "    \n",
    "    JgTY = np.dot(Jg.T,Y)\n",
    "    JgTY_invKgYinvKt = (JgTY*invKgYinvKt).sum()\n",
    "    \n",
    "    YJt = np.zeros((Ng,Nt))\n",
    "    func_YJt(Ng,Nt,lt,Y,YJt,log_eps=np.log(1e-16))\n",
    "    YJt_invKgYinvKt = (YJt*invKgYinvKt).sum()\n",
    "    \n",
    "    lnP = -Ng*Nt*np.log(2.0*np.pi*sigma2)/2.0 + Ng*logdetinvKt/2.0 - Nt*logdetKg/2.0 - Y_invKgYinvKt/2.0/sigma2\n",
    "    \n",
    "    dlnP_dX = -invKgYinvKt/sigma2\n",
    "    dlnP_dx = dlnP_dX.ravel()\n",
    "    dlnP_dmu = -dlnP_dX.sum(axis=1)\n",
    "    dlnP_dsigma2 = -Ng*Nt/2.0/sigma2 + Y_invKgYinvKt/2.0/sigma2/sigma2\n",
    "    dlnP_dlt = -Ng*TrJt/2.0 + YJt_invKgYinvKt/2.0/sigma2\n",
    "    dlnP_dlg = -Nt*TrJg/2.0 + JgTY_invKgYinvKt/2.0/sigma2\n",
    "    #print(invKgY)\n",
    "    #print(Kg,Y)\n",
    "    \n",
    "    return lnP, dlnP_dx, dlnP_dmu, dlnP_dsigma2, dlnP_dlt, dlnP_dlg\n"
   ]
  },
  {
   "cell_type": "code",
   "execution_count": 680,
   "metadata": {},
   "outputs": [],
   "source": [
    "def log_prior_x_testing(x,mu,sigma2,lt,lg,T,G,Ng,Nt):\n",
    "    T = np.arange(Nt)\n",
    "    Xg, Xt = np.meshgrid(G, T, sparse=False, indexing='ij')\n",
    "    Y = x.reshape((Ng,Nt)) - mu.reshape((Ng,1))\n",
    "    xg, xt, y = Xg.reshape((Ng*Nt,1)), Xt.reshape((Ng*Nt,1)), Y.reshape((Ng*Nt,1))\n",
    "    K = sigma2 * np.exp(-np.abs(xt-xt.T)/lt) * np.exp(-np.square(xg-xg.T)/lg/lg/2.0)\n",
    "    invK = np.linalg.pinv(K)\n",
    "    lnP = -Ng*Nt*np.log(2.0*np.pi)/2.0 - np.linalg.slogdet(K)[1]/2.0 -0.5*np.dot(y.T,np.dot(invK,y))\n",
    "    return lnP[0,0]"
   ]
  },
  {
   "cell_type": "code",
   "execution_count": 703,
   "metadata": {},
   "outputs": [
    {
     "name": "stdout",
     "output_type": "stream",
     "text": [
      "CPU times: user 545 ms, sys: 13 ms, total: 558 ms\n",
      "Wall time: 560 ms\n",
      "lnP\t\t -178.64112134459376 -178.6411213445928\n",
      "dlnP_dlt\t -178.64112136186935 -178.64112136186787\n",
      "dlnP_dlg\t -178.64112126436964 -178.64112126437163\n",
      "dlnP_dsigma2\t -178.6411205591856 -178.64112055918696\n",
      "dlnP_dmu\t -178.641121348297 -178.64112134829605\n",
      "dlnP_dx\t\t -178.64112134089052 -178.64112134088958\n"
     ]
    }
   ],
   "source": [
    "np.random.seed(1)\n",
    "g = np.array([0.0, 5.0, 16.0, 17.0, 18.0])#, 18.2, 18.4, 18.6, 18.8, 19.0, 19.1, 19.2, 19.3, 19.4, 19.5, 19.6, 19.7, 19.8, 19.9, 20.0, 20.1, 20.2, 20.3, 20.4, 20.5, 20.6, 20.7, 20.8, 20.9, 21.0, 21.1, 21.2, 21.3, 21.4, 21.5, 25.0])\n",
    "G = 0.5*(g[1:]+g[:-1])\n",
    "G2 = np.square(G[:,np.newaxis]-G[np.newaxis,:])\n",
    "Ng = g.size-1\n",
    "Nt = 2\n",
    "T = np.arange(Nt)\n",
    "x = np.random.randn(Ng*Nt,1)\n",
    "mu = np.arange(Ng)/10.0\n",
    "#Y = x.reshape((Ng,Nt)) - mu.reshape((Ng,1))\n",
    "sigma2, lt, lg = 2.2,100.2,1.3\n",
    "h = 1e-8\n",
    "\n",
    "%time lnP, dlnP_dx, dlnP_dmu, dlnP_dsigma2, dlnP_dlt, dlnP_dlg = log_prior_x(x,mu,sigma2,lt,lg,G2,Ng,Nt)\n",
    "#print('done')\n",
    "lnP_test = log_prior_x_testing(x,mu,sigma2,lt,lg,T,G,Ng,Nt)\n",
    "\n",
    "print('lnP\\t\\t',lnP,lnP_test)\n",
    "\n",
    "lnP_test = log_prior_x_testing(x,mu,sigma2,lt+h,lg,T,G,Ng,Nt)\n",
    "print('dlnP_dlt\\t',lnP+h*dlnP_dlt,lnP_test) \n",
    "\n",
    "lnP_test = log_prior_x_testing(x,mu,sigma2,lt,lg+h,T,G,Ng,Nt)\n",
    "print('dlnP_dlg\\t',lnP+h*dlnP_dlg,lnP_test) \n",
    "\n",
    "lnP_test = log_prior_x_testing(x,mu,sigma2+h,lt,lg,T,G,Ng,Nt)\n",
    "print('dlnP_dsigma2\\t',lnP+h*dlnP_dsigma2,lnP_test)\n",
    "\n",
    "lnP_test = log_prior_x_testing(x,mu+h,sigma2,lt,lg,T,G,Ng,Nt)\n",
    "print('dlnP_dmu\\t',lnP+(h*dlnP_dmu).sum(),lnP_test)\n",
    "\n",
    "lnP_test = log_prior_x_testing(x+h,mu,sigma2,lt,lg,T,G,Ng,Nt)\n",
    "print('dlnP_dx\\t\\t',lnP+(h*dlnP_dx).sum(),lnP_test)"
   ]
  },
  {
   "cell_type": "code",
   "execution_count": 721,
   "metadata": {},
   "outputs": [
    {
     "name": "stdout",
     "output_type": "stream",
     "text": [
      "CPU times: user 226 ms, sys: 2.37 ms, total: 229 ms\n",
      "Wall time: 230 ms\n",
      "-3.762887983813031e+18\n",
      "CPU times: user 223 ms, sys: 1.74 ms, total: 225 ms\n",
      "Wall time: 226 ms\n",
      "-49138377449.46614\n"
     ]
    }
   ],
   "source": [
    "np.random.seed(1)\n",
    "g = np.array([0.0, 5.0, 16.0, 17.0, 18.0, 18.2, 18.4, 18.6, 18.8, 19.0, 19.1, 19.2, 19.3, 19.4, 19.5, 19.6, 19.7, 19.8, 19.9, 20.0, 20.1, 20.2, 20.3, 20.4, 20.5, 20.6, 20.7, 20.8, 20.9, 21.0, 21.1, 21.2, 21.3, 21.4, 21.5, 25.0])\n",
    "#g = np.array([16.0, 17.0, 18.0, 18.2, 18.4, 18.6, 18.8, 19.0, 19.1, 19.2, 19.3, 19.4, 19.5, 19.6, 19.7, 19.8, 19.9, 20.0, 20.1, 20.2, 20.3, 20.4, 20.5, 20.6, 20.7, 20.8, 20.9, 21.0, 21.1, 21.2, 21.3, 21.4, 21.5])#, 25.0])\n",
    "\n",
    "#g = np.arange(36)\n",
    "#g[0] -= 100\n",
    "G = 0.5*(g[1:]+g[:-1])\n",
    "G2 = np.square(G[:,np.newaxis]-G[np.newaxis,:])\n",
    "Ng = g.size-1\n",
    "Nt = 2000\n",
    "T = np.arange(Nt)\n",
    "x = np.random.randn(Ng*Nt,1)\n",
    "mu = np.arange(Ng)/30.0\n",
    "#Y = x.reshape((Ng,Nt)) - mu.reshape((Ng,1))\n",
    "sigma2, lt, lg = 2.2,100.2,0.3\n",
    "\n",
    "%time lnP, dlnP_dx, dlnP_dmu, dlnP_dsigma2, dlnP_dlt, dlnP_dlg = log_prior_x(x,mu,sigma2,lt,lg,G2,Ng,Nt,lambd=0.0,flag=True)\n",
    "print(lnP)\n",
    "\n",
    "%time lnP, dlnP_dx, dlnP_dmu, dlnP_dsigma2, dlnP_dlt, dlnP_dlg = log_prior_x(x,mu,sigma2,lt,lg,G2,Ng,Nt,lambd=0.0,flag=False)\n",
    "print(lnP)"
   ]
  },
  {
   "cell_type": "code",
   "execution_count": null,
   "metadata": {},
   "outputs": [],
   "source": [
    "-449610475.01928824,-5679575041.718402"
   ]
  },
  {
   "cell_type": "code",
   "execution_count": 677,
   "metadata": {},
   "outputs": [
    {
     "name": "stderr",
     "output_type": "stream",
     "text": [
      "100%|██████████| 100/100 [00:20<00:00,  4.79it/s]\n"
     ]
    }
   ],
   "source": [
    "import tqdm\n",
    "lambd = np.logspace(-16,-3,100)\n",
    "lnP = np.array([log_prior_x(x,mu,sigma2,lt,lg,G2,Ng,Nt,l)[0] for l in tqdm.tqdm(lambd)])"
   ]
  },
  {
   "cell_type": "code",
   "execution_count": 628,
   "metadata": {},
   "outputs": [
    {
     "data": {
      "text/plain": [
       "-398.52740040557495"
      ]
     },
     "execution_count": 628,
     "metadata": {},
     "output_type": "execute_result"
    }
   ],
   "source": [
    "np.linalg.slogdet(np.exp(-G2/lg/lg/2.0)+1e-11*np.diag(np.ones(Ng)))[1]"
   ]
  },
  {
   "cell_type": "code",
   "execution_count": 678,
   "metadata": {},
   "outputs": [
    {
     "data": {
      "application/vnd.jupyter.widget-view+json": {
       "model_id": "edce954aec5e4f5a8c88500083d9aecc",
       "version_major": 2,
       "version_minor": 0
      },
      "text/plain": [
       "Canvas(toolbar=Toolbar(toolitems=[('Home', 'Reset original view', 'home', 'home'), ('Back', 'Back to previous …"
      ]
     },
     "metadata": {},
     "output_type": "display_data"
    }
   ],
   "source": [
    "plt.figure()\n",
    "plt.plot(lambd,-lnP)\n",
    "plt.xscale('log')\n",
    "plt.yscale('log')\n",
    "plt.xlabel('regularisation')\n",
    "plt.ylabel('lnP')\n",
    "plt.savefig('./line.png',dpi=300,bbox_inches='tight')\n"
   ]
  },
  {
   "cell_type": "code",
   "execution_count": 711,
   "metadata": {},
   "outputs": [],
   "source": [
    "Y = x.reshape((Ng,Nt)) - mu.reshape((Ng,1))\n",
    "Kg_mod = np.exp(-G2/lg/lg/2.0)+1e-4*np.diag(np.ones(Ng))\n",
    "invKg_mod = np.linalg.pinv(Kg_mod,hermitian=True)\n",
    "\n",
    "Kg = np.exp(-G2/lg/lg/2.0)\n",
    "invKg = np.linalg.pinv(Kg,hermitian=True)\n",
    "#Kg[Kg<1e-7] = 0.0\n",
    "#dKg_dlg = G2*Kg/lg/lg/lg\n",
    "#Jg = np.linalg.lstsq(Kg,dKg_dlg,rcond=None)[0]\n",
    "#invKgY = np.linalg.lstsq(Kg,Y,rcond=None)[0]\n",
    "invKg = np.linalg.lstsq(np.dot(Kg.T,Kg)+1e-10*np.diag(np.ones(Ng)),Kg.T,rcond=None)[0]\n",
    "\n"
   ]
  },
  {
   "cell_type": "code",
   "execution_count": 713,
   "metadata": {},
   "outputs": [
    {
     "data": {
      "text/plain": [
       "-967.0161740445541"
      ]
     },
     "execution_count": 713,
     "metadata": {},
     "output_type": "execute_result"
    }
   ],
   "source": [
    "np.linalg.slogdet(Kg)[1]"
   ]
  },
  {
   "cell_type": "code",
   "execution_count": 714,
   "metadata": {},
   "outputs": [
    {
     "data": {
      "text/plain": [
       "-913.5607862529772"
      ]
     },
     "execution_count": 714,
     "metadata": {},
     "output_type": "execute_result"
    }
   ],
   "source": [
    "np.linalg.slogdet(np.dot(Kg.T,Kg))[1]"
   ]
  },
  {
   "cell_type": "code",
   "execution_count": 660,
   "metadata": {},
   "outputs": [
    {
     "data": {
      "application/vnd.jupyter.widget-view+json": {
       "model_id": "ba4e938301344fdcb2f8426df97b615e",
       "version_major": 2,
       "version_minor": 0
      },
      "text/plain": [
       "Canvas(toolbar=Toolbar(toolitems=[('Home', 'Reset original view', 'home', 'home'), ('Back', 'Back to previous …"
      ]
     },
     "metadata": {},
     "output_type": "display_data"
    },
    {
     "data": {
      "text/plain": [
       "<matplotlib.image.AxesImage at 0x7fa82e7fa150>"
      ]
     },
     "execution_count": 660,
     "metadata": {},
     "output_type": "execute_result"
    }
   ],
   "source": [
    "r = np.linalg.matrix_rank(Kg)\n",
    "INVKG = np.dot(vt.T[:,:r],np.dot(np.diag(1.0/s[:r]),u[:,:r].T))\n",
    "\n",
    "plt.figure()\n",
    "plt.imshow(np.dot(INVKG,Kg),cmap='RdBu_r',vmin=-0.5,vmax=0.5)"
   ]
  },
  {
   "cell_type": "code",
   "execution_count": 492,
   "metadata": {},
   "outputs": [
    {
     "data": {
      "application/vnd.jupyter.widget-view+json": {
       "model_id": "1ca296ce61b2472a8c829fa7dba59163",
       "version_major": 2,
       "version_minor": 0
      },
      "text/plain": [
       "Canvas(toolbar=Toolbar(toolitems=[('Home', 'Reset original view', 'home', 'home'), ('Back', 'Back to previous …"
      ]
     },
     "metadata": {},
     "output_type": "display_data"
    },
    {
     "data": {
      "text/plain": [
       "<matplotlib.colorbar.Colorbar at 0x7fa8447c6b10>"
      ]
     },
     "execution_count": 492,
     "metadata": {},
     "output_type": "execute_result"
    }
   ],
   "source": [
    "plt.figure()\n",
    "plt.imshow(Kg_mod)\n",
    "plt.colorbar()"
   ]
  },
  {
   "cell_type": "code",
   "execution_count": 593,
   "metadata": {},
   "outputs": [
    {
     "data": {
      "text/plain": [
       "((-1.0, -492.09180506832456), (1.0, -182.61204788514593))"
      ]
     },
     "execution_count": 593,
     "metadata": {},
     "output_type": "execute_result"
    }
   ],
   "source": [
    "np.linalg.slogdet(Kg),np.linalg.slogdet(Kg_mod)"
   ]
  },
  {
   "cell_type": "code",
   "execution_count": 621,
   "metadata": {},
   "outputs": [
    {
     "data": {
      "application/vnd.jupyter.widget-view+json": {
       "model_id": "64c0398107cf4b81bf96a10e06f737f7",
       "version_major": 2,
       "version_minor": 0
      },
      "text/plain": [
       "Canvas(toolbar=Toolbar(toolitems=[('Home', 'Reset original view', 'home', 'home'), ('Back', 'Back to previous …"
      ]
     },
     "metadata": {},
     "output_type": "display_data"
    },
    {
     "data": {
      "text/plain": [
       "<matplotlib.image.AxesImage at 0x7fa82ea1eed0>"
      ]
     },
     "execution_count": 621,
     "metadata": {},
     "output_type": "execute_result"
    }
   ],
   "source": [
    "plt.figure()\n",
    "#ax1.imshow(np.diag(np.ones(Ng)),cmap='RdBu_r',vmin=-0.5,vmax=0.5)\n",
    "plt.imshow(np.dot(invKg,Kg),cmap='RdBu_r',vmin=-0.5,vmax=0.5)\n",
    "#plt.savefig('./ugly.png',dpi=300,bbox_inches='tight')"
   ]
  },
  {
   "cell_type": "code",
   "execution_count": 317,
   "metadata": {},
   "outputs": [
    {
     "data": {
      "text/plain": [
       "array([[1.00000000e+000, 0.00000000e+000, 0.00000000e+000, ...,\n",
       "        0.00000000e+000, 0.00000000e+000, 0.00000000e+000],\n",
       "       [2.57220937e-056, 1.00000000e+000, 0.00000000e+000, ...,\n",
       "        0.00000000e+000, 0.00000000e+000, 0.00000000e+000],\n",
       "       [5.70904011e-171, 5.38018616e-032, 1.00000000e+000, ...,\n",
       "        0.00000000e+000, 0.00000000e+000, 0.00000000e+000],\n",
       "       ...,\n",
       "       [2.34853971e-309, 5.59159501e-103, 3.70353198e-021, ...,\n",
       "        4.89248978e-004, 0.00000000e+000, 0.00000000e+000],\n",
       "       [1.22329619e-312, 7.14515686e-105, 5.21673666e-022, ...,\n",
       "        3.07543319e-003, 4.88853657e-004, 0.00000000e+000],\n",
       "       [0.00000000e+000, 6.30966891e-142, 2.66020642e-040, ...,\n",
       "        3.09297601e-002, 5.21319436e-002, 9.97955107e-001]])"
      ]
     },
     "execution_count": 317,
     "metadata": {},
     "output_type": "execute_result"
    }
   ],
   "source": [
    "Lg"
   ]
  },
  {
   "cell_type": "code",
   "execution_count": 327,
   "metadata": {},
   "outputs": [],
   "source": [
    "Lg = np.linalg.cholesky(Kg+1e-15*np.diag(np.ones(Ng)))\n",
    "invLg = np.linalg.pinv(Lg).T#,np.diag(np.ones(Ng)),rcond=None)[0]\n",
    "invKg = np.dot(invLg,invLg.T)"
   ]
  },
  {
   "cell_type": "code",
   "execution_count": 404,
   "metadata": {},
   "outputs": [
    {
     "data": {
      "text/plain": [
       "array([[ 6.23164582e+09, -3.26997790e+09, -3.92248215e+09, ...,\n",
       "        -2.24738583e+09, -3.32566835e+09, -4.54163622e+09],\n",
       "       [-3.27027406e+09,  1.71651805e+09,  2.05883595e+09, ...,\n",
       "         1.17980334e+09,  1.74580904e+09,  2.38408497e+09],\n",
       "       [-3.92241897e+09,  2.05861636e+09,  2.46924268e+09, ...,\n",
       "         1.41490314e+09,  2.09372092e+09,  2.85921446e+09],\n",
       "       ...,\n",
       "       [-2.24740417e+09,  1.17970613e+09,  1.41493747e+09, ...,\n",
       "         8.10852263e+08,  1.19984609e+09,  1.63850802e+09],\n",
       "       [-3.32566996e+09,  1.74565180e+09,  2.09375566e+09, ...,\n",
       "         1.19983689e+09,  1.77544681e+09,  2.42455295e+09],\n",
       "       [-4.54140182e+09,  2.38374606e+09,  2.85911295e+09, ...,\n",
       "         1.63841010e+09,  2.42442665e+09,  3.31080527e+09]])"
      ]
     },
     "execution_count": 404,
     "metadata": {},
     "output_type": "execute_result"
    }
   ],
   "source": [
    "np.linalg.pinv(np.exp(-G2/lt/lt/2-np.linalg.slogdet(Kg)[1]/Nt))"
   ]
  },
  {
   "cell_type": "code",
   "execution_count": 396,
   "metadata": {},
   "outputs": [
    {
     "data": {
      "application/vnd.jupyter.widget-view+json": {
       "model_id": "bd460f5518b24b038cabba2feeee566d",
       "version_major": 2,
       "version_minor": 0
      },
      "text/plain": [
       "Canvas(toolbar=Toolbar(toolitems=[('Home', 'Reset original view', 'home', 'home'), ('Back', 'Back to previous …"
      ]
     },
     "metadata": {},
     "output_type": "display_data"
    },
    {
     "data": {
      "text/plain": [
       "<matplotlib.colorbar.Colorbar at 0x7fa84f2962d0>"
      ]
     },
     "execution_count": 396,
     "metadata": {},
     "output_type": "execute_result"
    }
   ],
   "source": [
    "plt.figure()\n",
    "plt.imshow(Kg)\n",
    "plt.colorbar()"
   ]
  },
  {
   "cell_type": "code",
   "execution_count": 600,
   "metadata": {},
   "outputs": [
    {
     "data": {
      "text/plain": [
       "(0.3678794411714422, 0.36787944117144233)"
      ]
     },
     "execution_count": 600,
     "metadata": {},
     "output_type": "execute_result"
    }
   ],
   "source": [
    "np.linalg.s"
   ]
  },
  {
   "cell_type": "code",
   "execution_count": 606,
   "metadata": {},
   "outputs": [],
   "source": [
    "n = 4\n",
    "l = 1.0/np.sqrt(2)\n",
    "x = np.arange(n).reshape((n,1))\n",
    "X2 = np.square(x-x.T)\n",
    "u = np.exp(-1.0/l/l/2.0)\n",
    "K = u**X2"
   ]
  },
  {
   "cell_type": "code",
   "execution_count": 607,
   "metadata": {},
   "outputs": [
    {
     "name": "stdout",
     "output_type": "stream",
     "text": [
      "[[1.00000000e+00 3.67879441e-01 1.83156389e-02 1.23409804e-04]\n",
      " [3.67879441e-01 1.00000000e+00 3.67879441e-01 1.83156389e-02]\n",
      " [1.83156389e-02 3.67879441e-01 1.00000000e+00 3.67879441e-01]\n",
      " [1.23409804e-04 1.83156389e-02 3.67879441e-01 1.00000000e+00]]\n"
     ]
    }
   ],
   "source": [
    "print(K)"
   ]
  },
  {
   "cell_type": "code",
   "execution_count": 610,
   "metadata": {},
   "outputs": [
    {
     "data": {
      "text/plain": [
       "2.3562429033510655"
      ]
     },
     "execution_count": 610,
     "metadata": {},
     "output_type": "execute_result"
    }
   ],
   "source": [
    "1.18102267/0.50123129"
   ]
  },
  {
   "cell_type": "code",
   "execution_count": 609,
   "metadata": {},
   "outputs": [
    {
     "name": "stdout",
     "output_type": "stream",
     "text": [
      "[[ 1.18102267 -0.50123129  0.18439269 -0.05879966]\n",
      " [-0.50123129  1.39082    -0.57030799  0.18439269]\n",
      " [ 0.18439269 -0.57030799  1.39082    -0.50123129]\n",
      " [-0.05879966  0.18439269 -0.50123129  1.18102267]]\n"
     ]
    }
   ],
   "source": [
    "invK = np.linalg.pinv(K)\n",
    "print(invK)"
   ]
  },
  {
   "cell_type": "code",
   "execution_count": 646,
   "metadata": {},
   "outputs": [
    {
     "data": {
      "text/plain": [
       "array([[ 0.86681333, -0.36787944,  0.13533528, -0.04315609],\n",
       "       [-0.36787944,  1.02079439, -0.41857839,  0.13533528],\n",
       "       [ 0.13533528, -0.41857839,  1.02079439, -0.36787944],\n",
       "       [-0.04315609,  0.13533528, -0.36787944,  0.86681333]])"
      ]
     },
     "execution_count": 646,
     "metadata": {},
     "output_type": "execute_result"
    }
   ],
   "source": [
    "invK*(1.0-u**2)**3*(1+u**2)"
   ]
  },
  {
   "cell_type": "markdown",
   "metadata": {},
   "source": [
    "# Investigating priors on hyperparameters"
   ]
  },
  {
   "cell_type": "markdown",
   "metadata": {},
   "source": [
    "### Lengthscale"
   ]
  },
  {
   "cell_type": "code",
   "execution_count": null,
   "metadata": {},
   "outputs": [],
   "source": [
    "plt.figure()\n",
    "x = np.linspace(0.1,10,10001)\n",
    "\n",
    "# InvGamma(5,5)\n",
    "plt.plot(x,stats.invgamma(a=1.0,scale=2.0).pdf(x))\n",
    "plt.yscale('log')"
   ]
  },
  {
   "cell_type": "markdown",
   "metadata": {},
   "source": [
    "### Variance"
   ]
  },
  {
   "cell_type": "code",
   "execution_count": null,
   "metadata": {},
   "outputs": [],
   "source": [
    "plt.figure()\n",
    "x = np.linspace(0.1,10,10001)\n",
    "\n",
    "# InvGamma(5,5)\n",
    "plt.plot(x,stats.gamma(a=1.0,scale=1.0).pdf(x))\n",
    "plt.yscale('log')"
   ]
  },
  {
   "cell_type": "markdown",
   "metadata": {},
   "source": [
    "# Global"
   ]
  },
  {
   "cell_type": "code",
   "execution_count": 61,
   "metadata": {},
   "outputs": [],
   "source": []
  },
  {
   "cell_type": "code",
   "execution_count": 37,
   "metadata": {},
   "outputs": [
    {
     "data": {
      "text/plain": [
       "0"
      ]
     },
     "execution_count": 37,
     "metadata": {},
     "output_type": "execute_result"
    }
   ],
   "source": [
    "stats.rv_discrete(values=(np.arange(stars[i]['n']+1),pmf)).rvs()"
   ]
  },
  {
   "cell_type": "code",
   "execution_count": 58,
   "metadata": {},
   "outputs": [
    {
     "data": {
      "text/plain": [
       "2"
      ]
     },
     "execution_count": 58,
     "metadata": {},
     "output_type": "execute_result"
    }
   ],
   "source": []
  },
  {
   "cell_type": "code",
   "execution_count": 5,
   "metadata": {},
   "outputs": [
    {
     "data": {
      "text/plain": [
       "array([0.0024, 0.0808, 0.5712, 0.3456])"
      ]
     },
     "execution_count": 5,
     "metadata": {},
     "output_type": "execute_result"
    }
   ],
   "source": [
    "poisson_binomial_pmf_direct(np.array([0.4,0.9,0.96]))"
   ]
  },
  {
   "cell_type": "code",
   "execution_count": 78,
   "metadata": {},
   "outputs": [],
   "source": [
    "a = np.random.randn(3, 3)\n",
    "b = np.random.randn(3, 1)\n",
    "c = a*b"
   ]
  },
  {
   "cell_type": "code",
   "execution_count": 79,
   "metadata": {},
   "outputs": [
    {
     "data": {
      "text/plain": [
       "(3, 3)"
      ]
     },
     "execution_count": 79,
     "metadata": {},
     "output_type": "execute_result"
    }
   ],
   "source": [
    "c.shape"
   ]
  },
  {
   "cell_type": "code",
   "execution_count": 63,
   "metadata": {},
   "outputs": [
    {
     "ename": "SyntaxError",
     "evalue": "invalid syntax (<ipython-input-63-2fe86dc56c0d>, line 94)",
     "output_type": "error",
     "traceback": [
      "\u001b[0;36m  File \u001b[0;32m\"<ipython-input-63-2fe86dc56c0d>\"\u001b[0;36m, line \u001b[0;32m94\u001b[0m\n\u001b[0;31m    L, dLdp =\u001b[0m\n\u001b[0m              ^\u001b[0m\n\u001b[0;31mSyntaxError\u001b[0m\u001b[0;31m:\u001b[0m invalid syntax\n"
     ]
    }
   ],
   "source": [
    "#bins = np.array([0.0, 5.0, 16.0, 17.0, 18.0, 18.2, 18.4, 18.6, 18.8, 19.0, 19.1, 19.2, 19.3, 19.4, 19.5, 19.6, 19.7, 19.8, 19.9, 20.0, 20.1, 20.2, 20.3, 20.4, 20.5, 20.6, 20.7, 20.8, 20.9, 21.0, 21.1, 21.2, 21.3, 21.4, 21.5, 25.0])\n",
    "bins = np.array([-2.0,-1.0,0.0, 1.0, 2.0])\n",
    "G = 0.5*(bins[1:]+bins[:-1])\n",
    "G_squared = np.square(G[:,np.newaxis]-G[np.newaxis,:])\n",
    "M = bins.size-1\n",
    "N = 10\n",
    "p_groundtruth = special.expit(-G[:,np.newaxis]*np.ones((M,N)))\n",
    "p_groundtruth[:,:3] = 0.0\n",
    "\n",
    "stars = {}\n",
    "times = np.arange(N).astype(np.int)\n",
    "N_star = 123\n",
    "for i in range(N_star):\n",
    "    stars[i] = {}\n",
    "    stars[i]['n'] = np.random.randint(N)\n",
    "    stars[i]['g'] = np.random.randint(M)\n",
    "    stars[i]['t'] = np.sort(np.random.choice(times,stars[i]['n'],replace=False))\n",
    "    probs = p_groundtruth[stars[i]['g'],stars[i]['t']]\n",
    "    pmf = poisson_binomial_pmf_direct(probs)\n",
    "    stars[i]['k'] = np.random.choice(np.arange(0, stars[i]['n']+1), p=pmf)\n",
    "    \n",
    "#tmp_args = np.concatenate([np.array([4.0,0.5,4.0,0.5]),np.ones(N_bins),np.random.normal(0,1,N_bins*N_times)])\n",
    "\n",
    "def log_prior_x(x,mu,l,sigma2):\n",
    "    \n",
    "    expml = np.exp(-l)\n",
    "    expm2l = expml*expml\n",
    "    \n",
    "    d = x-mu\n",
    "    \n",
    "    A = d[0]**2+d[-1]**2\n",
    "    B = np.sum(d[1:-1]**2)\n",
    "    C = d[:-1]*d[1:]\n",
    "    D = d[0] + d[-1]\n",
    "    E = np.sum(d[1:-1])\n",
    "    \n",
    "    lnP = -N/2*np.log(sigma2) - (N-1)/2*np.log(1-expm2l) - N/2*np.log(2*np.pi) - ( A + (1+expm2l)*B - 2*expml*C )/(2*sigma2*(1-expm2l))\n",
    "    \n",
    "    dlnPdl = ((N-1)*sigma2*expm2l*(1-expm2l) + C*expml*(1+expm2l) - expm2l*(A+2*B))/(l*l*(1-expm2l)*(1-expm2l))\n",
    "    \n",
    "    dlnPdsigma2 = -N/2/sigma2 + ( A + (1+expm2l)*B - 2*expml*C )/(2*sigma2*sigma2*(1-expm2l))\n",
    "    \n",
    "    dlnPdmu =  (D+(1-expml)*E)/(sigma2*(1+xpml))\n",
    "    \n",
    "    dlnPdx = np.zeros(N)\n",
    "    dlnPdx[0] = -(d[0]-expml*d[1])/(sigma2*(1-expm2l))\n",
    "    for i in range(1,N-1):\n",
    "        dlnPdx[i] = -((1+expm2l)*d[i]-expml*(d[i-1]+d[i+1]))/(sigma2*(1-expm2l))\n",
    "    dlnPdx[-1] = -(d[-1]-expml*d[-2])/(sigma2*(1-expm2l))\n",
    "    \n",
    "    return lnP, dlnPdx, dlnPdmu, dlnPdl, dlnPdsigma2\n",
    "\n",
    "def log_prior_mu(mu,m,tau2):\n",
    "    \n",
    "    J = tau2*np.exp(-G_squared/2.0/m**2)\n",
    "    J_inv = np.linalg.pinv(J)\n",
    "    J_inv_mu = np.dot(J_inv,mu)\n",
    "    \n",
    "    lnQ = +0.5*np.linalg.slogdet(J_inv)[1]-0.5*np.dot(mu.T,J_inv_mu) - (M/2)*np.log(2.0*np.pi)\n",
    "    \n",
    "    dJdm = J*G2/m**3\n",
    "    dJdtau2 = J/tau2\n",
    "\n",
    "    dlnQdm = -0.5*np.trace(np.dot(J_inv,dJdm))+0.5*np.dot(J_inv_mu.T,np.dot(dJdm,J_inv_mu))\n",
    "    dlnQdtau2 = -0.5*np.trace(np.dot(J_inv,dJdtau2))+0.5*np.dot(J_inv_mu.T,np.dot(dJdtau2,J_inv_mu))\n",
    "    dlnQdmu = -J_inv_mu\n",
    "    \n",
    "    return lnQ, dlnQdmu, dlnQdm, dlnQdtau2\n",
    "\n",
    "def log_prior_lengthscale(l):\n",
    "    \n",
    "    # InvGamma(1,2)\n",
    "    \n",
    "    lnA = np.log(2.0)-2.0*np.log(l)-2.0/l\n",
    "    \n",
    "    dlnAdl = 2.0*(1.0-l)/l/l\n",
    "    \n",
    "    return lnA, dlnAdl\n",
    "\n",
    "def log_prior_variance(sigma2):\n",
    "    \n",
    "    # Gamma(1,1)\n",
    "    \n",
    "    lnS = - sigma2\n",
    "    \n",
    "    dlnSdsigma2 = - 1.0\n",
    "    \n",
    "    return lnS, dlnSsigma2\n",
    "\n",
    "def log_likelihood(p):\n",
    "    lnL, dlnLdp = 0.0, np.zeros(M*N)\n",
    "    \n",
    "    for star in stars:\n",
    "        L, dLdp = 0,0\n",
    "\n",
    "def log_posterior(args):\n",
    "    \n",
    "    # Unpack parameters\n",
    "    lnl, lnsigma2, lnm, lntau2 = args[:4]\n",
    "    mu = args[4:4+M]\n",
    "    x = args[4+M:]\n",
    "    \n",
    "    # Transform parameters\n",
    "    l, sigma2, m, tau2 = np.exp(lnl), np.exp(lnsigma2), np.exp(lnm), np.exp(lntau2)\n",
    "    p = 1.0/(1.0+np.exp(-x))\n",
    "    \n",
    "    ##### Priors\n",
    "    \n",
    "    ### Initialise values\n",
    "    \n",
    "    lnF = 0.0\n",
    "    dlnFdl ,dlnFdm = 0.0, 0.0\n",
    "    dlnFdsigma2, dlnFdtau2 = 0.0, 0.0\n",
    "    dlnFdmu = np.zeros(M)\n",
    "    dlnFdx = np.zeros(M*N)\n",
    "    dlnFdp = np.zeros(M*N)\n",
    "    \n",
    "    \n",
    "    ### Prior on x\n",
    "    \n",
    "    for g in range(M):\n",
    "        \n",
    "        # Calculate quantities\n",
    "        lnP, dlnPdx, dlnPdmu, dlnPdl, dlnPdsigma2 = log_prior_x(x[g*N:(g+1)*N],mu[g],l,sigma2)\n",
    "        \n",
    "        # Increment log posterior\n",
    "        lnF += lnP\n",
    "        \n",
    "        # Increment gradients\n",
    "        dlnFdx[g*N:(g+1)*N] += dlnPdx\n",
    "        dlnFdmu[g] += dlnPdmu\n",
    "        dlnFdl += dlnPdl\n",
    "        dlnFdsigma2 += dlnPdsigma2\n",
    "    \n",
    "    ### Prior on mu\n",
    "    \n",
    "    # Calculate quantities\n",
    "    lnQ, dlnQdmu, dlnQdm, dlnQdtau2 = log_prior_mu(mu,m,tau2)\n",
    "    \n",
    "    # Increment log posterior\n",
    "    lnF += lnQ\n",
    "    \n",
    "    # Increment gradients\n",
    "    dlnFdmu += dlnQdmu\n",
    "    dlnFdm += dlnQdm\n",
    "    dlnFdtau2 += dlnQdtau2\n",
    "    \n",
    "    \n",
    "    ### Prior on l and m\n",
    "    \n",
    "    # Calculate quantities\n",
    "    lnA, dlnAdl = log_prior_lengthscale(l)\n",
    "    lnB, dlnBdm = log_prior_lengthscale(m)\n",
    "    \n",
    "    # Increment log posterior\n",
    "    lnF += lnA\n",
    "    lnF += lnB\n",
    "    \n",
    "    # Increment gradients\n",
    "    dlnFdl += dlnAdl\n",
    "    dlnFdm += dlnBdm\n",
    "    \n",
    "    ### Prior on sigma2 and tau2\n",
    "    \n",
    "    # Calculate quantities\n",
    "    lnS, dlnSdsigma2 = log_prior_variance(sigma2)\n",
    "    lnT, dlnTdtau2 = log_prior_variance(tau2)\n",
    "    \n",
    "    # Increment log posterior\n",
    "    lnF += lnS\n",
    "    lnF += lnT\n",
    "    \n",
    "    # Increment gradients\n",
    "    dlnFdsigma2 += dlnSdsigma2\n",
    "    dlnFdtau2 += dlnTdtau2\n",
    "    \n",
    "    ##### Likelihood\n",
    "    \n",
    "    # Calculate quantities\n",
    "    lnL, dlnLdp = log_likelihood(p)\n",
    "        \n",
    "    # Increment log posterior\n",
    "    lnF += lnL\n",
    "    \n",
    "    # Increment gradients\n",
    "    dlnFdp += dlnLdp\n",
    "    \n",
    "    ##### Construct gradient with respect to input parameters\n",
    "    \n",
    "    # Initialise\n",
    "    dlnFdargs = np.zeros(4+M+M*N)\n",
    "    \n",
    "    # Correct for log-parameterisation\n",
    "    dlnFdlnl = l*dlnFdl\n",
    "    dlnFdlnm = m*dlnFdm\n",
    "    dlnFdlnsigma2 = sigma2*dlnFdsigma2\n",
    "    dlnFdlntau2 = tau2*dlnFdtau2\n",
    "    \n",
    "    # Correct for logit-parameterisation\n",
    "    dlnFdx += (1.0/p+1.0/(1.0-p))*dlnFdp\n",
    "    \n",
    "    # Fill in values\n",
    "    dlnFdargs[0] = dlnFdlnl\n",
    "    dlnFdargs[1] = dlnFdlnsigma2\n",
    "    dlnFdargs[2] = dlnFdlnm\n",
    "    dlnFdargs[3] = dlnFdlntau2\n",
    "    dlnFdargs[4:4+M] = dlnFdmu\n",
    "    dlnFdargs[4+M:] = dlnFdx\n",
    "    \n",
    "    return lnF, dlnFdargs\n",
    "    "
   ]
  },
  {
   "cell_type": "markdown",
   "metadata": {},
   "source": [
    "# Poisson binomial likelihood"
   ]
  },
  {
   "cell_type": "code",
   "execution_count": 72,
   "metadata": {},
   "outputs": [
    {
     "name": "stdout",
     "output_type": "stream",
     "text": [
      "[0.01008 0.12388 0.3353  0.3484  0.153   0.02772 0.00162] 1.0\n",
      "[0.01008 0.12388 0.3353  0.3484  0.153   0.02772 0.00162]\n"
     ]
    }
   ],
   "source": [
    "p = np.array([0.3,0.6,0.2,0.1,0.9,0.5])\n",
    "n = p.size\n",
    "pmf = np.zeros(n+1)\n",
    "poisson_binomial_pmf(p,n,pmf)\n",
    "print(pmf,pmf.sum())\n",
    "print(poisson_binomial_pmf_direct(p))"
   ]
  },
  {
   "cell_type": "code",
   "execution_count": 66,
   "metadata": {},
   "outputs": [
    {
     "name": "stdout",
     "output_type": "stream",
     "text": [
      "0.027719999999999998\n",
      "0.02773152\n",
      "0.02773152\n"
     ]
    }
   ],
   "source": [
    "from numba import njit\n",
    "            \n",
    "@njit\n",
    "def poisson_binomial_likelihood(k,probs,probslen,pmf,subpmf,likelihood,gradient):\n",
    "    \n",
    "    # Compute the pmf\n",
    "    poisson_binomial_pmf(probs,probslen,pmf)\n",
    "    likelihood[0] = pmf[k]\n",
    "    \n",
    "    \n",
    "    if k == 0:\n",
    "        gradient_first_term,gradient_second_term=0.0,1.0\n",
    "    elif k == probslen:\n",
    "        gradient_first_term,gradient_second_term=1.0,0.0\n",
    "    else:\n",
    "        gradient_first_term,gradient_second_term=1.0,1.0\n",
    "    \n",
    "    for i in range(probslen):\n",
    "        \n",
    "        p = probs[i]\n",
    "        oneoveroneminusp = 1.0/(1.0-p)\n",
    "        \n",
    "        subpmf[0] = pmf[0]*oneoveroneminusp\n",
    "        for j in range(1,probslen):\n",
    "            subpmf[j] = (pmf[j]-subpmf[j-1]*p)*oneoveroneminusp\n",
    "        subpmf[probslen-1] = pmf[probslen]/p\n",
    "        \n",
    "        gradient[i] = gradient_first_term*subpmf[k-1]-gradient_second_term*subpmf[k]\n",
    "        \n",
    "    \n",
    "\n",
    "k = 5\n",
    "subpmf = np.zeros(n)\n",
    "gradient = np.zeros(n)\n",
    "likelihood = np.zeros(1)\n",
    "poisson_binomial_likelihood(k,p,n,pmf,subpmf,likelihood,gradient)\n",
    "\n",
    "dp = 1e-4\n",
    "print(likelihood[0])\n",
    "print(poisson_binomial_pmf_easy(p+dp*np.array([0,0,0,1,0,0]))[k])\n",
    "print(likelihood[0]+dp*gradient[3])"
   ]
  },
  {
   "cell_type": "code",
   "execution_count": null,
   "metadata": {},
   "outputs": [],
   "source": [
    "@njit\n",
    "def poisson_binomial_log_likelihood(k,probs,probslen,pmf,subpmf,gradient):\n",
    "    \n",
    "    # Compute the pmf\n",
    "    poisson_binomial_pmf(probs,probslen,pmf)\n",
    "    likelihood = pmf[k]\n",
    "    log_likelihood = np.log(likelihood)\n",
    "    \n",
    "    \n",
    "    if k == 0:\n",
    "        gradient_first_term,gradient_second_term=0.0,1.0\n",
    "    elif k == probslen:\n",
    "        gradient_first_term,gradient_second_term=1.0,0.0\n",
    "    else:\n",
    "        gradient_first_term,gradient_second_term=1.0,1.0\n",
    "    \n",
    "    for i in range(probslen):\n",
    "        \n",
    "        p = probs[i]\n",
    "        oneoveroneminusp = 1.0/(1.0-p)\n",
    "        \n",
    "        subpmf[0] = pmf[0]*oneoveroneminusp\n",
    "        for j in range(1,probslen):\n",
    "            subpmf[j] = (pmf[j]-subpmf[j-1]*p)*oneoveroneminusp\n",
    "        subpmf[probslen-1] = pmf[probslen]/p\n",
    "        \n",
    "        gradient[i] = gradient_first_term*subpmf[k-1]-gradient_second_term*subpmf[k]\n",
    "        \n",
    "    return log_likelihood"
   ]
  },
  {
   "cell_type": "code",
   "execution_count": null,
   "metadata": {},
   "outputs": [],
   "source": []
  },
  {
   "cell_type": "code",
   "execution_count": null,
   "metadata": {},
   "outputs": [],
   "source": []
  },
  {
   "cell_type": "code",
   "execution_count": null,
   "metadata": {},
   "outputs": [],
   "source": []
  },
  {
   "cell_type": "code",
   "execution_count": null,
   "metadata": {},
   "outputs": [],
   "source": []
  },
  {
   "cell_type": "code",
   "execution_count": null,
   "metadata": {},
   "outputs": [],
   "source": []
  },
  {
   "cell_type": "code",
   "execution_count": null,
   "metadata": {},
   "outputs": [],
   "source": [
    "dp = 1e-7*np.random.uniform(-1,1,6)\n",
    "print(likelihood[0])\n",
    "print(poisson_binomial_pmf_easy(p+dp)[k])\n",
    "print(likelihood[0]+np.dot(dp,gradient))"
   ]
  },
  {
   "cell_type": "code",
   "execution_count": null,
   "metadata": {},
   "outputs": [],
   "source": [
    "from numba import njit\n",
    "            \n",
    "@njit\n",
    "def poisson_binomial_log_likelihood(k,probs,probslen,pmf,subpmf,log_likelihood,gradient):\n",
    "    \n",
    "    # Compute the pmf\n",
    "    poisson_binomial_pmf(probs,probslen,pmf)\n",
    "    likelihood = pmf[k]\n",
    "    log_likelihood[0] = np.log(likelihood)\n",
    "    \n",
    "    \n",
    "    if k == 0:\n",
    "        gradient_first_term,gradient_second_term=0.0,1.0\n",
    "    elif k == probslen:\n",
    "        gradient_first_term,gradient_second_term=1.0,0.0\n",
    "    else:\n",
    "        gradient_first_term,gradient_second_term=1.0,1.0\n",
    "    \n",
    "    for i in range(probslen):\n",
    "        \n",
    "        p = probs[i]\n",
    "        oneoveroneminusp = 1.0/(1.0-p)\n",
    "        \n",
    "        subpmf[0] = pmf[0]*oneoveroneminusp\n",
    "        for j in range(1,probslen):\n",
    "            subpmf[j] = (pmf[j]-subpmf[j-1]*p)*oneoveroneminusp\n",
    "        subpmf[probslen-1] = pmf[probslen]/p\n",
    "        \n",
    "        gradient[i] = (gradient_first_term*subpmf[k-1]-gradient_second_term*subpmf[k])/likelihood\n",
    "        \n",
    "    \n",
    "\n",
    "k = 4\n",
    "subpmf = np.zeros(n)\n",
    "gradient = np.zeros(n)\n",
    "log_likelihood = np.zeros(1)\n",
    "poisson_binomial_log_likelihood(k,p,n,pmf,subpmf,log_likelihood,gradient)\n",
    "\n",
    "dp = 1e-7*np.random.uniform(-1,1,6)\n",
    "print(log_likelihood[0])\n",
    "print(np.log(poisson_binomial_pmf_easy(p+dp)[k]))\n",
    "print(log_likelihood[0]+np.dot(dp,gradient))"
   ]
  },
  {
   "cell_type": "code",
   "execution_count": 24,
   "metadata": {},
   "outputs": [
    {
     "name": "stdout",
     "output_type": "stream",
     "text": [
      "-1.2521411419973258\n",
      "-1.2521411419973254\n"
     ]
    }
   ],
   "source": [
    "dKt_dl = tau*K/l/l\n",
    "print(np.trace(np.dot(K_inv,dKt_dl)))\n",
    "print(-2*u*u*(N-1)/(1-u*u))\n",
    "    "
   ]
  },
  {
   "cell_type": "code",
   "execution_count": 23,
   "metadata": {},
   "outputs": [
    {
     "data": {
      "text/plain": [
       "(array([[0.        , 0.36787944, 0.27067057, 0.14936121, 0.07326256],\n",
       "        [0.36787944, 0.        , 0.36787944, 0.27067057, 0.14936121],\n",
       "        [0.27067057, 0.36787944, 0.        , 0.36787944, 0.27067057],\n",
       "        [0.14936121, 0.27067057, 0.36787944, 0.        , 0.36787944],\n",
       "        [0.07326256, 0.14936121, 0.27067057, 0.36787944, 0.        ]]),\n",
       " 0.36787944117144233)"
      ]
     },
     "execution_count": 23,
     "metadata": {},
     "output_type": "execute_result"
    }
   ],
   "source": [
    "dKt_dl,u"
   ]
  },
  {
   "cell_type": "code",
   "execution_count": 19,
   "metadata": {},
   "outputs": [
    {
     "name": "stdout",
     "output_type": "stream",
     "text": [
      "[[ 1.15651764 -0.42545906  0.          0.          0.        ]\n",
      " [-0.42545906  1.31303529 -0.42545906  0.          0.        ]\n",
      " [ 0.         -0.42545906  1.31303529 -0.42545906  0.        ]\n",
      " [ 0.          0.         -0.42545906  1.31303529 -0.42545906]\n",
      " [ 0.          0.          0.         -0.42545906  1.15651764]]\n",
      "1.7889946812194075\n",
      "[[ 1.15651764 -0.42545906  0.          0.          0.        ]\n",
      " [-0.42545906  1.31303529 -0.42545906  0.          0.        ]\n",
      " [ 0.         -0.42545906  1.31303529 -0.42545906  0.        ]\n",
      " [ 0.          0.         -0.42545906  1.31303529 -0.42545906]\n",
      " [ 0.          0.          0.         -0.42545906  1.15651764]]\n",
      "1.788994681219407\n"
     ]
    }
   ],
   "source": [
    "N = 5\n",
    "x = np.arange(N)\n",
    "l = 1.0\n",
    "tau = np.abs(x[:,np.newaxis]-x[np.newaxis,:])\n",
    "K = np.exp(-tau/l)\n",
    "K_inv = np.linalg.pinv(K)\n",
    "K_inv[np.abs(K_inv) < 1e-14] = 0.0\n",
    "print(K_inv)\n",
    "print(np.linalg.det(K_inv))\n",
    "u = np.exp(-1.0/l)\n",
    "a = 1\n",
    "b = 1+u*u\n",
    "c = -u\n",
    "#print(a,b,c)\n",
    "J_inv = np.zeros(K.shape)\n",
    "J_inv[0,0] = J_inv[-1,-1] = a\n",
    "for i in range(1,N-1):\n",
    "    J_inv[i,i] = b\n",
    "for i in range(0,N-1):\n",
    "    J_inv[i,i+1] = J_inv[i+1,i] = c\n",
    "J_inv /= 1-u*u\n",
    "print(J_inv)\n",
    "print(np.power(1/(1-u*u),N-1))"
   ]
  },
  {
   "cell_type": "code",
   "execution_count": 102,
   "metadata": {},
   "outputs": [
    {
     "ename": "LinAlgError",
     "evalue": "1-th leading minor of the array is not positive definite",
     "output_type": "error",
     "traceback": [
      "\u001b[0;31m---------------------------------------------------------------------------\u001b[0m",
      "\u001b[0;31mLinAlgError\u001b[0m                               Traceback (most recent call last)",
      "\u001b[0;32m<ipython-input-102-fb0200d5258d>\u001b[0m in \u001b[0;36m<module>\u001b[0;34m()\u001b[0m\n\u001b[0;32m----> 1\u001b[0;31m \u001b[0mslinalg\u001b[0m\u001b[0;34m.\u001b[0m\u001b[0mcholesky\u001b[0m\u001b[0;34m(\u001b[0m\u001b[0mG\u001b[0m\u001b[0;34m)\u001b[0m\u001b[0;34m\u001b[0m\u001b[0;34m\u001b[0m\u001b[0m\n\u001b[0m",
      "\u001b[0;32m/Users/douglasboubert/anaconda3/envs/gaiaedr3/lib/python3.7/site-packages/scipy/linalg/decomp_cholesky.py\u001b[0m in \u001b[0;36mcholesky\u001b[0;34m(a, lower, overwrite_a, check_finite)\u001b[0m\n\u001b[1;32m     87\u001b[0m     \"\"\"\n\u001b[1;32m     88\u001b[0m     c, lower = _cholesky(a, lower=lower, overwrite_a=overwrite_a, clean=True,\n\u001b[0;32m---> 89\u001b[0;31m                          check_finite=check_finite)\n\u001b[0m\u001b[1;32m     90\u001b[0m     \u001b[0;32mreturn\u001b[0m \u001b[0mc\u001b[0m\u001b[0;34m\u001b[0m\u001b[0;34m\u001b[0m\u001b[0m\n\u001b[1;32m     91\u001b[0m \u001b[0;34m\u001b[0m\u001b[0m\n",
      "\u001b[0;32m/Users/douglasboubert/anaconda3/envs/gaiaedr3/lib/python3.7/site-packages/scipy/linalg/decomp_cholesky.py\u001b[0m in \u001b[0;36m_cholesky\u001b[0;34m(a, lower, overwrite_a, clean, check_finite)\u001b[0m\n\u001b[1;32m     36\u001b[0m     \u001b[0;32mif\u001b[0m \u001b[0minfo\u001b[0m \u001b[0;34m>\u001b[0m \u001b[0;36m0\u001b[0m\u001b[0;34m:\u001b[0m\u001b[0;34m\u001b[0m\u001b[0;34m\u001b[0m\u001b[0m\n\u001b[1;32m     37\u001b[0m         raise LinAlgError(\"%d-th leading minor of the array is not positive \"\n\u001b[0;32m---> 38\u001b[0;31m                           \"definite\" % info)\n\u001b[0m\u001b[1;32m     39\u001b[0m     \u001b[0;32mif\u001b[0m \u001b[0minfo\u001b[0m \u001b[0;34m<\u001b[0m \u001b[0;36m0\u001b[0m\u001b[0;34m:\u001b[0m\u001b[0;34m\u001b[0m\u001b[0;34m\u001b[0m\u001b[0m\n\u001b[1;32m     40\u001b[0m         raise ValueError('LAPACK reported an illegal value in {}-th argument'\n",
      "\u001b[0;31mLinAlgError\u001b[0m: 1-th leading minor of the array is not positive definite"
     ]
    }
   ],
   "source": [
    "slinalg.cholesky(G)"
   ]
  },
  {
   "cell_type": "code",
   "execution_count": 99,
   "metadata": {},
   "outputs": [
    {
     "name": "stdout",
     "output_type": "stream",
     "text": [
      "[[ 3.92358517  4.59283433  0.79863201 -3.23369341 -5.77084919]\n",
      " [ 4.59283433  0.81199902  0.77154032 -1.81199902 -3.23369341]\n",
      " [ 0.79863201  0.77154032 -1.69054892  0.77154032  0.79863201]\n",
      " [-3.23369341 -1.81199902  0.77154032  0.81199902  4.59283433]\n",
      " [-5.77084919 -3.23369341  0.79863201  4.59283433  3.92358517]]\n"
     ]
    }
   ],
   "source": [
    "G = np.exp(-tau/l)*tau/l/l\n",
    "G_inv = np.linalg.pinv(G)\n",
    "print(G_inv)"
   ]
  },
  {
   "cell_type": "code",
   "execution_count": 29,
   "metadata": {},
   "outputs": [
    {
     "data": {
      "text/plain": [
       "array([[1.        , 0.36787944, 0.13533528, 0.04978707, 0.01969691],\n",
       "       [0.        , 1.        , 0.36787944, 0.13533528, 0.05354177],\n",
       "       [0.        , 0.        , 1.        , 0.36787944, 0.14554161],\n",
       "       [0.        , 0.        , 0.        , 1.        , 0.39562311],\n",
       "       [0.        , 0.        , 0.        , 0.        , 1.0754151 ]])"
      ]
     },
     "execution_count": 29,
     "metadata": {},
     "output_type": "execute_result"
    }
   ],
   "source": [
    "np.linalg.inv(np.linalg.cholesky(G)).T"
   ]
  },
  {
   "cell_type": "code",
   "execution_count": 48,
   "metadata": {},
   "outputs": [
    {
     "name": "stdout",
     "output_type": "stream",
     "text": [
      "[[ 1.0754151   0.          0.          0.          0.        ]\n",
      " [-0.39562311  1.0754151   0.          0.          0.        ]\n",
      " [ 0.         -0.39562311  1.0754151   0.          0.        ]\n",
      " [ 0.          0.         -0.39562311  1.0754151   0.        ]\n",
      " [ 0.          0.          0.         -0.39562311  1.        ]]\n",
      "[[ 1.          0.          0.          0.          0.        ]\n",
      " [-0.39562311  1.0754151   0.          0.          0.        ]\n",
      " [ 0.         -0.39562311  1.0754151   0.          0.        ]\n",
      " [ 0.          0.         -0.39562311  1.0754151   0.        ]\n",
      " [ 0.          0.          0.         -0.39562311  1.0754151 ]]\n"
     ]
    }
   ],
   "source": [
    "def print_matrix(X):\n",
    "    X[np.abs(X)<1e-14] = 0.0\n",
    "    print(X)\n",
    "print_matrix(np.linalg.cholesky(np.linalg.pinv(K)))\n",
    "print_matrix(np.linalg.pinv(np.linalg.cholesky(K)))"
   ]
  },
  {
   "cell_type": "code",
   "execution_count": 60,
   "metadata": {},
   "outputs": [],
   "source": [
    "from scipy import linalg as slinalg"
   ]
  },
  {
   "cell_type": "code",
   "execution_count": 89,
   "metadata": {},
   "outputs": [
    {
     "data": {
      "text/plain": [
       "array([[ 0.77459667, -0.25819889],\n",
       "       [ 0.        ,  0.57735027]])"
      ]
     },
     "execution_count": 89,
     "metadata": {},
     "output_type": "execute_result"
    }
   ],
   "source": [
    "slinalg.cholesky(inv_X)"
   ]
  },
  {
   "cell_type": "code",
   "execution_count": 96,
   "metadata": {},
   "outputs": [
    {
     "data": {
      "text/plain": [
       "array([[ 1.0754151 ,  0.        ,  0.        ,  0.        ,  0.        ],\n",
       "       [-0.39562311,  1.0754151 ,  0.        ,  0.        ,  0.        ],\n",
       "       [ 0.        , -0.39562311,  1.0754151 ,  0.        ,  0.        ],\n",
       "       [ 0.        ,  0.        , -0.39562311,  1.0754151 ,  0.        ],\n",
       "       [ 0.        ,  0.        ,  0.        , -0.39562311,  1.        ]])"
      ]
     },
     "execution_count": 96,
     "metadata": {},
     "output_type": "execute_result"
    }
   ],
   "source": [
    "np.linalg.cholesky(K_inv)"
   ]
  },
  {
   "cell_type": "code",
   "execution_count": 84,
   "metadata": {},
   "outputs": [
    {
     "name": "stdout",
     "output_type": "stream",
     "text": [
      "[[2 1]\n",
      " [1 3]]\n",
      "[[2. 1.]\n",
      " [1. 3.]]\n",
      "[[ 0.6 -0.2]\n",
      " [-0.2  0.4]]\n",
      "[[ 0.6 -0.2]\n",
      " [-0.2  0.4]]\n",
      "[[ 0.70710678  0.        ]\n",
      " [-0.31622777  0.63245553]]\n",
      "[[ 0.77459667  0.        ]\n",
      " [-0.25819889  0.57735027]]\n",
      "[[ 0.6 -0.2]\n",
      " [-0.2  0.4]]\n",
      "[[ 0.6 -0.2]\n",
      " [-0.2  0.4]]\n"
     ]
    }
   ],
   "source": [
    "X = np.array([[2,1],[1,3]])\n",
    "inv_X = np.linalg.inv(X)\n",
    "chol_X = np.linalg.cholesky(X)\n",
    "chol_inv_X = np.linalg.cholesky(inv_X)\n",
    "inv_chol_X = np.linalg.inv(chol_X)\n",
    "psuedo_chol_inv_X = inv_chol_X.T\n",
    "print(X)\n",
    "print(np.dot(chol_X,chol_X.T))\n",
    "print(inv_X)\n",
    "print(np.dot(chol_inv_X,chol_inv_X.T))\n",
    "print(inv_chol_X)\n",
    "print(chol_inv_X)\n",
    "print(np.dot(psuedo_chol_inv_X,psuedo_chol_inv_X.T))\n",
    "print(np.dot(chol_inv_X,chol_inv_X.T))"
   ]
  },
  {
   "cell_type": "code",
   "execution_count": 88,
   "metadata": {},
   "outputs": [
    {
     "data": {
      "text/plain": [
       "array([[ 0.70710678,  0.        ],\n",
       "       [-0.31622777,  0.63245553]])"
      ]
     },
     "execution_count": 88,
     "metadata": {},
     "output_type": "execute_result"
    }
   ],
   "source": [
    "inv_chol_X"
   ]
  },
  {
   "cell_type": "code",
   "execution_count": 69,
   "metadata": {},
   "outputs": [
    {
     "data": {
      "text/plain": [
       "array([[ 0.6, -0.2],\n",
       "       [-0.2,  0.4]])"
      ]
     },
     "execution_count": 69,
     "metadata": {},
     "output_type": "execute_result"
    }
   ],
   "source": [
    "np.dot(chol_inv_X,chol_inv_X.T)"
   ]
  },
  {
   "cell_type": "code",
   "execution_count": 70,
   "metadata": {},
   "outputs": [
    {
     "data": {
      "text/plain": [
       "array([[ 0.6, -0.2],\n",
       "       [-0.2,  0.4]])"
      ]
     },
     "execution_count": 70,
     "metadata": {},
     "output_type": "execute_result"
    }
   ],
   "source": [
    "np.dot(inv_chol_X.T,inv_chol_X)"
   ]
  },
  {
   "cell_type": "code",
   "execution_count": null,
   "metadata": {},
   "outputs": [],
   "source": []
  },
  {
   "cell_type": "code",
   "execution_count": 63,
   "metadata": {},
   "outputs": [
    {
     "data": {
      "text/plain": [
       "array([[ 0.70710678, -0.        ],\n",
       "       [-0.40824829,  0.81649658]])"
      ]
     },
     "execution_count": 63,
     "metadata": {},
     "output_type": "execute_result"
    }
   ],
   "source": [
    "slinalg.inv(slinalg.cholesky(X).T)"
   ]
  },
  {
   "cell_type": "code",
   "execution_count": 64,
   "metadata": {},
   "outputs": [
    {
     "data": {
      "text/plain": [
       "array([[ 0.81649658,  0.        ],\n",
       "       [-0.40824829,  0.70710678]])"
      ]
     },
     "execution_count": 64,
     "metadata": {},
     "output_type": "execute_result"
    }
   ],
   "source": [
    "slinalg.cholesky(slinalg.inv(X)).T"
   ]
  },
  {
   "cell_type": "code",
   "execution_count": null,
   "metadata": {},
   "outputs": [],
   "source": [
    "def true_det(i):\n",
    "    return np.linalg.det(K_inv[:i,:i])\n",
    "\n",
    "u = np.exp(1.0/l)\n",
    "i = 6\n",
    "print(np.power(u*u/(u*u-1),i))\n",
    "print(true_det(i))\n",
    "print(c*true_det(i-1)-a*a*true_det(i-2))"
   ]
  },
  {
   "cell_type": "code",
   "execution_count": null,
   "metadata": {},
   "outputs": [],
   "source": [
    "1-1.0/(u*u)"
   ]
  },
  {
   "cell_type": "code",
   "execution_count": null,
   "metadata": {},
   "outputs": [],
   "source": [
    "K_inv[:1+1,:1+1]"
   ]
  },
  {
   "cell_type": "code",
   "execution_count": null,
   "metadata": {},
   "outputs": [],
   "source": [
    "np.linalg.det(K_inv[:5,:5])"
   ]
  },
  {
   "cell_type": "code",
   "execution_count": null,
   "metadata": {},
   "outputs": [],
   "source": [
    "-np.exp(1.0/l)/(np.exp(2.0/l)-1)"
   ]
  },
  {
   "cell_type": "code",
   "execution_count": null,
   "metadata": {},
   "outputs": [],
   "source": [
    "np.exp(2.0/l)/(np.exp(2.0/l)-1)"
   ]
  },
  {
   "cell_type": "code",
   "execution_count": null,
   "metadata": {},
   "outputs": [],
   "source": []
  }
 ],
 "metadata": {
  "kernelspec": {
   "display_name": "Python [conda env:gaiaedr3]",
   "language": "python",
   "name": "conda-env-gaiaedr3-py"
  },
  "language_info": {
   "codemirror_mode": {
    "name": "ipython",
    "version": 3
   },
   "file_extension": ".py",
   "mimetype": "text/x-python",
   "name": "python",
   "nbconvert_exporter": "python",
   "pygments_lexer": "ipython3",
   "version": "3.7.9"
  }
 },
 "nbformat": 4,
 "nbformat_minor": 4
}
