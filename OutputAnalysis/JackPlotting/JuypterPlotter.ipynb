{
 "cells": [
  {
   "cell_type": "code",
   "execution_count": 1,
   "id": "be05d888-4d84-4cba-abc8-ab83ab8cecb7",
   "metadata": {},
   "outputs": [],
   "source": [
    "import pandas as pd\n",
    "import matplotlib.pyplot as plt\n",
    "import numpy as np\n",
    "from scipy import special\n",
    "import healpy as hp\n",
    "import os\n",
    "import imageio\n",
    "plt.rcParams.update({\n",
    "    \"text.usetex\": True,\n",
    "    \"font.family\": \"sans-serif\",\n",
    "    \"font.sans-serif\": [\"Helvetica\"]})"
   ]
  },
  {
   "cell_type": "code",
   "execution_count": 2,
   "id": "39c23e20-ba69-4a7c-9828-5e312b249428",
   "metadata": {
    "tags": []
   },
   "outputs": [],
   "source": [
    "def temporalPlot(pt,Nt,gaps):\n",
    "    tbeg, tend = 1717.6256+(np.linspace(1666.4384902198801, 2704.3655735533684, 2) + 2455197.5 - 2457023.5 - 0.25)*4\n",
    "    bins = np.linspace(tbeg,tend,Nt+1)\n",
    "    centres = 0.5*(bins[1:] + bins[:-1])\n",
    "\n",
    "    plt.plot(centres,pt)\n",
    "    \n",
    "    if type(gaps) != bool:\n",
    "        for start,end in zip(gaps['tbeg'].values,gaps['tend'].values):\n",
    "            plt.fill_between([start,end],y1=[-2,-2],y2=[2,2],color='lightblue',lw=0.0)\n",
    "    plt.ylim([0,1.02])\n",
    "    plt.xlabel('OBMT (revolutions)')\n",
    "    plt.ylabel('pt')\n",
    "    plt.xticks(np.arange(1000,5251,250))\n",
    "    plt.yticks(np.arange(0.0,1.01,0.1))\n",
    "    # plt.grid(axis='both',which='both',lw=0.3,color='lightgrey',zorder=0)\n",
    "    # plt.savefig(directory+'plot_pt.png',dpi=300,facecolor='w',bbox_inches='tight')\n",
    "  "
   ]
  },
  {
   "cell_type": "code",
   "execution_count": 3,
   "id": "164a64b5-cfa7-423e-9c15-b9ab866a9895",
   "metadata": {},
   "outputs": [],
   "source": [
    "def spatialPlot(pml):\n",
    "    hp.mollview(pml, nest=False, hold=True, min=0,max=1,cmap='viridis', cbar=True,coord=['C','G'],notext=True)"
   ]
  },
  {
   "cell_type": "code",
   "execution_count": 4,
   "id": "6caab9be-424f-465f-8e0f-436a32eea330",
   "metadata": {},
   "outputs": [],
   "source": [
    "def readFile(directory,file):\n",
    "    try:\n",
    "        params = pd.read_csv(directory+'OptimizerProperties.dat',skipinitialspace=True,index_col=0,sep=\" =\",header=None,engine='python').transpose()\n",
    "        Nt = int(params['Nt'])\n",
    "        Nm = int(params['Nm'])\n",
    "        Nl = int(params['Nl'])\n",
    "    except:\n",
    "        params = pd.read_csv(directory+'Optimiser_Properties.dat',skipinitialspace=True,sep=\",\")\n",
    "        Nt = int(params['Nt'])\n",
    "        Nm = int(params['Nm'])\n",
    "        Nl = int(params['Nl'])\n",
    "    alpha = 0.5*np.log(2)\n",
    "    a = -3.0\n",
    "    if type(file) == int:\n",
    "        file = \"TempPositions/TempPosition\" + str(file) + \"_TransformedParameters.dat\"\n",
    "    xt = pd.read_csv(directory+file,header=None)[0][:Nt].values\n",
    "    pt = special.expit(xt)\n",
    "    xml = np.reshape(pd.read_csv(directory+file,header=None)[0][Nt:Nt+Nm*Nl].values,(Nl,Nm)).T\n",
    "    pml = np.exp(-2.0*alpha*np.exp(-xml))\n",
    "    pml[xml<a] = np.exp(-2.0*alpha*(1.0-xml[xml<a]+a)*np.exp(-a))\n",
    "    return [pt,pml]"
   ]
  },
  {
   "cell_type": "code",
   "execution_count": 5,
   "id": "dcf0ce50-c487-4520-bba2-6cc5e9fe6682",
   "metadata": {},
   "outputs": [],
   "source": [
    "def baseComparisonPlot(truept,truepml,pt,pml,gaps):\n",
    "    fig = plt.figure(figsize=(8,8))\n",
    "    \n",
    "    ##temporal plot\n",
    "    fig.add_subplot(2,1,1)\n",
    "    temporalPlot(truept,len(truept),False)\n",
    "    temporalPlot(pt,len(pt),False)\n",
    "    \n",
    "    \n",
    "    ##spatial plot\n",
    "    fig.add_subplot(2,2,3)\n",
    "    spatialPlot(truepml[0])\n",
    "    fig.add_subplot(2,2,4)\n",
    "    spatialPlot(pml[0])\n",
    "    "
   ]
  },
  {
   "cell_type": "code",
   "execution_count": 6,
   "id": "51588f4f-fa8f-4a76-a1ad-2310a62c7dbe",
   "metadata": {},
   "outputs": [],
   "source": [
    "def baseGif(saveName,truedirectory,tempdirectory,start,stop):\n",
    "    \n",
    "    trueFile = \"True_TransformedParameters.dat\"\n",
    "    [truePt,truePml] = readFile(truedirectory,trueFile)\n",
    "    \n",
    "    names = []\n",
    "    for i in range(start,stop):\n",
    "        print(i)\n",
    "      \n",
    "        [pt,pml] = readFile(directory,i)\n",
    "        baseComparisonPlot(truePt,truePml,pt,pml,False)\n",
    "        \n",
    "        tempName = saveName +\"_temp\" + str(i) + \".png\"\n",
    "        names.append(tempName)\n",
    "        plt.savefig(tempName)\n",
    "        plt.close()\n",
    "        %reset_selective -f pt\n",
    "        \n",
    "        # %reset plot\n",
    "        \n",
    "    saveName = saveName + \".gif\"\n",
    "    with imageio.get_writer(saveName,mode = 'I') as writer:\n",
    "        for name in names:\n",
    "            image = imageio.imread(name)\n",
    "            writer.append_data(image)\n",
    "            del image\n",
    "    for name in names:\n",
    "        os.remove(name)"
   ]
  },
  {
   "cell_type": "code",
   "execution_count": 7,
   "id": "430e5252-6f40-4ea5-8ac1-40442783bd2f",
   "metadata": {},
   "outputs": [
    {
     "name": "stdout",
     "output_type": "stream",
     "text": [
      "0\n",
      "Flushing input history\n",
      "Flushing output cache (0 entries)\n",
      "1\n",
      "Flushing input history\n",
      "Flushing output cache (0 entries)\n",
      "2\n",
      "Flushing input history\n",
      "Flushing output cache (0 entries)\n"
     ]
    }
   ],
   "source": [
    "dataDir = \"../../../Data/TestSets/flat/\"\n",
    "directory = \"../../../CodeOutput/TestSets/flat/\"\n",
    "baseGif(\"test\",dataDir,directory,0,3)"
   ]
  },
  {
   "cell_type": "code",
   "execution_count": 9,
   "id": "69607281-ca77-4e37-9f7e-b4feba1d3473",
   "metadata": {},
   "outputs": [
    {
     "name": "stdout",
     "output_type": "stream",
     "text": [
      "baseComparisonPlot\t baseGif\t dataDir\t directory\t hp\t imageio\t np\t os\t pd\t \n",
      "plt\t readFile\t spatialPlot\t special\t temporalPlot\t \n"
     ]
    }
   ],
   "source": [
    "%who"
   ]
  },
  {
   "cell_type": "code",
   "execution_count": 10,
   "id": "de68f47a-a661-4726-9c18-c150293cefae",
   "metadata": {},
   "outputs": [
    {
     "ename": "AttributeError",
     "evalue": "module 'matplotlib.pyplot' has no attribute 'clear'",
     "output_type": "error",
     "traceback": [
      "\u001b[0;31m---------------------------------------------------------------------------\u001b[0m",
      "\u001b[0;31mAttributeError\u001b[0m                            Traceback (most recent call last)",
      "\u001b[0;32m/tmp/ipykernel_5382/1742867465.py\u001b[0m in \u001b[0;36m<module>\u001b[0;34m\u001b[0m\n\u001b[0;32m----> 1\u001b[0;31m \u001b[0mplt\u001b[0m\u001b[0;34m.\u001b[0m\u001b[0mclear\u001b[0m\u001b[0;34m(\u001b[0m\u001b[0;34m)\u001b[0m\u001b[0;34m\u001b[0m\u001b[0;34m\u001b[0m\u001b[0m\n\u001b[0m",
      "\u001b[0;31mAttributeError\u001b[0m: module 'matplotlib.pyplot' has no attribute 'clear'"
     ]
    }
   ],
   "source": [
    "plt.clear()"
   ]
  },
  {
   "cell_type": "code",
   "execution_count": 11,
   "id": "1f9d8610-2fca-40d1-99a7-ed41180e03be",
   "metadata": {},
   "outputs": [
    {
     "data": {
      "text/plain": [
       "<Figure size 432x288 with 0 Axes>"
      ]
     },
     "metadata": {},
     "output_type": "display_data"
    }
   ],
   "source": [
    "plt.clf()"
   ]
  },
  {
   "cell_type": "code",
   "execution_count": 12,
   "id": "9d5e5c95-de9d-41c4-9993-dc5b14951c78",
   "metadata": {},
   "outputs": [],
   "source": [
    "plt.show()"
   ]
  },
  {
   "cell_type": "code",
   "execution_count": 13,
   "id": "9bcf29c1-8201-48a5-8ae1-b217ec93f910",
   "metadata": {},
   "outputs": [],
   "source": [
    "plt.close()"
   ]
  },
  {
   "cell_type": "code",
   "execution_count": null,
   "id": "a18fee96-e9f4-4bd2-9b65-56ea2994f9f3",
   "metadata": {},
   "outputs": [],
   "source": []
  }
 ],
 "metadata": {
  "kernelspec": {
   "display_name": "Python 3 (ipykernel)",
   "language": "python",
   "name": "python3"
  },
  "language_info": {
   "codemirror_mode": {
    "name": "ipython",
    "version": 3
   },
   "file_extension": ".py",
   "mimetype": "text/x-python",
   "name": "python",
   "nbconvert_exporter": "python",
   "pygments_lexer": "ipython3",
   "version": "3.8.10"
  }
 },
 "nbformat": 4,
 "nbformat_minor": 5
}
