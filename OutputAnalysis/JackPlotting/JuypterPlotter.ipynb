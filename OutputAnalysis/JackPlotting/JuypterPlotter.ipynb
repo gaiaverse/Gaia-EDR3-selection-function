{
 "cells": [
  {
   "cell_type": "code",
   "execution_count": 1,
   "id": "be05d888-4d84-4cba-abc8-ab83ab8cecb7",
   "metadata": {},
   "outputs": [],
   "source": [
    "import pandas as pd\n",
    "import matplotlib.pyplot as plt\n",
    "import numpy as np\n",
    "from matplotlib.gridspec import GridSpec\n",
    "from scipy import special\n",
    "import healpy as hp\n",
    "import os\n",
    "import imageio\n",
    "plt.rcParams.update({\n",
    "    \"text.usetex\": True,\n",
    "    \"font.family\": \"serif\"})"
   ]
  },
  {
   "cell_type": "code",
   "execution_count": 2,
   "id": "39c23e20-ba69-4a7c-9828-5e312b249428",
   "metadata": {
    "tags": []
   },
   "outputs": [],
   "source": [
    "def temporalPlot(pt,Nt,gaps):\n",
    "    tbeg, tend = 1717.6256+(np.linspace(1666.4384902198801, 2704.3655735533684, 2) + 2455197.5 - 2457023.5 - 0.25)*4\n",
    "    bins = np.linspace(tbeg,tend,Nt+1)\n",
    "    centres = 0.5*(bins[1:] + bins[:-1])\n",
    "\n",
    "    plt.plot(centres,pt)\n",
    "    \n",
    "    if type(gaps) != bool:\n",
    "        for start,end in zip(gaps['tbeg'].values,gaps['tend'].values):\n",
    "            plt.fill_between([start,end],y1=[-2,-2],y2=[2,2],color='lightblue',lw=0.0)\n",
    "    plt.ylim([0,1.02])\n",
    "   \n",
    "    plt.xlabel(r\"OBMT (revolutions)\")\n",
    "    plt.ylabel(r\"$p_t$\")\n",
    "    plt.title(r\"Temporal Detection Efficiency\")\n",
    "    plt.xticks(np.arange(1000,5251,1000))\n",
    "\n",
    "    plt.yticks(np.arange(0.0,1.01,0.1))\n",
    "    # plt.grid(axis='both',which='both',lw=0.3,color='lightgrey',zorder=0)\n",
    "    # plt.savefig(directory+'plot_pt.png',dpi=300,facecolor='w',bbox_inches='tight')\n",
    "  "
   ]
  },
  {
   "cell_type": "code",
   "execution_count": 23,
   "id": "64f033e6-7b50-43fb-b8a7-3b27ac6c3040",
   "metadata": {},
   "outputs": [
    {
     "name": "stdout",
     "output_type": "stream",
     "text": [
      "ERROR! Session/line number was not unique in database. History logging moved to new session 82\n"
     ]
    }
   ],
   "source": [
    "def temporalResiduals(pt,pt_true):\n",
    "    \n",
    "    deltas = np.absolute(pt - pt_true) + 1e-8\n",
    "   # deltas[np.isinf(deltas) or np.isnan(deltas) or deltas < -8] = -8\n",
    "    logDeltas = np.log10(deltas)\n",
    "    plt.hist(logDeltas,bins = 100, histtype='step',log = True)\n",
    "    \n",
    "    plt.xlabel(r\"$\\log_{10}\\left( \\left|p_t^{true} - p_t^{recovered} \\right|\\right)$\")\n",
    "    plt.ylabel(r\"Counts\")\n",
    "    \n",
    "    lowerLim = np.floor(min(logDeltas))\n",
    "    plt.xlim([lowerLim,0])\n",
    "    plt.title(r\"Temporal Residuals\")"
   ]
  },
  {
   "cell_type": "code",
   "execution_count": 4,
   "id": "164a64b5-cfa7-423e-9c15-b9ab866a9895",
   "metadata": {},
   "outputs": [],
   "source": [
    "def round_sig(x, sig=2):\n",
    "    return round(x, sig-int(np.floor(np.log10(abs(x))))-1)\n",
    "def spatialPlot(pml,titleText,fig,manualScaling = False):\n",
    "    mi = 0\n",
    "    ma = 1\n",
    "    if manualScaling:\n",
    "        v = round_sig(max(abs(pml)),2)\n",
    "        mi = -v\n",
    "        ma = v\n",
    "\n",
    "    hp.mollview(pml, xsize = 500,nest=False, hold=True, min=mi,max=ma,title =titleText, cmap='viridis', cbar=True,coord=['C','G'],notext=True,unit=r\"$p_{ml}$\")\n",
    "    hp.graticule(dmer=360,dpar=360,alpha=0)  "
   ]
  },
  {
   "cell_type": "code",
   "execution_count": 5,
   "id": "6caab9be-424f-465f-8e0f-436a32eea330",
   "metadata": {},
   "outputs": [],
   "source": [
    "def readFile(directory,file):\n",
    "    try:\n",
    "        params = pd.read_csv(directory+'OptimizerProperties.dat',skipinitialspace=True,index_col=0,sep=\" =\",header=None,engine='python').transpose()\n",
    "        Nt = int(params['Nt'])\n",
    "        Nm = int(params['Nm'])\n",
    "        Nl = int(params['Nl'])\n",
    "    except:\n",
    "        params = pd.read_csv(directory+'Optimiser_Properties.dat',skipinitialspace=True,sep=\",\")\n",
    "        Nt = int(params['Nt'])\n",
    "        Nm = int(params['Nm'])\n",
    "        Nl = int(params['Nl'])\n",
    "    alpha = 0.5*np.log(2)\n",
    "    a = -3.0\n",
    "    if type(file) == int:\n",
    "        file = \"TempPositions/TempPosition\" + str(file) + \"_TransformedParameters.dat\"\n",
    "    xt = pd.read_csv(directory+file,header=None)[0][:Nt].values\n",
    "    pt = special.expit(xt)\n",
    "    xml = np.reshape(pd.read_csv(directory+file,header=None)[0][Nt:Nt+Nm*Nl].values,(Nl,Nm)).T\n",
    "    pml = np.exp(-2.0*alpha*np.exp(-xml))\n",
    "    pml[xml<a] = np.exp(-2.0*alpha*(1.0-xml[xml<a]+a)*np.exp(-a))\n",
    "    return [pt,pml]"
   ]
  },
  {
   "cell_type": "code",
   "execution_count": 6,
   "id": "51588f4f-fa8f-4a76-a1ad-2310a62c7dbe",
   "metadata": {},
   "outputs": [],
   "source": [
    "def baseGif(saveName,truedirectory,tempdirectory,start,stop):\n",
    "    \n",
    "    trueFile = \"True_TransformedParameters.dat\"\n",
    "    [truePt,truePml] = readFile(truedirectory,trueFile)\n",
    "    names = []\n",
    "    fig = plt.figure(figsize=(8,8))\n",
    "    for i in range(start,stop,gap):\n",
    "        print(i)\n",
    "        [pt,pml] = readFile(directory,i)\n",
    "\n",
    "        baseComparisonPlot(fig,truePt,truePml,pt,pml,False)\n",
    "\n",
    "        tempName = saveName +\"_temp\" + str(i) + \".png\"\n",
    "        names.append(tempName)\n",
    "        plt.savefig(tempName)\n",
    "        fig.clf()\n",
    "    plt.close(fig)\n",
    " \n",
    "    saveName = saveName + \".gif\"\n",
    "    delay = 2\n",
    "    with imageio.get_writer(saveName,mode = 'I') as writer:\n",
    "        for name in names:\n",
    "            print(name)\n",
    "            image = imageio.imread(name)\n",
    "            for k in range(0,delay):\n",
    "                writer.append_data(image)\n",
    "\n",
    "            os.remove(name)"
   ]
  },
  {
   "cell_type": "code",
   "execution_count": 102,
   "id": "dcf0ce50-c487-4520-bba2-6cc5e9fe6682",
   "metadata": {},
   "outputs": [],
   "source": [
    "def baseComparisonPlot(fig,truept,truepml,pt,pml,gaps):\n",
    " \n",
    "    ##temporal plot\n",
    "   \n",
    "    nx = 2\n",
    "    ny = 3\n",
    "    gs = GridSpec(ny,nx)\n",
    "\n",
    "    \n",
    "    tpml = truepml[195]\n",
    "    apml = pml[195]\n",
    "    nside_true = hp.get_nside(tpml)\n",
    "    nside_approx = hp.get_nside(apml)\n",
    "   \n",
    "    if nside_true != nside_approx:\n",
    "        if nside_true > nside_approx:\n",
    "            apml = hp.ud_grade(apml,nside_true)\n",
    "        else:\n",
    "            tpml = hp.ud_grade(tpml,nside_approx)\n",
    "    \n",
    "    ##spatial plot\n",
    "    fig.add_subplot(gs[1,0])\n",
    "    spatialPlot(tpml,\"True Spatial Efficiency\",fig)\n",
    "    fig.add_subplot(gs[1,1])\n",
    "    spatialPlot(apml,\"Recovered Spatial Efficiency\",fig)\n",
    "    fig.add_subplot(gs[2,1])\n",
    "    spatialPlot(tpml-apml,\"Spatial Residuals\",fig,True)\n",
    "    \n",
    "\n",
    "    fig.add_subplot(gs[0,:])\n",
    "    temporalPlot(truept,len(truept),False)\n",
    "\n",
    "    temporalPlot(pt,len(pt),False)\n",
    "    plt.legend([\"True Value\",\"Recovered Value\"],loc=\"lower right\")\n",
    "    \n",
    "\n",
    "    fig.add_subplot(gs[2,0])\n",
    "    temporalResiduals(pt,truept)"
   ]
  },
  {
   "cell_type": "code",
   "execution_count": 98,
   "id": "5322b0c4-f355-4443-858b-242cb5ba3cd2",
   "metadata": {},
   "outputs": [],
   "source": [
    "def baseFrame(saveName,truedirectory,tempdirectory,frame):\n",
    "    trueFile = \"True_TransformedParameters.dat\"\n",
    "    [truePt,truePml] = readFile(truedirectory,trueFile)\n",
    "    # [truePt,truePml] = readFile(tempdirectory,frame - 10)\n",
    "    fig = plt.figure(figsize=(8,8),dpi = 200)\n",
    "\n",
    "    \n",
    "    \n",
    "    [pt,pml] = readFile(tempdirectory,frame)\n",
    "\n",
    "\n",
    "    baseComparisonPlot(fig,truePt,truePml,pt,pml,False)\n",
    "\n",
    "    # fig.tight_layout()\n",
    "    plt.savefig(saveName,bbox_inches='tight',transparent=False,facecolor='w',dpi=200)\n",
    "    plt.show()\n",
    "    fig.clf()\n",
    "    plt.close(fig)"
   ]
  },
  {
   "cell_type": "code",
   "execution_count": null,
   "id": "430e5252-6f40-4ea5-8ac1-40442783bd2f",
   "metadata": {},
   "outputs": [],
   "source": [
    "dataDir = \"../../../Data/TestSets/full/\"\n",
    "directory = \"../../../CodeOutput/TestRuns/full/\"\n",
    "final = \"FinalPosition_TransformedParameters.dat\"\n",
    "# ~ baseGif(\"test\",dataDir,directory,4,101,4)\n",
    "baseFrame(\"flat.png\",dataDir,directory,0)"
   ]
  },
  {
   "cell_type": "code",
   "execution_count": null,
   "id": "6e46919a-273d-47e7-bb78-a19ff0678d4d",
   "metadata": {},
   "outputs": [],
   "source": [
    "dataDir = \"../../../Data/TestSets/gaps/\"\n",
    "directory = \"../../../CodeOutput/TestRuns/gaps/\"\n",
    "final = \"FinalPosition_TransformedParameters.dat\"\n",
    "# ~ baseGif(\"test\",dataDir,directory,4,101,4)\n",
    "baseFrame(\"gaps.png\",dataDir,directory,final)"
   ]
  },
  {
   "cell_type": "code",
   "execution_count": null,
   "id": "0afa2b3f-7dcc-4cc4-80fb-ec16155ee717",
   "metadata": {},
   "outputs": [],
   "source": []
  }
 ],
 "metadata": {
  "kernelspec": {
   "display_name": "Python 3",
   "language": "python",
   "name": "python3"
  },
  "language_info": {
   "codemirror_mode": {
    "name": "ipython",
    "version": 3
   },
   "file_extension": ".py",
   "mimetype": "text/x-python",
   "name": "python",
   "nbconvert_exporter": "python",
   "pygments_lexer": "ipython3",
   "version": "3.6.9"
  }
 },
 "nbformat": 4,
 "nbformat_minor": 5
}
